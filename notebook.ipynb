{
 "cells": [
  {
   "cell_type": "code",
   "execution_count": 3,
   "metadata": {
    "collapsed": true
   },
   "outputs": [],
   "source": [
    "#required libraries : \n",
    "import pandas as pd  # dataframe structure\n",
    "import numpy as np  # array structure\n",
    "import seaborn as sns # visualization\n",
    "import matplotlib.pyplot as plt # plot\n",
    "import glob, os  # dealing with OS and Files, reading files etc \n",
    "import time\n",
    "from sklearn.metrics import classification_report, confusion_matrix\n",
    "from sklearn.model_selection import train_test_split\n",
    "from sklearn.metrics import accuracy_score, explained_variance_score\n",
    "import glob, os  # dealing with OS and Files, reading files etc \n",
    "from IPython.display import HTML, display\n",
    "import tabulate\n",
    "import pickle # saving model, data, etc : serialization\n",
    "from sklearn.metrics import mean_squared_error\n",
    "from math import sqrt\n",
    "import datetime\n",
    "import warnings\n",
    "warnings.filterwarnings('ignore')\n",
    "%matplotlib inline"
   ]
  },
  {
   "cell_type": "markdown",
   "metadata": {},
   "source": [
    "# Risque de fréquence d'accidents et le risk de gravité associé "
   ]
  },
  {
   "cell_type": "markdown",
   "metadata": {},
   "source": [
    "### Problématique : "
   ]
  },
  {
   "cell_type": "markdown",
   "metadata": {},
   "source": [
    "Dans ce notebook nous allons nous intéresser à étudier seulement l'impact de la configuration ou la description d'un lieu d'accident sur la fréquence et la gravité des accidents. \n",
    "\n",
    "Donc les objectifs sont :\n",
    "    1. de pouvoir élaborer un risque de fréquence d'accidents  en fonction d'une configuration donnée du lieu d'accident\n",
    "    2. de pouvoir élaborer un risque de gravité d'accidents en fonction d'une configuration donnée du lieu d'accident\n",
    "    \n",
    "L'ONISR peut déployer cette solution dans le but de prédire les risques associés à un nouvel aménagement ou trouver les configurations avec plus d'accidents et les aménager."
   ]
  },
  {
   "cell_type": "markdown",
   "metadata": {},
   "source": [
    "### Formalisation en Data Mining : "
   ]
  },
  {
   "cell_type": "markdown",
   "metadata": {},
   "source": [
    "#### Contraintes :"
   ]
  },
  {
   "cell_type": "markdown",
   "metadata": {},
   "source": [
    "Avant de commencer la traduction de la problématique en problème fouille de données, nous devons d'abord définir la variable cible. Pour cela nous allons créer lors de la phase de préparation des données deux variables :\n",
    "    1. Une variable qui va considérer le nombre d'accidents par configuration de route, puis discrétiser cette variable en deux niveaux\n",
    "    2. Une variable qui va considérer la  gravité des personnes impliqueés par configuration de route, puis discrétiser cette variable en deux niveaux"
   ]
  },
  {
   "cell_type": "markdown",
   "metadata": {},
   "source": [
    "#### Formalisation:"
   ]
  },
  {
   "cell_type": "markdown",
   "metadata": {},
   "source": [
    "Objectif 1 : Un modèle de classification -en utilisant les données à disposition- afin de calculer le risque associé à une configuration d'une route donnée.\n",
    "\n",
    "Objectif 2 : Un modèle de classification -en utilisant les données à disposition- afin de calculer le risque de gravité d'une route donnée."
   ]
  },
  {
   "cell_type": "markdown",
   "metadata": {},
   "source": [
    "# Méthode de travail : "
   ]
  },
  {
   "cell_type": "markdown",
   "metadata": {},
   "source": [
    "La méthode qui sera utilisé tout au long du projet est la méthode la plus populaire CRISP-DM dont le cycle de vie est présenté ci-dessus : "
   ]
  },
  {
   "cell_type": "markdown",
   "metadata": {},
   "source": [
    "![](crisp.PNG)"
   ]
  },
  {
   "cell_type": "markdown",
   "metadata": {},
   "source": [
    "Vu que nos objectifs nécessaitent les mêmes données, la même préparation et le même nettoyage nous allons suivre la méthode CRISP-DM pour les deux objectifs parallèlement. Avant de se lancer dans la compréhension du marché, nous allons élaborer d'abord notre plan de projet : "
   ]
  },
  {
   "cell_type": "code",
   "execution_count": 30,
   "metadata": {},
   "outputs": [
    {
     "data": {
      "text/html": [
       "<table>\n",
       "<tbody>\n",
       "<tr><td>Phase                    </td><td>Temps     </td><td>Ressources                                </td><td>Risques                                                           </td></tr>\n",
       "<tr><td>Compréhension du problème</td><td>1 semaine </td><td>tout le groupe                            </td><td>Changement économique                                             </td></tr>\n",
       "<tr><td>Compréhension des données</td><td>1 semaines</td><td>tout le groupe                            </td><td>Problèmes de données, problèmes technologiques                    </td></tr>\n",
       "<tr><td>Préparation des données  </td><td>3 semaines</td><td>tout le groupe                            </td><td>Problèmes de données, problèmes technologiques                    </td></tr>\n",
       "<tr><td>Modélisation             </td><td>1 semaines</td><td>tout le groupe                            </td><td>Problèmes technologiques, incapacité à trouver un modèle adéquat  </td></tr>\n",
       "<tr><td>Evaluation               </td><td>1 semaine </td><td>Encadrants, Hugo DARCHIS et Edouard LE COZ</td><td>incapacité à mettre en oeuvre les résultats                       </td></tr>\n",
       "<tr><td>Déploiement              </td><td>1 semaine </td><td>Riahi LOURIZ                              </td><td>Changement économique, incapacité à mettre en oeuvre les résultats</td></tr>\n",
       "</tbody>\n",
       "</table>"
      ],
      "text/plain": [
       "<IPython.core.display.HTML object>"
      ]
     },
     "metadata": {},
     "output_type": "display_data"
    }
   ],
   "source": [
    "table=[[\"Phase\",\t\"Temps\",\"Ressources\",\"Risques\"],\n",
    "       [\"Compréhension du problème\", \"1 semaine\",\"tout le groupe\",\"Changement économique\"],\n",
    "[\"Compréhension des données\",\"1 semaines\",\"tout le groupe\", \"Problèmes de données, problèmes technologiques\"],\n",
    "       [\"Préparation des données\",\"3 semaines\",\"tout le groupe\",\"Problèmes de données, problèmes technologiques\"],\n",
    "[\"Modélisation\" ,\"1 semaines\", \"tout le groupe\",\"Problèmes technologiques, incapacité à trouver un modèle adéquat\"],\n",
    "[\"Evaluation\", \"1 semaine\", \"Encadrants, Hugo DARCHIS et Edouard LE COZ\", \"incapacité à mettre en oeuvre les résultats\"],\n",
    "[\"Déploiement\",\"1 semaine\",\" Riahi LOURIZ\",\"Changement économique, incapacité à mettre en oeuvre les résultats\"]]\n",
    "display(HTML(tabulate.tabulate(table, tablefmt='html')))"
   ]
  },
  {
   "cell_type": "markdown",
   "metadata": {},
   "source": [
    "### Compréhension du marché "
   ]
  },
  {
   "cell_type": "markdown",
   "metadata": {},
   "source": [
    "reste à faire...."
   ]
  },
  {
   "cell_type": "markdown",
   "metadata": {},
   "source": [
    "### Compréhension des données \n"
   ]
  },
  {
   "cell_type": "markdown",
   "metadata": {},
   "source": [
    "Cette implique l'étude des données à disposition sur les accidents corporels en France. Cette étape a un poids important dans la méthode CRISP-DM car elle permet d'éviter les problèmes inattendues au cours de la phase de la préparation des données. Pour bien amener cette étape, nous allons suivre les étapes suivantes : "
   ]
  },
  {
   "cell_type": "markdown",
   "metadata": {},
   "source": [
    "##### A : Collecte des données initiales: "
   ]
  },
  {
   "cell_type": "markdown",
   "metadata": {},
   "source": [
    "###### Sources des données :"
   ]
  },
  {
   "cell_type": "markdown",
   "metadata": {},
   "source": [
    "Les données utilisées afin de répondre à nos problématiques ont été collectées depuis la plateforme ouvertes des données publiques françaises (Datagov). Ces données sont saisies et rassemblées dans une fiche intitulée bulletin d’analyse des accidents corporels. L’ensemble de ces fiches forme le fichier national des accidents corporels de la circulation dit Fichier BAAC administré par l’Observatoire national interministériel de la sécurité routière (ONISR).\n",
    "Les données sont fournies pour chaque année ( de 2005 à 2016) sous forme de\n",
    "quatre tables :"
   ]
  },
  {
   "cell_type": "markdown",
   "metadata": {},
   "source": [
    "1. La table <b>CARACTERISTIQUES</b> qui décrit les circonstances générales de\n",
    "l’accident\n",
    "2. La table <b>LIEUX</b> qui décrit le lieu principal de l’accident même si celui-ci s’est déroulé à une Intersection\n",
    "3. La table <b>VEHICULES</b> impliqués\n",
    "4. La table <b>USAGERS</b> impliqués"
   ]
  },
  {
   "cell_type": "markdown",
   "metadata": {},
   "source": [
    "Pour la définition des attributs de chaque table voir document PDF."
   ]
  },
  {
   "cell_type": "markdown",
   "metadata": {},
   "source": [
    "###### Attributs prometteurs : "
   ]
  },
  {
   "cell_type": "markdown",
   "metadata": {},
   "source": [
    "En se basant sur l'objectif fixé au début du notebook, nous allons lister les variables les plus intérresantes pour mener le reste de l'étude. Vu qu'on est intéressé sur l'impact de la configuration ou la description d'une route sur la fréquence et la gravité des accidents, alors nous allons choisir les variables suivantes (pour la siginification des variables veuillez référer au document PDF): "
   ]
  },
  {
   "cell_type": "code",
   "execution_count": 8,
   "metadata": {
    "collapsed": true
   },
   "outputs": [],
   "source": [
    "col_used=[ 'agg', 'int', 'catr', 'circ', 'nbv', 'vosp','prof', 'plan', 'lartpc','larrout', 'infra','situ', 'obs']"
   ]
  },
  {
   "cell_type": "markdown",
   "metadata": {},
   "source": [
    "###### Fusion des données :"
   ]
  },
  {
   "cell_type": "markdown",
   "metadata": {},
   "source": [
    "Les quatres tables  pour la période (2005-2016) doivent être rassemblés sur quatres tables : \n",
    "1. La table <b>CARACTERISTIQUES</b> sur toute la période 2005-2016\n",
    "2. La table <b>LIEUX</b>  sur toute la période 2005-2016\n",
    "3. La table <b>VEHICULES</b>  sur toute la période 2005-2016\n",
    "4. La table <b>USAGERS</b>  sur toute la période 2005-2016"
   ]
  },
  {
   "cell_type": "code",
   "execution_count": 11,
   "metadata": {
    "collapsed": true
   },
   "outputs": [],
   "source": [
    "path =r'dataset/caracteristiques' # path containing all csv files about caracteristiques (  use your own path)\n",
    "allFiles = glob.glob(path + \"/*.csv\")  # a list containing files names (all csv files)\n",
    "list_ = []\n",
    "for file_ in allFiles:\n",
    "    if '2009' in file_ :\n",
    "        df = pd.read_table(file_,encoding='latin-1') # read table file (file_) for year 2009\n",
    "        list_.append(df)  # append the the dataframe df to the lust list_\n",
    "    else : \n",
    "        df = pd.read_csv(file_,encoding='latin-1') # read csv file (file_)\n",
    "        list_.append(df)  # append the the dataframe df to the lust list_     \n",
    "        \n",
    "caracteristiques = pd.concat(list_)  # concat all dataframes existing in list_"
   ]
  },
  {
   "cell_type": "code",
   "execution_count": 12,
   "metadata": {
    "collapsed": true
   },
   "outputs": [],
   "source": [
    "path =r'dataset/usagers' \n",
    "allFiles = glob.glob(path + \"/*.csv\")\n",
    "frame = pd.DataFrame()\n",
    "list_ = []\n",
    "for file_ in allFiles:\n",
    "    df = pd.read_csv(file_,encoding='latin-1')\n",
    "    list_.append(df)\n",
    "usagers = pd.concat(list_)"
   ]
  },
  {
   "cell_type": "code",
   "execution_count": 13,
   "metadata": {},
   "outputs": [
    {
     "name": "stderr",
     "output_type": "stream",
     "text": [
      "C:\\Users\\rlouriz\\AppData\\Local\\Continuum\\anaconda3\\lib\\site-packages\\IPython\\core\\interactiveshell.py:2698: DtypeWarning: Columns (2) have mixed types. Specify dtype option on import or set low_memory=False.\n",
      "  interactivity=interactivity, compiler=compiler, result=result)\n"
     ]
    }
   ],
   "source": [
    "path =r'dataset/lieux' # use your path\n",
    "allFiles = glob.glob(path + \"/*.csv\")\n",
    "frame = pd.DataFrame()\n",
    "list_ = []\n",
    "for file_ in allFiles:\n",
    "    df = pd.read_csv(file_,encoding='latin-1')\n",
    "    list_.append(df)\n",
    "lieux = pd.concat(list_)"
   ]
  },
  {
   "cell_type": "code",
   "execution_count": 14,
   "metadata": {
    "collapsed": true
   },
   "outputs": [],
   "source": [
    "path =r'dataset/vehicules' # use your path\n",
    "allFiles = glob.glob(path + \"/*.csv\")\n",
    "frame = pd.DataFrame()\n",
    "list_ = []\n",
    "for file_ in allFiles:\n",
    "    df = pd.read_csv(file_,encoding='latin-1')\n",
    "    list_.append(df)\n",
    "vehicules = pd.concat(list_)"
   ]
  },
  {
   "cell_type": "markdown",
   "metadata": {},
   "source": [
    "###### Taille de données et contrainte pour les problématiques: "
   ]
  },
  {
   "cell_type": "markdown",
   "metadata": {},
   "source": [
    "La base de données contient un historique à partir de 2005 jusqu'au 2016, par conséquent on a suffisamment des données pour traiter nos problématiques"
   ]
  },
  {
   "cell_type": "markdown",
   "metadata": {},
   "source": [
    "##### B. Description des données"
   ]
  },
  {
   "cell_type": "markdown",
   "metadata": {},
   "source": [
    "Il exist plusieurs méthodes pour décrire les données, mais la plupart des descriptions sont axées sur la quantité et la qualité des données : le volume de données disponibles et l'état de ces données."
   ]
  },
  {
   "cell_type": "markdown",
   "metadata": {},
   "source": [
    "###### Quantité de données:"
   ]
  },
  {
   "cell_type": "code",
   "execution_count": 27,
   "metadata": {},
   "outputs": [
    {
     "name": "stdout",
     "output_type": "stream",
     "text": [
      "Info abour caracteristiques : \n",
      "<class 'pandas.core.frame.DataFrame'>\n",
      "Int64Index: 839985 entries, 0 to 59431\n",
      "Data columns (total 16 columns):\n",
      "Num_Acc    839985 non-null int64\n",
      "an         839985 non-null int64\n",
      "mois       839985 non-null int64\n",
      "jour       839985 non-null int64\n",
      "hrmn       839985 non-null int64\n",
      "lum        839985 non-null int64\n",
      "agg        839985 non-null int64\n",
      "int        839985 non-null int64\n",
      "atm        839930 non-null float64\n",
      "col        839974 non-null float64\n",
      "com        839983 non-null float64\n",
      "adr        699443 non-null object\n",
      "gps        366226 non-null object\n",
      "lat        362471 non-null float64\n",
      "long       362467 non-null object\n",
      "dep        839985 non-null int64\n",
      "dtypes: float64(4), int64(9), object(3)\n",
      "memory usage: 108.9+ MB\n",
      "----------------------------------------------------------\n",
      "----------------------------------------------------------\n",
      "Info abour lieux :\n",
      "<class 'pandas.core.frame.DataFrame'>\n",
      "Int64Index: 839985 entries, 0 to 59431\n",
      "Data columns (total 18 columns):\n",
      "Num_Acc    839985 non-null int64\n",
      "catr       839984 non-null float64\n",
      "voie       782753 non-null object\n",
      "v1         332816 non-null float64\n",
      "v2         33953 non-null object\n",
      "circ       839187 non-null float64\n",
      "nbv        838195 non-null float64\n",
      "pr         414770 non-null float64\n",
      "pr1        413463 non-null float64\n",
      "vosp       838345 non-null float64\n",
      "prof       838924 non-null float64\n",
      "plan       838909 non-null float64\n",
      "lartpc     830440 non-null float64\n",
      "larrout    831706 non-null float64\n",
      "surf       838968 non-null float64\n",
      "infra      838707 non-null float64\n",
      "situ       838983 non-null float64\n",
      "env1       838709 non-null float64\n",
      "dtypes: float64(15), int64(1), object(2)\n",
      "memory usage: 121.8+ MB\n",
      "----------------------------------------------------------\n",
      "----------------------------------------------------------\n",
      "Info abour vehicules :\n",
      "<class 'pandas.core.frame.DataFrame'>\n",
      "Int64Index: 1433389 entries, 0 to 101923\n",
      "Data columns (total 9 columns):\n",
      "Num_Acc    1433389 non-null int64\n",
      "senc       1433317 non-null float64\n",
      "catv       1433389 non-null int64\n",
      "occutc     1433389 non-null int64\n",
      "obs        1432627 non-null float64\n",
      "obsm       1432788 non-null float64\n",
      "choc       1433160 non-null float64\n",
      "manv       1433083 non-null float64\n",
      "num_veh    1433389 non-null object\n",
      "dtypes: float64(5), int64(3), object(1)\n",
      "memory usage: 109.4+ MB\n",
      "----------------------------------------------------------\n",
      "----------------------------------------------------------\n",
      "Info abour usagers :\n",
      "<class 'pandas.core.frame.DataFrame'>\n",
      "Int64Index: 1876005 entries, 0 to 133421\n",
      "Data columns (total 12 columns):\n",
      "Num_Acc    int64\n",
      "place      float64\n",
      "catu       int64\n",
      "grav       int64\n",
      "sexe       int64\n",
      "trajet     float64\n",
      "secu       float64\n",
      "locp       float64\n",
      "actp       float64\n",
      "etatp      float64\n",
      "an_nais    float64\n",
      "num_veh    object\n",
      "dtypes: float64(7), int64(4), object(1)\n",
      "memory usage: 186.1+ MB\n"
     ]
    }
   ],
   "source": [
    "# memory size for each table : \n",
    "print(\"Info abour caracteristiques : \")\n",
    "caracteristiques.info()\n",
    "print(\"----------------------------------------------------------\")\n",
    "print(\"----------------------------------------------------------\")\n",
    "print(\"Info abour lieux :\") \n",
    "lieux.info()\n",
    "print(\"----------------------------------------------------------\")\n",
    "print(\"----------------------------------------------------------\")\n",
    "print(\"Info abour vehicules :\")\n",
    "vehicules.info()\n",
    "print(\"----------------------------------------------------------\")\n",
    "print(\"----------------------------------------------------------\")\n",
    "print(\"Info abour usagers :\") \n",
    "usagers.info()\n"
   ]
  },
  {
   "cell_type": "code",
   "execution_count": 29,
   "metadata": {},
   "outputs": [
    {
     "name": "stdout",
     "output_type": "stream",
     "text": [
      "-----------Shape of our dataframes ---------------\n",
      "The shape of caracteristiques is : (839985, 16)\n",
      "The shape of lieux is : (839985, 18)\n",
      "The shape of vehicules is : (1433389, 9)\n",
      "The shape of usagers is : (1876005, 12)\n",
      "Count Missing Data (note that 0 means also a nan value but should be converted to nan later during cleaning stage)\n",
      "Total missing data in  caracteristiques is : 1569401\n",
      "Total missing data in  lieux is : 2250933\n",
      "Total missing data in  vehicules is : 1970\n",
      "Total missing data in  usagers is : 151687\n"
     ]
    }
   ],
   "source": [
    "print(\"-----------Shape of our dataframes ---------------\")\n",
    "print(\"The shape of caracteristiques is :\", caracteristiques.shape)\n",
    "print(\"The shape of lieux is :\", lieux.shape)\n",
    "print(\"The shape of vehicules is :\", vehicules.shape)\n",
    "print(\"The shape of usagers is :\", usagers.shape)\n",
    "print(\"Total Missing Data (note that 0 means also a nan value but should be converted to nan later during cleaning stage)\")\n",
    "print(\"Total missing data in  caracteristiques is :\", caracteristiques.isnull().sum().sum())\n",
    "print(\"Total missing data in  lieux is :\", lieux.isnull().sum().sum())\n",
    "print(\"Total missing data in  vehicules is :\", vehicules.isnull().sum().sum())\n",
    "print(\"Total missing data in  usagers is :\", usagers.isnull().sum().sum())"
   ]
  },
  {
   "cell_type": "markdown",
   "metadata": {},
   "source": [
    "###### Types de valeur : "
   ]
  },
  {
   "cell_type": "markdown",
   "metadata": {},
   "source": [
    "D'après la partie ci-dessus, nous remarquons très bien variables se présente sous un seul type, à savoir : numérique.\n",
    "\n",
    "Certes ce type n'est pas le seul présenté dans notre jeu de données car on a beaucoup de variables catégorielles  codées numériquement avec des entiers.\n",
    "\n"
   ]
  },
  {
   "cell_type": "markdown",
   "metadata": {},
   "source": [
    "###### Méthode de codage :"
   ]
  },
  {
   "cell_type": "markdown",
   "metadata": {},
   "source": [
    "la partie ci-dessus nous permet déjà de penser aux types de codage qui sera utilisé par la suite lors de la modélisation, soit on garde ce codage ou on va utiliser le <b>Hot encoding</b>"
   ]
  },
  {
   "cell_type": "markdown",
   "metadata": {},
   "source": [
    "##### C. Vérification de la qualité des données : "
   ]
  },
  {
   "cell_type": "markdown",
   "metadata": {},
   "source": [
    "Les données sont rarement présentées bien nettoyées. En fait, les données généralement contiennent des valeurs manquantes, des points aberrants, des erreurs de saisie etc. Le document définissant la base de données mentionne avec toute clarté qu'il aie des valeurs manquantes : \"La plupart des variables contenues dans les quatre fichiers précédemment énumérés peuvent contenir\n",
    "des cellules vides ou un zéro ou un point. Il s’agit, dans ces trois cas, d’une cellule non renseignée par\n",
    "les forces de l'ordre ou sans objet\""
   ]
  },
  {
   "cell_type": "markdown",
   "metadata": {},
   "source": [
    "Nous n'allons pas nettoyer les données à ce stade, mais cela sera une partie dans la préparation des données."
   ]
  },
  {
   "cell_type": "markdown",
   "metadata": {},
   "source": [
    "##### D. Exploration des données : "
   ]
  },
  {
   "cell_type": "markdown",
   "metadata": {},
   "source": [
    "Utiliser tableau pour visualiser les données ou simplement faire des table croisé ...."
   ]
  },
  {
   "cell_type": "markdown",
   "metadata": {},
   "source": [
    "### Préparation des données\n"
   ]
  },
  {
   "cell_type": "markdown",
   "metadata": {},
   "source": [
    "D'après l'effort qui a été consacré aux étapes précédentes, nous allons lister les principales tâches à faire lors de la préparation des données : "
   ]
  },
  {
   "cell_type": "markdown",
   "metadata": {},
   "source": [
    "- Fusion des quatres tables \n",
    "- Aggrégation des lignes selon les colonnes choisie pour la définition de la configuration d'une route.\n",
    "- Traitement des valeurs manquantes\n",
    "Les colonnes aggrégées sont : \n",
    "    1. Num_Acc (opération d'aggrégation est <b> count </b>) \n",
    "    2. grav (opération d'aggrégation est <b> value_counts</b>)\n",
    "    \n",
    "- Traitement des outliers\n",
    "- Feature engineering :  création de deux variables cibles qui vont mesurer le risk de fréquence d'accident et le score de gravité pour chaque configuration du lieu d'accident.\n",
    "- Fractionnement du jeu de données en train/test data"
   ]
  },
  {
   "cell_type": "markdown",
   "metadata": {},
   "source": [
    "###### Fusion des quatres tables : "
   ]
  },
  {
   "cell_type": "code",
   "execution_count": 45,
   "metadata": {
    "collapsed": true
   },
   "outputs": [],
   "source": [
    "# on merge caracteristiques et lieux puis on merge avec vehicules : \n",
    "carac_lieux_veh_merged=pd.merge(pd.merge(caracteristiques,lieux,on='Num_Acc'), vehicules,on='Num_Acc' )\n",
    "#on merge finalement avec usagers :\n",
    "data_merged=pd.merge(carac_lieux_veh_merged,usagers,on=['Num_Acc','num_veh'])"
   ]
  },
  {
   "cell_type": "code",
   "execution_count": 16,
   "metadata": {},
   "outputs": [
    {
     "data": {
      "text/html": [
       "<div>\n",
       "<style>\n",
       "    .dataframe thead tr:only-child th {\n",
       "        text-align: right;\n",
       "    }\n",
       "\n",
       "    .dataframe thead th {\n",
       "        text-align: left;\n",
       "    }\n",
       "\n",
       "    .dataframe tbody tr th {\n",
       "        vertical-align: top;\n",
       "    }\n",
       "</style>\n",
       "<table border=\"1\" class=\"dataframe\">\n",
       "  <thead>\n",
       "    <tr style=\"text-align: right;\">\n",
       "      <th></th>\n",
       "      <th>Num_Acc</th>\n",
       "      <th>an</th>\n",
       "      <th>mois</th>\n",
       "      <th>jour</th>\n",
       "      <th>hrmn</th>\n",
       "      <th>lum</th>\n",
       "      <th>agg</th>\n",
       "      <th>int</th>\n",
       "      <th>atm</th>\n",
       "      <th>col</th>\n",
       "      <th>...</th>\n",
       "      <th>place</th>\n",
       "      <th>catu</th>\n",
       "      <th>grav</th>\n",
       "      <th>sexe</th>\n",
       "      <th>trajet</th>\n",
       "      <th>secu</th>\n",
       "      <th>locp</th>\n",
       "      <th>actp</th>\n",
       "      <th>etatp</th>\n",
       "      <th>an_nais</th>\n",
       "    </tr>\n",
       "  </thead>\n",
       "  <tbody>\n",
       "    <tr>\n",
       "      <th>0</th>\n",
       "      <td>200500000001</td>\n",
       "      <td>5</td>\n",
       "      <td>1</td>\n",
       "      <td>12</td>\n",
       "      <td>1900</td>\n",
       "      <td>3</td>\n",
       "      <td>2</td>\n",
       "      <td>1</td>\n",
       "      <td>1.0</td>\n",
       "      <td>3.0</td>\n",
       "      <td>...</td>\n",
       "      <td>1.0</td>\n",
       "      <td>1</td>\n",
       "      <td>4</td>\n",
       "      <td>1</td>\n",
       "      <td>1.0</td>\n",
       "      <td>11.0</td>\n",
       "      <td>0.0</td>\n",
       "      <td>0.0</td>\n",
       "      <td>0.0</td>\n",
       "      <td>1976.0</td>\n",
       "    </tr>\n",
       "    <tr>\n",
       "      <th>1</th>\n",
       "      <td>200500000001</td>\n",
       "      <td>5</td>\n",
       "      <td>1</td>\n",
       "      <td>12</td>\n",
       "      <td>1900</td>\n",
       "      <td>3</td>\n",
       "      <td>2</td>\n",
       "      <td>1</td>\n",
       "      <td>1.0</td>\n",
       "      <td>3.0</td>\n",
       "      <td>...</td>\n",
       "      <td>1.0</td>\n",
       "      <td>1</td>\n",
       "      <td>3</td>\n",
       "      <td>2</td>\n",
       "      <td>3.0</td>\n",
       "      <td>11.0</td>\n",
       "      <td>0.0</td>\n",
       "      <td>0.0</td>\n",
       "      <td>0.0</td>\n",
       "      <td>1968.0</td>\n",
       "    </tr>\n",
       "    <tr>\n",
       "      <th>2</th>\n",
       "      <td>200500000001</td>\n",
       "      <td>5</td>\n",
       "      <td>1</td>\n",
       "      <td>12</td>\n",
       "      <td>1900</td>\n",
       "      <td>3</td>\n",
       "      <td>2</td>\n",
       "      <td>1</td>\n",
       "      <td>1.0</td>\n",
       "      <td>3.0</td>\n",
       "      <td>...</td>\n",
       "      <td>2.0</td>\n",
       "      <td>2</td>\n",
       "      <td>1</td>\n",
       "      <td>1</td>\n",
       "      <td>0.0</td>\n",
       "      <td>11.0</td>\n",
       "      <td>0.0</td>\n",
       "      <td>0.0</td>\n",
       "      <td>0.0</td>\n",
       "      <td>1964.0</td>\n",
       "    </tr>\n",
       "  </tbody>\n",
       "</table>\n",
       "<p>3 rows × 51 columns</p>\n",
       "</div>"
      ],
      "text/plain": [
       "        Num_Acc  an  mois  jour  hrmn  lum  agg  int  atm  col   ...    place  \\\n",
       "0  200500000001   5     1    12  1900    3    2    1  1.0  3.0   ...      1.0   \n",
       "1  200500000001   5     1    12  1900    3    2    1  1.0  3.0   ...      1.0   \n",
       "2  200500000001   5     1    12  1900    3    2    1  1.0  3.0   ...      2.0   \n",
       "\n",
       "  catu grav  sexe trajet  secu  locp actp  etatp an_nais  \n",
       "0    1    4     1    1.0  11.0   0.0  0.0    0.0  1976.0  \n",
       "1    1    3     2    3.0  11.0   0.0  0.0    0.0  1968.0  \n",
       "2    2    1     1    0.0  11.0   0.0  0.0    0.0  1964.0  \n",
       "\n",
       "[3 rows x 51 columns]"
      ]
     },
     "execution_count": 16,
     "metadata": {},
     "output_type": "execute_result"
    }
   ],
   "source": [
    "# show first and last 3 rows : \n",
    "data_merged.head(3)"
   ]
  },
  {
   "cell_type": "code",
   "execution_count": 17,
   "metadata": {},
   "outputs": [
    {
     "data": {
      "text/html": [
       "<div>\n",
       "<style>\n",
       "    .dataframe thead tr:only-child th {\n",
       "        text-align: right;\n",
       "    }\n",
       "\n",
       "    .dataframe thead th {\n",
       "        text-align: left;\n",
       "    }\n",
       "\n",
       "    .dataframe tbody tr th {\n",
       "        vertical-align: top;\n",
       "    }\n",
       "</style>\n",
       "<table border=\"1\" class=\"dataframe\">\n",
       "  <thead>\n",
       "    <tr style=\"text-align: right;\">\n",
       "      <th></th>\n",
       "      <th>Num_Acc</th>\n",
       "      <th>an</th>\n",
       "      <th>mois</th>\n",
       "      <th>jour</th>\n",
       "      <th>hrmn</th>\n",
       "      <th>lum</th>\n",
       "      <th>agg</th>\n",
       "      <th>int</th>\n",
       "      <th>atm</th>\n",
       "      <th>col</th>\n",
       "      <th>...</th>\n",
       "      <th>place</th>\n",
       "      <th>catu</th>\n",
       "      <th>grav</th>\n",
       "      <th>sexe</th>\n",
       "      <th>trajet</th>\n",
       "      <th>secu</th>\n",
       "      <th>locp</th>\n",
       "      <th>actp</th>\n",
       "      <th>etatp</th>\n",
       "      <th>an_nais</th>\n",
       "    </tr>\n",
       "  </thead>\n",
       "  <tbody>\n",
       "    <tr>\n",
       "      <th>1875980</th>\n",
       "      <td>201600059432</td>\n",
       "      <td>16</td>\n",
       "      <td>12</td>\n",
       "      <td>24</td>\n",
       "      <td>635</td>\n",
       "      <td>1</td>\n",
       "      <td>2</td>\n",
       "      <td>6</td>\n",
       "      <td>1.0</td>\n",
       "      <td>3.0</td>\n",
       "      <td>...</td>\n",
       "      <td>1.0</td>\n",
       "      <td>1</td>\n",
       "      <td>4</td>\n",
       "      <td>1</td>\n",
       "      <td>3.0</td>\n",
       "      <td>21.0</td>\n",
       "      <td>0.0</td>\n",
       "      <td>0.0</td>\n",
       "      <td>0.0</td>\n",
       "      <td>1967.0</td>\n",
       "    </tr>\n",
       "    <tr>\n",
       "      <th>1875981</th>\n",
       "      <td>201600059432</td>\n",
       "      <td>16</td>\n",
       "      <td>12</td>\n",
       "      <td>24</td>\n",
       "      <td>635</td>\n",
       "      <td>1</td>\n",
       "      <td>2</td>\n",
       "      <td>6</td>\n",
       "      <td>1.0</td>\n",
       "      <td>3.0</td>\n",
       "      <td>...</td>\n",
       "      <td>2.0</td>\n",
       "      <td>2</td>\n",
       "      <td>4</td>\n",
       "      <td>1</td>\n",
       "      <td>0.0</td>\n",
       "      <td>21.0</td>\n",
       "      <td>0.0</td>\n",
       "      <td>0.0</td>\n",
       "      <td>0.0</td>\n",
       "      <td>1967.0</td>\n",
       "    </tr>\n",
       "    <tr>\n",
       "      <th>1875982</th>\n",
       "      <td>201600059432</td>\n",
       "      <td>16</td>\n",
       "      <td>12</td>\n",
       "      <td>24</td>\n",
       "      <td>635</td>\n",
       "      <td>1</td>\n",
       "      <td>2</td>\n",
       "      <td>6</td>\n",
       "      <td>1.0</td>\n",
       "      <td>3.0</td>\n",
       "      <td>...</td>\n",
       "      <td>1.0</td>\n",
       "      <td>1</td>\n",
       "      <td>1</td>\n",
       "      <td>1</td>\n",
       "      <td>0.0</td>\n",
       "      <td>11.0</td>\n",
       "      <td>0.0</td>\n",
       "      <td>0.0</td>\n",
       "      <td>0.0</td>\n",
       "      <td>1981.0</td>\n",
       "    </tr>\n",
       "  </tbody>\n",
       "</table>\n",
       "<p>3 rows × 51 columns</p>\n",
       "</div>"
      ],
      "text/plain": [
       "              Num_Acc  an  mois  jour  hrmn  lum  agg  int  atm  col   ...    \\\n",
       "1875980  201600059432  16    12    24   635    1    2    6  1.0  3.0   ...     \n",
       "1875981  201600059432  16    12    24   635    1    2    6  1.0  3.0   ...     \n",
       "1875982  201600059432  16    12    24   635    1    2    6  1.0  3.0   ...     \n",
       "\n",
       "         place catu grav  sexe trajet  secu  locp actp  etatp an_nais  \n",
       "1875980    1.0    1    4     1    3.0  21.0   0.0  0.0    0.0  1967.0  \n",
       "1875981    2.0    2    4     1    0.0  21.0   0.0  0.0    0.0  1967.0  \n",
       "1875982    1.0    1    1     1    0.0  11.0   0.0  0.0    0.0  1981.0  \n",
       "\n",
       "[3 rows x 51 columns]"
      ]
     },
     "execution_count": 17,
     "metadata": {},
     "output_type": "execute_result"
    }
   ],
   "source": [
    "data_merged.tail(3)"
   ]
  },
  {
   "cell_type": "code",
   "execution_count": 41,
   "metadata": {
    "collapsed": true
   },
   "outputs": [],
   "source": [
    "#save data_merged to csv file : \n",
    "data_merged.to_csv('score-analysis/data_merged.csv', index=False)"
   ]
  },
  {
   "cell_type": "markdown",
   "metadata": {},
   "source": [
    "###### Traitement des valeurs manquantes : "
   ]
  },
  {
   "cell_type": "markdown",
   "metadata": {},
   "source": [
    "Nous n'allons imputer que les variables qui nous intéresse qui sont définie dans la liste <b>col_used</b>"
   ]
  },
  {
   "cell_type": "code",
   "execution_count": 9,
   "metadata": {},
   "outputs": [
    {
     "name": "stdout",
     "output_type": "stream",
     "text": [
      "['agg', 'int', 'catr', 'circ', 'nbv', 'vosp', 'prof', 'plan', 'lartpc', 'larrout', 'infra', 'situ', 'obs']\n"
     ]
    }
   ],
   "source": [
    "#rappel : \n",
    "print(col_used)"
   ]
  },
  {
   "cell_type": "markdown",
   "metadata": {},
   "source": [
    "Traiter les valeurs maquantes revient à savoir les mécanismes dérier (MAR, MCAR, MNAR)"
   ]
  },
  {
   "cell_type": "markdown",
   "metadata": {},
   "source": [
    "Une carte de chaleur de corrélation (<b>heatmap correlation</b> simple est montrée ci-dessous. Cette carte décrit le degré de relation de nullité entre les différentes caractéristiques. La plage de cette corrélation de nullité va de -1 à 1 (-1 ≤ R ≤ 1). Les variables sans valeur manquante sont exclues du heatmap. Si la corrélation de nullité est très proche de zéro (-0,05 <R <0,05) (par exemple: catr vs catr), aucune valeur ne sera affichée. En outre, une corrélation de nullité positive parfaite (R = 1) indique que la première variable et la deuxième variable ont toutes les deux des valeurs manquantes correspondantes (MAR) alors qu'une corrélation de nullité négative parfaite (R = -1) signifie que l'une des variables est manquante alors que  la seconde ne l'est pas (MNAR)."
   ]
  },
  {
   "cell_type": "code",
   "execution_count": 6,
   "metadata": {},
   "outputs": [
    {
     "data": {
      "image/png": "[encoded data removed]",
      "text/plain": [
       "<matplotlib.figure.Figure at 0x20004a0f940>"
      ]
     },
     "metadata": {},
     "output_type": "display_data"
    }
   ],
   "source": [
    "msno.heatmap(data_merged.loc[:,col_used])\n"
   ]
  },
  {
   "cell_type": "markdown",
   "metadata": {},
   "source": [
    "Le heatmap nous permet de conclure quant à la méthode d'imputation qui doit être utilisée. Cette méthode ne doit pas être stationnaire (imputation par le mode (variables catégorielles) ou la moyenne (variables numériques) car on n'est pas face à un phénomène MCAR, et donc une supression des lignes correspondant aux valeurs manquantes baisera les résultats."
   ]
  },
  {
   "cell_type": "markdown",
   "metadata": {},
   "source": [
    "Cependant les données présentent des variables de différents types et les méthodes qui sont utilisées pour l'imputation des valeurs manquantes gérent mieux que les valeurs numériques comme <b>fancyimpute</b> et <b>MICE</b> (Multiple Imputation by Chained Equations)"
   ]
  },
  {
   "cell_type": "markdown",
   "metadata": {},
   "source": [
    "Par conséquent nous allons opter pour un algorithme qui traitent les valeurs manquantes d'une façon interne. On va choisir <b>xgboost</b> qui traitent les valeurs manquantes d'une telle façon à minimiser la fonction de coût qui lui est propore."
   ]
  },
  {
   "cell_type": "markdown",
   "metadata": {},
   "source": [
    "Ceci nous finit pas cette partie, car dans le jeu de données il n'a pas que des nan qui impliquent une valeur manquantes mais aussi des 0 ou enore des cases vides."
   ]
  },
  {
   "cell_type": "markdown",
   "metadata": {},
   "source": [
    "###### Aggrégation"
   ]
  },
  {
   "cell_type": "markdown",
   "metadata": {},
   "source": [
    "Cette partie a pour objectif d'agréger les données préparées selon les attributs prometteurs. La variable à agréger est \"grave\" et \"Num Acc\"."
   ]
  },
  {
   "cell_type": "markdown",
   "metadata": {},
   "source": [
    "Cette aggrégation sera fait sur deux jeu de données : train et test.\n",
    "\n",
    "le jeu de données du test sera la région Bretagne  et le jeu de données du train sera le reste de la France."
   ]
  },
  {
   "cell_type": "markdown",
   "metadata": {},
   "source": [
    "<mark>Split en train/test : </mark>"
   ]
  },
  {
   "cell_type": "code",
   "execution_count": 46,
   "metadata": {
    "collapsed": true
   },
   "outputs": [],
   "source": [
    "data_merged.long=data_merged.long.replace('-',np.nan)  # replace - into nan values\n",
    "data_merged.long=data_merged.long.astype(float)   # change type of long to be float "
   ]
  },
  {
   "cell_type": "code",
   "execution_count": 47,
   "metadata": {
    "collapsed": true
   },
   "outputs": [],
   "source": [
    "# normaliser les coordonnéés  :\n",
    "data_merged.long=data_merged.long/100000\n",
    "data_merged.lat=data_merged.lat/100000"
   ]
  },
  {
   "cell_type": "code",
   "execution_count": 48,
   "metadata": {
    "collapsed": true
   },
   "outputs": [],
   "source": [
    "#bretagne :\n",
    "long_min=-4.793000\n",
    "long_max=-0.880750\n",
    "lat_max=48.998600\n",
    "lat_min=47.300030\n",
    "\n",
    "bretagne=data_merged.loc[((data_merged.long <= long_max )&(data_merged.long >= long_min)),:]\n",
    "bretagne=bretagne.loc[((bretagne.lat <=lat_max)&(bretagne.lat >= lat_min)),:]\n",
    "\n",
    "#france : \n",
    "france=data_merged.loc[~((data_merged.long<long_max)&(data_merged.long> long_min)),:]\n",
    "france=france.loc[~((france.lat<lat_max )&(france.lat> lat_min)),:]"
   ]
  },
  {
   "cell_type": "code",
   "execution_count": 50,
   "metadata": {
    "collapsed": true
   },
   "outputs": [],
   "source": [
    "#group by operation followed by value_couts upon grav variable\n",
    "#--------------------------------France---------------------------\n",
    "#group by for france data : \n",
    "france_grouped=france.groupby([ 'agg', 'int', 'catr', 'circ', 'nbv', 'vosp','prof', \n",
    "                                  'plan', 'lartpc','larrout', 'infra','situ', 'obs']).grav.value_counts()\n",
    "france_grouped = france_grouped.rename(columns={'grav': 'nb_grav'})\n",
    "#create dataframe by reseting index : \n",
    "france_grouped=france_grouped.reset_index()\n",
    "france_grouped=france_grouped.rename(columns={0:'nb_grav'})\n",
    "\n",
    "\n",
    "#-----------------------------Bretagne ----------------------------\n",
    "#group by for bretagne data : \n",
    "bretagne_grouped=bretagne.groupby([ 'agg', 'int', 'catr', 'circ', 'nbv', 'vosp','prof', \n",
    "                                  'plan', 'lartpc','larrout', 'infra','situ', 'obs']).grav.value_counts()\n",
    "bretagne_grouped = bretagne_grouped.rename(columns={'grav': 'nb_grav'}) # rename aggregated column\n",
    "#create dataframe by reseting index : \n",
    "bretagne_grouped=bretagne_grouped.reset_index()\n",
    "bretagne_grouped=bretagne_grouped.rename(columns={0:'nb_grav'})"
   ]
  },
  {
   "cell_type": "markdown",
   "metadata": {},
   "source": [
    " <b><mark>Création de nouveau d'attributs :</mark></b> ces attributs vont nous permettre de calculer le score de gravité d'une configuration donnée du lieu d'accident."
   ]
  },
  {
   "cell_type": "code",
   "execution_count": 54,
   "metadata": {
    "collapsed": true
   },
   "outputs": [],
   "source": [
    "#---------------------France ----------------------\n",
    "france_grouped['indemne']=0  # 1\n",
    "france_grouped['tue']=0  # 2 \n",
    "france_grouped['hospitalisé']=0  # 3\n",
    "france_grouped['blessé']=0  # 4 \n",
    "#----------------------Bretagbe \n",
    "bretagne_grouped['indemne']=0  # 1\n",
    "bretagne_grouped['tue']=0  # 2 \n",
    "bretagne_grouped['hospitalisé']=0  # 3\n",
    "bretagne_grouped['blessé']=0  # 4 "
   ]
  },
  {
   "cell_type": "code",
   "execution_count": 15,
   "metadata": {
    "collapsed": true
   },
   "outputs": [],
   "source": [
    "#fill in new attributs : \n",
    "#------------------France ---------------------\n",
    "for i in range(france_grouped.shape[0]):\n",
    "    if france_grouped.loc[i,'grav']==1 :\n",
    "        france_grouped.loc[i,'indemne']=france_grouped.loc[i,'nb_grav']\n",
    "    elif france_grouped.loc[i,'grav']==2 :\n",
    "        france_grouped.loc[i,'tue']=france_grouped.loc[i,'nb_grav']\n",
    "    elif france_grouped.loc[i,'grav']==3 :\n",
    "        france_grouped.loc[i,'hospitalisé']=france_grouped.loc[i,'nb_grav']\n",
    "    else :\n",
    "        france_grouped.loc[i,'blessé']=france_grouped.loc[i,'nb_grav']\n",
    "        \n",
    "        \n",
    "#------------------Bretagne---------------------\n",
    "for i in range(france_grouped.shape[0]):\n",
    "    if bretagne_grouped.loc[i,'grav']==1 :\n",
    "        bretagne_grouped.loc[i,'indemne']=bretagne_grouped.loc[i,'nb_grav']\n",
    "    elif bretagne_grouped.loc[i,'grav']==2 :\n",
    "        bretagne_grouped.loc[i,'tue']=bretagne_grouped.loc[i,'nb_grav']\n",
    "    elif bretagne_grouped.loc[i,'grav']==3 :\n",
    "        bretagne_grouped.loc[i,'hospitalisé']=bretagne_grouped.loc[i,'nb_grav']\n",
    "    else :\n",
    "        bretagne_grouped.loc[i,'blessé']=bretagne_grouped.loc[i,'nb_grav']\n",
    "        "
   ]
  },
  {
   "cell_type": "code",
   "execution_count": 16,
   "metadata": {
    "collapsed": true
   },
   "outputs": [],
   "source": [
    "#aggregate the last 5 columns to have one row per description of road :\n",
    "#--------------------------------------France-----------------------------------------------------------------\n",
    "df_france=france_grouped.groupby([ 'agg', 'int', 'catr', 'circ', 'nbv', 'vosp','prof', 'plan', 'lartpc',\n",
    "                   'larrout', 'infra','situ', 'obs']).agg({'indemne':['sum'],'tue':['sum'],\n",
    "                                                                  'hospitalisé':['sum'],'blessé':['sum']})\n",
    "# create data frame\n",
    "df_france=df_france.reset_index()\n",
    "#rename columns\n",
    "col_names=['agg','int','catr','circ', 'nbv', 'vosp', 'prof','plan','lartpc','larrout',\n",
    " 'infra','situ', 'obs','indemne','tue','hospitalisé','blessé']\n",
    "df_france.columns=col_names\n",
    "#---------------------------------------Bretagne---------------------------------------------------------------\n",
    "df_bretagne=bretagne_grouped.groupby([ 'agg', 'int', 'catr', 'circ', 'nbv', 'vosp','prof', 'plan', 'lartpc',\n",
    "                   'larrout', 'infra','situ', 'obs']).agg({'indemne':['sum'],'tue':['sum'],\n",
    "                                                                  'hospitalisé':['sum'],'blessé':['sum']})\n",
    "# create data frame\n",
    "df_bretagne=df_bretagne.reset_index()\n",
    "#rename columns\n",
    "col_names=['agg','int','catr','circ', 'nbv', 'vosp', 'prof','plan','lartpc','larrout',\n",
    " 'infra','situ', 'obs','indemne','tue','hospitalisé','blessé']\n",
    "df_bretagne.columns=col_names"
   ]
  },
  {
   "cell_type": "code",
   "execution_count": 21,
   "metadata": {
    "collapsed": true
   },
   "outputs": [],
   "source": [
    "#aggregate data for Num_Acc\n",
    "#-------------France ------------------------\n",
    "res_france=france.groupby(['agg', 'int', 'catr', 'circ', 'nbv', 'vosp','prof', 'plan', 'lartpc',\n",
    "                   'larrout', 'infra','situ', 'obs']).agg({'Num_Acc':['count']})\n",
    "\n",
    "#create dataframe :\n",
    "res_france=res_france.reset_index()\n",
    "#rename columns\n",
    "col_france=['agg','int','catr','circ', 'nbv', 'vosp', 'prof','plan','lartpc','larrout',\n",
    " 'infra','situ', 'obs','nb_acc']\n",
    "res_france.columns=col_france\n",
    "#-------------------bretagne\n",
    "res_bretagne=bretagne.groupby(['agg', 'int', 'catr', 'circ', 'nbv', 'vosp','prof', 'plan', 'lartpc',\n",
    "                   'larrout', 'infra','situ', 'obs']).agg({'Num_Acc':['count']})\n",
    "#create dataframe :\n",
    "res_bretagne=res_bretagne.reset_index()\n",
    "#rename columns\n",
    "res_bretagne.columns=col_france"
   ]
  },
  {
   "cell_type": "code",
   "execution_count": 24,
   "metadata": {
    "collapsed": true
   },
   "outputs": [],
   "source": [
    "#add nb_acc to df  to represent the seconde column that will allow us to compute risk of accident frequence\n",
    "#-------------------France ---------------\n",
    "df_france['nb_acc'] = res_france['nb_acc']\n",
    "\n",
    "#---------------Bretagne-----------------\n",
    "df_bratgne['nb_acc']=res_bretagne['nb_acc']"
   ]
  },
  {
   "cell_type": "code",
   "execution_count": 41,
   "metadata": {
    "collapsed": true
   },
   "outputs": [],
   "source": [
    "#save data to csv file :\n",
    "df_france.to_csv('score-analysis/df_france.csv',index=False)\n",
    "df_bretagne.to_csv('score-analysis/df_bretagne.csv',index=False)"
   ]
  },
  {
   "cell_type": "code",
   "execution_count": 56,
   "metadata": {
    "collapsed": true
   },
   "outputs": [],
   "source": [
    "df_france=pd.read_csv('score-analysis/df_france.csv', encoding='latin-1')\n",
    "df_bretagne=pd.read_csv('score-analysis/df_bretagne.csv', encoding='latin-1')"
   ]
  },
  {
   "cell_type": "markdown",
   "metadata": {},
   "source": [
    "###### Feature engineering"
   ]
  },
  {
   "cell_type": "markdown",
   "metadata": {},
   "source": [
    "Nous allons maintenant créer deux variables cibles : \n",
    "    1. score d'accident: une score qui prend en considération la variable nb_acc (nombre d'accidents par configuration de route)\n",
    "    2. score de gravité : un score qui prend en considération les 4 variables 'indemne','tue','hospitalisé' et 'blessé'.\n",
    "    \n",
    "Un score élevé signifie que la configuration de la route est très dangereuse."
   ]
  },
  {
   "cell_type": "markdown",
   "metadata": {},
   "source": [
    "On voit très bien la difficulté de créer ces score. L'objectif est de trouver pour chaque score une fonction f(.) qui va fournir ce score."
   ]
  },
  {
   "cell_type": "markdown",
   "metadata": {},
   "source": [
    "<mark>Proposition</mark> "
   ]
  },
  {
   "cell_type": "code",
   "execution_count": 59,
   "metadata": {
    "collapsed": true
   },
   "outputs": [],
   "source": [
    "# score d'accident : \n",
    "#-----------------France---------------------\n",
    "df_france['sc_acc'] =(df_france.nb_acc-df_france.nb_acc.min())/(df_france.nb_acc.max()-df_france.nb_acc.min())\n",
    "# score de gravité : \n",
    "df_france['sc_grav'] =( df_france['indemne'] + (df_france['blessé'] * np.exp(1)) +\n",
    "                                   (df_france['hospitalisé'] * np.exp(2)) + (df_france['tue'] * np.exp(3)))\n",
    "#normalize sc_grav\n",
    "df_france['sc_grav_norm']=(df_france.sc_grav)/(df_france.sc_grav.max())\n",
    "# create two levels for sc_grav_norm\n",
    "df_france['risk_gravity']=1\n",
    "df_france.loc[((df_france['sc_grav_norm']<=df_france.sc_grav_norm.describe()['50%'])),'risk_gravity']=1\n",
    "df_france.loc[((df_france['sc_grav_norm']>df_france.sc_grav_norm.describe()['50%'])),'risk_gravity']=2\n",
    "#create two levels for risk_frequency : \n",
    "df_france['risk_frequence']=1\n",
    "df_france.loc[((df_france['sc_acc']<=df_france.sc_acc.describe()['50%'])),'risk_frequence']=1\n",
    "df_france.loc[((df_france['sc_acc']>df_france.sc_acc.describe()['50%'])),'risk_frequence']=2\n",
    "\n",
    "#-----------------Bretagne---------------------\n",
    "df_bretagne['sc_acc'] =(df_bretagne.nb_acc-df_bretagne.nb_acc.min())/(df_bretagne.nb_acc.max()-df_bretagne.nb_acc.min())\n",
    "# score de gravité : \n",
    "df_bretagne['sc_grav'] =( df_bretagne['indemne'] + (df_bretagne['blessé'] * np.exp(1)) +\n",
    "                                   (df_bretagne['hospitalisé'] * np.exp(2)) + (df_bretagne['tue'] * np.exp(3)))\n",
    "#normalize sc_grav\n",
    "df_bretagne['sc_grav_norm']=(df_bretagne.sc_grav)/(df_bretagne.sc_grav.max())\n",
    "# create two levels for sc_grav_norm\n",
    "df_bretagne['risk_gravity']=1\n",
    "df_bretagne.loc[((df_bretagne['sc_grav_norm']<=df_bretagne.sc_grav_norm.describe()['50%'])),'risk_gravity']=1\n",
    "df_bretagne.loc[((df_bretagne['sc_grav_norm']>df_bretagne.sc_grav_norm.describe()['50%'])),'risk_gravity']=2\n",
    "#create two levels for risk_frequency : \n",
    "df_bretagne['risk_frequence']=1\n",
    "df_bretagne.loc[((df_bretagne['sc_acc']<=df_bretagne.sc_acc.describe()['50%'])),'risk_frequence']=1\n",
    "df_bretagne.loc[((df_bretagne['sc_acc']>df_bretagne.sc_acc.describe()['50%'])),'risk_frequence']=2"
   ]
  },
  {
   "cell_type": "code",
   "execution_count": 108,
   "metadata": {
    "collapsed": true
   },
   "outputs": [],
   "source": [
    "#last preparation : \n",
    "#-----------France ------------------------\n",
    "df_france.loc[df_france['lartpc']>10,'lartpc']=10\n",
    "df_france.loc[df_france['larrout']>74,'larrout']=74\n",
    "df_france.loc[df_france['nbv']>9,'nbv']=8\n",
    "df_france.loc[:,'larrout']=df_france.loc[:,'larrout'].replace(-81,75)\n",
    "df_france.loc[:,'larrout']=10*(df_france.larrout-df_france.larrout.min())/(df_france.larrout.max()-df_france.larrout.min())\n",
    "\n",
    "#--------------Bretagne\n",
    "df_bretagne.loc[df_bretagne['lartpc']>10,'lartpc']=10\n",
    "df_bretagne.loc[df_bretagne['larrout']>74,'larrout']=74\n",
    "df_bretagne.loc[df_bretagne['nbv']>9,'nbv']=8\n",
    "df_bretagne.loc[:,'larrout']=df_bretagne.loc[:,'larrout'].replace(-81,75)\n",
    "df_bretagne.loc[:,'larrout']=10*(df_bretagne.larrout-df_bretagne.larrout.min())/(df_bretagne.larrout.max()-df_bretagne.larrout.min())"
   ]
  },
  {
   "cell_type": "code",
   "execution_count": 109,
   "metadata": {
    "collapsed": true
   },
   "outputs": [],
   "source": [
    "#save data to csv file :\n",
    "df_france.to_csv('score-analysis/df_france.csv',index=False)\n",
    "df_bretagne.to_csv('score-analysis/df_bretagne.csv',index=False)"
   ]
  },
  {
   "cell_type": "code",
   "execution_count": 4,
   "metadata": {},
   "outputs": [],
   "source": [
    "df_france=pd.read_csv('score-analysis/df_france.csv', encoding='latin-1')\n",
    "df_bretagne=pd.read_csv('score-analysis/df_bretagne.csv', encoding='latin-1')"
   ]
  },
  {
   "cell_type": "markdown",
   "metadata": {},
   "source": [
    "## Modélisation & Evaluation\n"
   ]
  },
  {
   "cell_type": "markdown",
   "metadata": {},
   "source": [
    "### KNN : KNeighborsClassifier"
   ]
  },
  {
   "cell_type": "markdown",
   "metadata": {},
   "source": [
    "L'algorithme KNN est un classificateur robuste et polyvalent qui est souvent utilisé comme référence pour des classificateurs plus complexes tels que les réseaux neuronaux artificiels (ANN) et les SVM. Malgré sa simplicité, KNN peut surpasser les classificateurs plus puissants et est utilisé dans une variété d'applications telles que la prévision économique, la compression de données et la génétique."
   ]
  },
  {
   "cell_type": "markdown",
   "metadata": {},
   "source": [
    "#### Formalisation de l'algorithme:"
   ]
  },
  {
   "cell_type": "markdown",
   "metadata": {},
   "source": [
    "Commençons par établir des définitions et des notations. Nous utiliserons x pour désigner une variable indépendente (feature predictor, attribut) et y pour désigner la cible (label, class) que nous essayons de prédire."
   ]
  },
  {
   "cell_type": "markdown",
   "metadata": {},
   "source": [
    "KNN tombe dans la famille d'algorithmes d'apprentissage supervisé. De manière informelle, cela signifie que nous recevons un ensemble de données étiqueté contenant des observations d'entraînement (x, y) et que nous souhaitons capturer la relation entre x et y. Plus formellement, notre but est d'apprendre une fonction h: X → Y qui, étant donné une observation invisible x, h(x) peut prédire avec confiance la sortie y correspondante."
   ]
  },
  {
   "cell_type": "markdown",
   "metadata": {},
   "source": [
    "Le classificateur KNN est également un algorithme d'apprentissage non paramétrique et basé sur l'instance (instance based)"
   ]
  },
  {
   "cell_type": "markdown",
   "metadata": {},
   "source": [
    "<b>Non-paramétrique</b> :  signifie qu'il ne fait aucune supposition explicite sur la forme fonctionnelle de h, évitant les dangers de ne pas bien modéliser la distribution sous-jacente des données. Par exemple, supposons que nos données soient hautement non gaussiennes mais le modèle d'apprentissage que nous choisissons suppose une forme gaussienne. Dans ce cas, notre algorithme ferait des prédictions extrêmement pauvres."
   ]
  },
  {
   "cell_type": "markdown",
   "metadata": {},
   "source": [
    "<b>L'apprentissage par instance</b> : signifie que notre algorithme n'apprend pas explicitement un modèle. Au lieu de cela, il choisit de mémoriser les instances d'entraînement qui sont ensuite utilisées comme «connaissances» pour la phase de prédiction. Concrètement, cela signifie que seulement quand une requête à notre base de données est faite (c'est-à-dire quand nous lui demandons de prédire une étiquette donnée une entrée), l'algorithme utilisera-t-il les instances de formation pour trouver une réponse."
   ]
  },
  {
   "cell_type": "markdown",
   "metadata": {},
   "source": [
    "##### KNN mathématiquement: "
   ]
  },
  {
   "cell_type": "markdown",
   "metadata": {},
   "source": [
    "voir lien ( à faire dans le rapport)"
   ]
  },
  {
   "cell_type": "markdown",
   "metadata": {},
   "source": [
    "###### Equilibre des modalités dans la classe:"
   ]
  },
  {
   "cell_type": "code",
   "execution_count": 12,
   "metadata": {},
   "outputs": [
    {
     "data": {
      "text/plain": [
       "1    0.510543\n",
       "2    0.489457\n",
       "Name: risk_gravity, dtype: float64"
      ]
     },
     "execution_count": 12,
     "metadata": {},
     "output_type": "execute_result"
    }
   ],
   "source": [
    "#train data : \n",
    "df_france.risk_gravity.value_counts()/df_france.shape[0] #===> balanced data so accuracy as performance measure"
   ]
  },
  {
   "cell_type": "code",
   "execution_count": 13,
   "metadata": {},
   "outputs": [
    {
     "data": {
      "text/plain": [
       "1    0.604974\n",
       "2    0.395026\n",
       "Name: risk_gravity, dtype: float64"
      ]
     },
     "execution_count": 13,
     "metadata": {},
     "output_type": "execute_result"
    }
   ],
   "source": [
    "df_bretagne.risk_gravity.value_counts()/df_bretagne.shape[0] #===> balanced data so accuracy as performance measure"
   ]
  },
  {
   "cell_type": "markdown",
   "metadata": {},
   "source": [
    "On peut dire que la distribution  est la même pour la variable cible dans les deux jeu de données."
   ]
  },
  {
   "cell_type": "markdown",
   "metadata": {},
   "source": [
    "###### Valeur de départ pour K"
   ]
  },
  {
   "cell_type": "code",
   "execution_count": 14,
   "metadata": {},
   "outputs": [
    {
     "data": {
      "text/plain": [
       "257.04522948306197"
      ]
     },
     "execution_count": 14,
     "metadata": {},
     "output_type": "execute_result"
    }
   ],
   "source": [
    "# ne doit pas être paire\n",
    "np.sqrt(df_france.shape[0])/2\n",
    "#on choisit alors 257 qui est bien sûre impair"
   ]
  },
  {
   "cell_type": "code",
   "execution_count": 6,
   "metadata": {},
   "outputs": [
    {
     "name": "stdout",
     "output_type": "stream",
     "text": [
      "Accuracy on train set : 84.16%\n",
      "Accuracy on test set : 61.23%\n",
      "Confusion matrix : \n",
      "  [[24312 16034]\n",
      " [14708 24233]]\n",
      "Classification report : \n",
      "               precision    recall  f1-score   support\n",
      "\n",
      "          1       0.62      0.60      0.61     40346\n",
      "          2       0.60      0.62      0.61     38941\n",
      "\n",
      "avg / total       0.61      0.61      0.61     79287\n",
      "\n"
     ]
    }
   ],
   "source": [
    "# loading library\n",
    "from sklearn.neighbors import KNeighborsClassifier\n",
    "col_train =[ 'agg', 'int', 'catr', 'circ', 'vosp', 'prof', 'plan', 'lartpc','larrout' ,'infra', 'situ', 'obs', 'risk_gravity']\n",
    "data_train=df_france.loc[:,col_train]\n",
    "\n",
    "# split data into target and feature data : training\n",
    "y=data_train.risk_gravity.values  # target column\n",
    "X=data_train.loc[:,data_train.columns!='risk_gravity']  # feature data\n",
    "\n",
    "X_train,X_test,y_train,y_test=train_test_split(X,y,test_size=0.3,random_state=1)\n",
    "\n",
    "# instantiate learning model (k = 275)\n",
    "knn_257 = KNeighborsClassifier(n_neighbors=257,n_jobs=-1, metric='euclidean',weights='distance')\n",
    "\n",
    "# fitting the model\n",
    "knn_257.fit(X_train, y_train)\n",
    "\n",
    "# predict the response\n",
    "pred = knn_257.predict(X_test)\n",
    "#evaluate on train set to assist overfitting : \n",
    "y_pred_train=knn_257.predict(X_train)\n",
    "accuracy_train = accuracy_score(y_train, y_pred_train)\n",
    "   \n",
    "#predict on test set :\n",
    "y_pred_test=knn_257.predict(X_test)\n",
    "cm=confusion_matrix(y_test,y_pred_test)\n",
    "accuracy_test = accuracy_score(y_test, y_pred_test)\n",
    "#print results : \n",
    "print(\"Accuracy on train set : %.2f%%\" % (accuracy_train * 100.0))\n",
    "print(\"Accuracy on test set : %.2f%%\" % (accuracy_test * 100.0))\n",
    "print(\"Confusion matrix : \\n \",cm)\n",
    "print('Classification report : \\n ',classification_report(y_test,y_pred_test))"
   ]
  },
  {
   "cell_type": "markdown",
   "metadata": {},
   "source": [
    "<mark>On voit qu'il y a de l'overfitting donc nous allons chercher la  valeur optimale pour K.</mark>"
   ]
  },
  {
   "cell_type": "markdown",
   "metadata": {},
   "source": [
    "###### Paramétrage avec validation croisée"
   ]
  },
  {
   "cell_type": "markdown",
   "metadata": {},
   "source": [
    "Dans cette section, nous allons explorer une méthode qui peut être utilisée pour régler l'hyperparamètre K.\n",
    "\n",
    "Évidemment, le meilleur K est celui qui correspond au plus faible taux d'erreur de test, supposons donc que nous effectuons des mesures répétées de l'erreur de test pour différentes valeurs de K. Par inadvertance, nous utilisons l'ensemble de test comme ensemble d'apprentissage ! Cela signifie que nous sous-estimons le taux d'erreur réel puisque notre modèle a été contraint d'adapter le test de la meilleure façon possible. Notre modèle est alors incapable de généraliser à des observations plus récentes, un processus connu sous le nom de surapprentissage (overfitting). Par conséquent, toucher l'ensemble de test est hors de question et doit seulement être fait à la toute fin de notre pipeline."
   ]
  },
  {
   "cell_type": "markdown",
   "metadata": {},
   "source": [
    "Une approche alternative et plus intelligente consiste à estimer le taux d'erreurs de test en présentant un sous-ensemble de l'ensemble d'apprentissage à partir du processus d'ajustement. Ce sous-ensemble, appelé ensemble de validation, peut être utilisé pour sélectionner le niveau de flexibilité approprié de notre algorithme! Il existe différentes approches de validation qui sont utilisées dans la pratique, et nous explorerons l'une des plus populaires, la validation croisée par k-fold."
   ]
  },
  {
   "cell_type": "markdown",
   "metadata": {},
   "source": [
    "![](cross_validation.png)"
   ]
  },
  {
   "cell_type": "markdown",
   "metadata": {},
   "source": [
    "Comme on le voit sur l'image, la validation croisée k-fold (le k est totalement indépendant de K) consiste à diviser de façon aléatoire l'ensemble d'apprentissage en k groupes, ou plis, de taille approximativement égale. Le premier pli est traité comme un ensemble de validation, et la méthode est ajustée sur les plis k-1 restants. Le taux de mauvaise classification est ensuite calculé sur les observations dans le pli bloqué. Cette procédure est répétée k fois; chaque fois, un groupe d'observations différent est traité comme un ensemble de validation. Ce processus se traduit par k estimations de l'erreur de test qui sont ensuite moyennées."
   ]
  },
  {
   "cell_type": "code",
   "execution_count": 78,
   "metadata": {
    "collapsed": true
   },
   "outputs": [],
   "source": [
    "from sklearn.model_selection import  cross_val_score\n",
    "# creating odd list of K for KNN\n",
    "k_values=[k for k in range(257,268,2)]\n",
    "# empty list that will hold cv scores\n",
    "cv_scores = []\n",
    "\n",
    "# perform 10-fold cross validation\n",
    "for k in k_values:\n",
    "    knn = KNeighborsClassifier(n_neighbors=k,n_jobs=-1, metric='euclidean')\n",
    "    scores = cross_val_score(knn, X_train, y_train, cv=10, scoring='accuracy')\n",
    "    cv_scores.append(scores.mean())"
   ]
  },
  {
   "cell_type": "code",
   "execution_count": 79,
   "metadata": {},
   "outputs": [
    {
     "name": "stdout",
     "output_type": "stream",
     "text": [
      "The optimal number of neighbors is 265\n"
     ]
    },
    {
     "data": {
      "image/png": "[encoded data removed]",
      "text/plain": [
       "<matplotlib.figure.Figure at 0x1f08a9f6438>"
      ]
     },
     "metadata": {},
     "output_type": "display_data"
    }
   ],
   "source": [
    "# changing to misclassification error\n",
    "MSE = [1 - x for x in cv_scores]\n",
    "\n",
    "# determining best k\n",
    "optimal_k = k_values[MSE.index(min(MSE))]\n",
    "print( \"The optimal number of neighbors is %d\" % optimal_k)\n",
    "\n",
    "# plot misclassification error vs k\n",
    "plt.plot(k_values, MSE)\n",
    "plt.xlabel('Number of Neighbors K')\n",
    "plt.ylabel('Misclassification Error')\n",
    "plt.show()"
   ]
  },
  {
   "cell_type": "markdown",
   "metadata": {},
   "source": [
    "###### Using the optimal number of K"
   ]
  },
  {
   "cell_type": "code",
   "execution_count": 4,
   "metadata": {},
   "outputs": [
    {
     "name": "stdout",
     "output_type": "stream",
     "text": [
      "Accuracy on train set : 84.16%\n",
      "Accuracy on test set : 61.17%\n",
      "Confusion matrix : \n",
      "  [[24263 16083]\n",
      " [14703 24238]]\n",
      "Classification report : \n",
      "               precision    recall  f1-score   support\n",
      "\n",
      "          1       0.62      0.60      0.61     40346\n",
      "          2       0.60      0.62      0.61     38941\n",
      "\n",
      "avg / total       0.61      0.61      0.61     79287\n",
      "\n"
     ]
    }
   ],
   "source": [
    "# loading library\n",
    "from sklearn.neighbors import KNeighborsClassifier\n",
    "col_train =[ 'agg', 'int', 'catr', 'circ', 'vosp', 'prof', 'plan', 'lartpc','larrout' ,'infra', 'situ', 'obs', 'risk_gravity']\n",
    "data_train=df_france.loc[:,col_train]\n",
    "\n",
    "# split data into target and feature data : training\n",
    "y=data_train.risk_gravity.values  # target column\n",
    "X=data_train.loc[:,data_train.columns!='risk_gravity']  # feature data\n",
    "\n",
    "X_train,X_test,y_train,y_test=train_test_split(X,y,test_size=0.3,random_state=1)\n",
    "\n",
    "# instantiate learning model (k = 265)\n",
    "knn = KNeighborsClassifier(n_neighbors=265,n_jobs=-1, metric='euclidean',weights='distance')\n",
    "\n",
    "# fitting the model\n",
    "knn.fit(X_train, y_train)\n",
    "\n",
    "# predict the response\n",
    "pred = knn.predict(X_test)\n",
    "#evaluate on train set to assist overfitting : \n",
    "y_pred_train=knn.predict(X_train)\n",
    "accuracy_train = accuracy_score(y_train, y_pred_train)\n",
    "   \n",
    "#predict on test set :\n",
    "y_pred_test=knn.predict(X_test)\n",
    "cm=confusion_matrix(y_test,y_pred_test)\n",
    "accuracy_test = accuracy_score(y_test, y_pred_test)\n",
    "#print results : \n",
    "print(\"Accuracy on train set : %.2f%%\" % (accuracy_train * 100.0))\n",
    "print(\"Accuracy on test set : %.2f%%\" % (accuracy_test * 100.0))\n",
    "print(\"Confusion matrix : \\n \",cm)\n",
    "print('Classification report : \\n ',classification_report(y_test,y_pred_test))"
   ]
  },
  {
   "cell_type": "markdown",
   "metadata": {
    "collapsed": true
   },
   "source": [
    "### Déploiment"
   ]
  },
  {
   "cell_type": "code",
   "execution_count": 7,
   "metadata": {
    "collapsed": true
   },
   "outputs": [],
   "source": [
    "import pickle\n",
    "with open('knn.pkl', 'wb') as fid:\n",
    "    pickle.dump(knn, fid,2) "
   ]
  },
  {
   "cell_type": "code",
   "execution_count": 1,
   "metadata": {
    "collapsed": true
   },
   "outputs": [],
   "source": [
    "import pickle\n",
    "knn = pickle.load(open('knn.pkl', 'rb'))"
   ]
  },
  {
   "cell_type": "markdown",
   "metadata": {},
   "source": [
    "L'application qui sera mise en production va permettre à un utilisateur d'entrer une  configuration d'une route puis l'application va lui rendre :\n",
    "1. un score de gravité d'accident\n",
    "2. trouver les plus proches configuration dans la base de données \n",
    "3. afficher un historique de ces voisin \n",
    "4. proposer un aménagement possible avec la plus proche configuration et qui a un score très faible de gravité."
   ]
  },
  {
   "cell_type": "markdown",
   "metadata": {},
   "source": [
    "<mark>Application :</mark> \n",
    "- input : [  'agg', 'int', 'catr', 'circ', 'nbv', 'vosp', 'prof', 'plan',\n",
    " 'lartpc', 'larrout', 'infra', 'situ', 'obs']\n",
    " \n",
    " Les inputs doievent être compréhensible par l'utilisateur, donc c'est à nous de faire le traitement des valeurs saisies pour qu'elles cohérentes avec les données d'apprentissage et du test\n",
    " \n",
    "- output :  ['risk_gravity'] \n",
    "\n",
    " un score de risque de gravité avec la probabilité associée"
   ]
  },
  {
   "cell_type": "markdown",
   "metadata": {},
   "source": [
    "###### soit la nouvelle instance suivante :"
   ]
  },
  {
   "cell_type": "code",
   "execution_count": 5,
   "metadata": {
    "collapsed": true
   },
   "outputs": [],
   "source": [
    "def prediction_new_instance(new_instance):\n",
    "    print('description for the new road is :\\n', new_instance)\n",
    "    prediction= knn.predict(new_instance.reshape(1, -1) )\n",
    "    prediction_proba= knn.predict_proba(new_instance.reshape(1, -1) )\n",
    "    print('prediction for new instance is :', prediction , 'with a probability of :', prediction_proba[0][prediction-1])\n",
    "    if prediction==1 :\n",
    "        print('Road not dangerous')\n",
    "    else : \n",
    "        print('Road very dangerous')   "
   ]
  },
  {
   "cell_type": "code",
   "execution_count": 7,
   "metadata": {},
   "outputs": [],
   "source": [
    "#validation data : \n",
    "col_train =[ 'agg', 'int', 'catr', 'circ', 'vosp', 'prof', 'plan', 'lartpc','larrout' ,'infra', 'situ', 'obs', 'risk_gravity']\n",
    "\n",
    "validation=df_bretagne.loc[:,col_train]"
   ]
  },
  {
   "cell_type": "code",
   "execution_count": 17,
   "metadata": {},
   "outputs": [
    {
     "data": {
      "text/html": [
       "<div>\n",
       "<style>\n",
       "    .dataframe thead tr:only-child th {\n",
       "        text-align: right;\n",
       "    }\n",
       "\n",
       "    .dataframe thead th {\n",
       "        text-align: left;\n",
       "    }\n",
       "\n",
       "    .dataframe tbody tr th {\n",
       "        vertical-align: top;\n",
       "    }\n",
       "</style>\n",
       "<table border=\"1\" class=\"dataframe\">\n",
       "  <thead>\n",
       "    <tr style=\"text-align: right;\">\n",
       "      <th></th>\n",
       "      <th>agg</th>\n",
       "      <th>int</th>\n",
       "      <th>catr</th>\n",
       "      <th>circ</th>\n",
       "      <th>vosp</th>\n",
       "      <th>prof</th>\n",
       "      <th>plan</th>\n",
       "      <th>lartpc</th>\n",
       "      <th>larrout</th>\n",
       "      <th>infra</th>\n",
       "      <th>situ</th>\n",
       "      <th>obs</th>\n",
       "      <th>risk_gravity</th>\n",
       "    </tr>\n",
       "  </thead>\n",
       "  <tbody>\n",
       "    <tr>\n",
       "      <th>0</th>\n",
       "      <td>1</td>\n",
       "      <td>1</td>\n",
       "      <td>1.0</td>\n",
       "      <td>0.0</td>\n",
       "      <td>0.0</td>\n",
       "      <td>0.0</td>\n",
       "      <td>1.0</td>\n",
       "      <td>0.0</td>\n",
       "      <td>0.000000</td>\n",
       "      <td>0.0</td>\n",
       "      <td>1.0</td>\n",
       "      <td>7.0</td>\n",
       "      <td>1</td>\n",
       "    </tr>\n",
       "    <tr>\n",
       "      <th>1</th>\n",
       "      <td>1</td>\n",
       "      <td>1</td>\n",
       "      <td>1.0</td>\n",
       "      <td>0.0</td>\n",
       "      <td>0.0</td>\n",
       "      <td>1.0</td>\n",
       "      <td>1.0</td>\n",
       "      <td>10.0</td>\n",
       "      <td>9.459459</td>\n",
       "      <td>2.0</td>\n",
       "      <td>1.0</td>\n",
       "      <td>0.0</td>\n",
       "      <td>2</td>\n",
       "    </tr>\n",
       "    <tr>\n",
       "      <th>2</th>\n",
       "      <td>1</td>\n",
       "      <td>1</td>\n",
       "      <td>1.0</td>\n",
       "      <td>0.0</td>\n",
       "      <td>0.0</td>\n",
       "      <td>1.0</td>\n",
       "      <td>1.0</td>\n",
       "      <td>0.0</td>\n",
       "      <td>9.459459</td>\n",
       "      <td>0.0</td>\n",
       "      <td>1.0</td>\n",
       "      <td>0.0</td>\n",
       "      <td>1</td>\n",
       "    </tr>\n",
       "    <tr>\n",
       "      <th>3</th>\n",
       "      <td>1</td>\n",
       "      <td>1</td>\n",
       "      <td>1.0</td>\n",
       "      <td>0.0</td>\n",
       "      <td>0.0</td>\n",
       "      <td>1.0</td>\n",
       "      <td>1.0</td>\n",
       "      <td>10.0</td>\n",
       "      <td>9.459459</td>\n",
       "      <td>0.0</td>\n",
       "      <td>2.0</td>\n",
       "      <td>16.0</td>\n",
       "      <td>1</td>\n",
       "    </tr>\n",
       "    <tr>\n",
       "      <th>4</th>\n",
       "      <td>1</td>\n",
       "      <td>1</td>\n",
       "      <td>1.0</td>\n",
       "      <td>0.0</td>\n",
       "      <td>0.0</td>\n",
       "      <td>1.0</td>\n",
       "      <td>1.0</td>\n",
       "      <td>10.0</td>\n",
       "      <td>10.000000</td>\n",
       "      <td>0.0</td>\n",
       "      <td>1.0</td>\n",
       "      <td>0.0</td>\n",
       "      <td>2</td>\n",
       "    </tr>\n",
       "    <tr>\n",
       "      <th>5</th>\n",
       "      <td>1</td>\n",
       "      <td>1</td>\n",
       "      <td>1.0</td>\n",
       "      <td>0.0</td>\n",
       "      <td>0.0</td>\n",
       "      <td>1.0</td>\n",
       "      <td>1.0</td>\n",
       "      <td>10.0</td>\n",
       "      <td>10.000000</td>\n",
       "      <td>0.0</td>\n",
       "      <td>1.0</td>\n",
       "      <td>0.0</td>\n",
       "      <td>2</td>\n",
       "    </tr>\n",
       "    <tr>\n",
       "      <th>6</th>\n",
       "      <td>1</td>\n",
       "      <td>1</td>\n",
       "      <td>1.0</td>\n",
       "      <td>0.0</td>\n",
       "      <td>0.0</td>\n",
       "      <td>1.0</td>\n",
       "      <td>1.0</td>\n",
       "      <td>10.0</td>\n",
       "      <td>10.000000</td>\n",
       "      <td>0.0</td>\n",
       "      <td>1.0</td>\n",
       "      <td>3.0</td>\n",
       "      <td>2</td>\n",
       "    </tr>\n",
       "    <tr>\n",
       "      <th>7</th>\n",
       "      <td>1</td>\n",
       "      <td>1</td>\n",
       "      <td>1.0</td>\n",
       "      <td>1.0</td>\n",
       "      <td>0.0</td>\n",
       "      <td>0.0</td>\n",
       "      <td>0.0</td>\n",
       "      <td>10.0</td>\n",
       "      <td>8.108108</td>\n",
       "      <td>0.0</td>\n",
       "      <td>0.0</td>\n",
       "      <td>16.0</td>\n",
       "      <td>1</td>\n",
       "    </tr>\n",
       "    <tr>\n",
       "      <th>8</th>\n",
       "      <td>1</td>\n",
       "      <td>1</td>\n",
       "      <td>1.0</td>\n",
       "      <td>1.0</td>\n",
       "      <td>0.0</td>\n",
       "      <td>1.0</td>\n",
       "      <td>1.0</td>\n",
       "      <td>0.0</td>\n",
       "      <td>0.000000</td>\n",
       "      <td>7.0</td>\n",
       "      <td>1.0</td>\n",
       "      <td>0.0</td>\n",
       "      <td>1</td>\n",
       "    </tr>\n",
       "    <tr>\n",
       "      <th>9</th>\n",
       "      <td>1</td>\n",
       "      <td>1</td>\n",
       "      <td>1.0</td>\n",
       "      <td>1.0</td>\n",
       "      <td>0.0</td>\n",
       "      <td>1.0</td>\n",
       "      <td>0.0</td>\n",
       "      <td>10.0</td>\n",
       "      <td>9.459459</td>\n",
       "      <td>0.0</td>\n",
       "      <td>3.0</td>\n",
       "      <td>13.0</td>\n",
       "      <td>1</td>\n",
       "    </tr>\n",
       "    <tr>\n",
       "      <th>10</th>\n",
       "      <td>1</td>\n",
       "      <td>1</td>\n",
       "      <td>1.0</td>\n",
       "      <td>1.0</td>\n",
       "      <td>0.0</td>\n",
       "      <td>1.0</td>\n",
       "      <td>1.0</td>\n",
       "      <td>10.0</td>\n",
       "      <td>8.108108</td>\n",
       "      <td>0.0</td>\n",
       "      <td>1.0</td>\n",
       "      <td>0.0</td>\n",
       "      <td>1</td>\n",
       "    </tr>\n",
       "    <tr>\n",
       "      <th>11</th>\n",
       "      <td>1</td>\n",
       "      <td>1</td>\n",
       "      <td>1.0</td>\n",
       "      <td>1.0</td>\n",
       "      <td>0.0</td>\n",
       "      <td>1.0</td>\n",
       "      <td>1.0</td>\n",
       "      <td>10.0</td>\n",
       "      <td>9.459459</td>\n",
       "      <td>0.0</td>\n",
       "      <td>3.0</td>\n",
       "      <td>16.0</td>\n",
       "      <td>1</td>\n",
       "    </tr>\n",
       "    <tr>\n",
       "      <th>12</th>\n",
       "      <td>1</td>\n",
       "      <td>1</td>\n",
       "      <td>1.0</td>\n",
       "      <td>1.0</td>\n",
       "      <td>0.0</td>\n",
       "      <td>1.0</td>\n",
       "      <td>1.0</td>\n",
       "      <td>10.0</td>\n",
       "      <td>10.000000</td>\n",
       "      <td>0.0</td>\n",
       "      <td>1.0</td>\n",
       "      <td>0.0</td>\n",
       "      <td>2</td>\n",
       "    </tr>\n",
       "    <tr>\n",
       "      <th>13</th>\n",
       "      <td>1</td>\n",
       "      <td>1</td>\n",
       "      <td>1.0</td>\n",
       "      <td>1.0</td>\n",
       "      <td>0.0</td>\n",
       "      <td>1.0</td>\n",
       "      <td>1.0</td>\n",
       "      <td>10.0</td>\n",
       "      <td>9.459459</td>\n",
       "      <td>0.0</td>\n",
       "      <td>3.0</td>\n",
       "      <td>3.0</td>\n",
       "      <td>1</td>\n",
       "    </tr>\n",
       "    <tr>\n",
       "      <th>14</th>\n",
       "      <td>1</td>\n",
       "      <td>1</td>\n",
       "      <td>1.0</td>\n",
       "      <td>1.0</td>\n",
       "      <td>3.0</td>\n",
       "      <td>1.0</td>\n",
       "      <td>1.0</td>\n",
       "      <td>10.0</td>\n",
       "      <td>9.459459</td>\n",
       "      <td>0.0</td>\n",
       "      <td>3.0</td>\n",
       "      <td>13.0</td>\n",
       "      <td>1</td>\n",
       "    </tr>\n",
       "    <tr>\n",
       "      <th>15</th>\n",
       "      <td>1</td>\n",
       "      <td>1</td>\n",
       "      <td>1.0</td>\n",
       "      <td>1.0</td>\n",
       "      <td>3.0</td>\n",
       "      <td>1.0</td>\n",
       "      <td>1.0</td>\n",
       "      <td>10.0</td>\n",
       "      <td>10.000000</td>\n",
       "      <td>0.0</td>\n",
       "      <td>3.0</td>\n",
       "      <td>0.0</td>\n",
       "      <td>1</td>\n",
       "    </tr>\n",
       "    <tr>\n",
       "      <th>16</th>\n",
       "      <td>1</td>\n",
       "      <td>1</td>\n",
       "      <td>1.0</td>\n",
       "      <td>1.0</td>\n",
       "      <td>3.0</td>\n",
       "      <td>4.0</td>\n",
       "      <td>1.0</td>\n",
       "      <td>10.0</td>\n",
       "      <td>10.000000</td>\n",
       "      <td>0.0</td>\n",
       "      <td>1.0</td>\n",
       "      <td>0.0</td>\n",
       "      <td>2</td>\n",
       "    </tr>\n",
       "    <tr>\n",
       "      <th>17</th>\n",
       "      <td>1</td>\n",
       "      <td>1</td>\n",
       "      <td>1.0</td>\n",
       "      <td>1.0</td>\n",
       "      <td>0.0</td>\n",
       "      <td>0.0</td>\n",
       "      <td>1.0</td>\n",
       "      <td>0.0</td>\n",
       "      <td>10.000000</td>\n",
       "      <td>7.0</td>\n",
       "      <td>1.0</td>\n",
       "      <td>0.0</td>\n",
       "      <td>1</td>\n",
       "    </tr>\n",
       "    <tr>\n",
       "      <th>18</th>\n",
       "      <td>1</td>\n",
       "      <td>1</td>\n",
       "      <td>1.0</td>\n",
       "      <td>2.0</td>\n",
       "      <td>0.0</td>\n",
       "      <td>2.0</td>\n",
       "      <td>3.0</td>\n",
       "      <td>0.0</td>\n",
       "      <td>8.108108</td>\n",
       "      <td>3.0</td>\n",
       "      <td>1.0</td>\n",
       "      <td>13.0</td>\n",
       "      <td>1</td>\n",
       "    </tr>\n",
       "    <tr>\n",
       "      <th>19</th>\n",
       "      <td>1</td>\n",
       "      <td>1</td>\n",
       "      <td>1.0</td>\n",
       "      <td>3.0</td>\n",
       "      <td>0.0</td>\n",
       "      <td>0.0</td>\n",
       "      <td>1.0</td>\n",
       "      <td>0.0</td>\n",
       "      <td>0.000000</td>\n",
       "      <td>0.0</td>\n",
       "      <td>1.0</td>\n",
       "      <td>0.0</td>\n",
       "      <td>2</td>\n",
       "    </tr>\n",
       "    <tr>\n",
       "      <th>20</th>\n",
       "      <td>1</td>\n",
       "      <td>1</td>\n",
       "      <td>1.0</td>\n",
       "      <td>3.0</td>\n",
       "      <td>0.0</td>\n",
       "      <td>0.0</td>\n",
       "      <td>1.0</td>\n",
       "      <td>10.0</td>\n",
       "      <td>10.000000</td>\n",
       "      <td>0.0</td>\n",
       "      <td>1.0</td>\n",
       "      <td>0.0</td>\n",
       "      <td>2</td>\n",
       "    </tr>\n",
       "    <tr>\n",
       "      <th>21</th>\n",
       "      <td>1</td>\n",
       "      <td>1</td>\n",
       "      <td>1.0</td>\n",
       "      <td>3.0</td>\n",
       "      <td>0.0</td>\n",
       "      <td>1.0</td>\n",
       "      <td>1.0</td>\n",
       "      <td>0.0</td>\n",
       "      <td>0.000000</td>\n",
       "      <td>0.0</td>\n",
       "      <td>1.0</td>\n",
       "      <td>0.0</td>\n",
       "      <td>2</td>\n",
       "    </tr>\n",
       "    <tr>\n",
       "      <th>22</th>\n",
       "      <td>1</td>\n",
       "      <td>1</td>\n",
       "      <td>1.0</td>\n",
       "      <td>3.0</td>\n",
       "      <td>0.0</td>\n",
       "      <td>1.0</td>\n",
       "      <td>1.0</td>\n",
       "      <td>0.0</td>\n",
       "      <td>0.000000</td>\n",
       "      <td>0.0</td>\n",
       "      <td>1.0</td>\n",
       "      <td>1.0</td>\n",
       "      <td>2</td>\n",
       "    </tr>\n",
       "    <tr>\n",
       "      <th>23</th>\n",
       "      <td>1</td>\n",
       "      <td>1</td>\n",
       "      <td>1.0</td>\n",
       "      <td>3.0</td>\n",
       "      <td>0.0</td>\n",
       "      <td>1.0</td>\n",
       "      <td>1.0</td>\n",
       "      <td>0.0</td>\n",
       "      <td>0.000000</td>\n",
       "      <td>0.0</td>\n",
       "      <td>3.0</td>\n",
       "      <td>0.0</td>\n",
       "      <td>2</td>\n",
       "    </tr>\n",
       "    <tr>\n",
       "      <th>24</th>\n",
       "      <td>1</td>\n",
       "      <td>1</td>\n",
       "      <td>1.0</td>\n",
       "      <td>3.0</td>\n",
       "      <td>0.0</td>\n",
       "      <td>1.0</td>\n",
       "      <td>1.0</td>\n",
       "      <td>0.0</td>\n",
       "      <td>0.000000</td>\n",
       "      <td>0.0</td>\n",
       "      <td>3.0</td>\n",
       "      <td>13.0</td>\n",
       "      <td>1</td>\n",
       "    </tr>\n",
       "    <tr>\n",
       "      <th>25</th>\n",
       "      <td>1</td>\n",
       "      <td>1</td>\n",
       "      <td>1.0</td>\n",
       "      <td>3.0</td>\n",
       "      <td>0.0</td>\n",
       "      <td>1.0</td>\n",
       "      <td>1.0</td>\n",
       "      <td>10.0</td>\n",
       "      <td>4.729730</td>\n",
       "      <td>0.0</td>\n",
       "      <td>1.0</td>\n",
       "      <td>0.0</td>\n",
       "      <td>1</td>\n",
       "    </tr>\n",
       "    <tr>\n",
       "      <th>26</th>\n",
       "      <td>1</td>\n",
       "      <td>1</td>\n",
       "      <td>1.0</td>\n",
       "      <td>3.0</td>\n",
       "      <td>0.0</td>\n",
       "      <td>1.0</td>\n",
       "      <td>2.0</td>\n",
       "      <td>0.0</td>\n",
       "      <td>9.459459</td>\n",
       "      <td>0.0</td>\n",
       "      <td>1.0</td>\n",
       "      <td>0.0</td>\n",
       "      <td>1</td>\n",
       "    </tr>\n",
       "    <tr>\n",
       "      <th>27</th>\n",
       "      <td>1</td>\n",
       "      <td>1</td>\n",
       "      <td>1.0</td>\n",
       "      <td>3.0</td>\n",
       "      <td>0.0</td>\n",
       "      <td>1.0</td>\n",
       "      <td>2.0</td>\n",
       "      <td>0.0</td>\n",
       "      <td>9.459459</td>\n",
       "      <td>0.0</td>\n",
       "      <td>1.0</td>\n",
       "      <td>13.0</td>\n",
       "      <td>2</td>\n",
       "    </tr>\n",
       "    <tr>\n",
       "      <th>28</th>\n",
       "      <td>1</td>\n",
       "      <td>1</td>\n",
       "      <td>1.0</td>\n",
       "      <td>3.0</td>\n",
       "      <td>0.0</td>\n",
       "      <td>1.0</td>\n",
       "      <td>3.0</td>\n",
       "      <td>0.0</td>\n",
       "      <td>0.000000</td>\n",
       "      <td>3.0</td>\n",
       "      <td>1.0</td>\n",
       "      <td>16.0</td>\n",
       "      <td>1</td>\n",
       "    </tr>\n",
       "    <tr>\n",
       "      <th>29</th>\n",
       "      <td>1</td>\n",
       "      <td>1</td>\n",
       "      <td>1.0</td>\n",
       "      <td>3.0</td>\n",
       "      <td>0.0</td>\n",
       "      <td>0.0</td>\n",
       "      <td>1.0</td>\n",
       "      <td>10.0</td>\n",
       "      <td>10.000000</td>\n",
       "      <td>3.0</td>\n",
       "      <td>1.0</td>\n",
       "      <td>0.0</td>\n",
       "      <td>2</td>\n",
       "    </tr>\n",
       "    <tr>\n",
       "      <th>30</th>\n",
       "      <td>1</td>\n",
       "      <td>1</td>\n",
       "      <td>1.0</td>\n",
       "      <td>3.0</td>\n",
       "      <td>0.0</td>\n",
       "      <td>0.0</td>\n",
       "      <td>3.0</td>\n",
       "      <td>0.0</td>\n",
       "      <td>9.459459</td>\n",
       "      <td>0.0</td>\n",
       "      <td>1.0</td>\n",
       "      <td>3.0</td>\n",
       "      <td>2</td>\n",
       "    </tr>\n",
       "    <tr>\n",
       "      <th>31</th>\n",
       "      <td>1</td>\n",
       "      <td>1</td>\n",
       "      <td>1.0</td>\n",
       "      <td>3.0</td>\n",
       "      <td>0.0</td>\n",
       "      <td>1.0</td>\n",
       "      <td>1.0</td>\n",
       "      <td>0.0</td>\n",
       "      <td>0.000000</td>\n",
       "      <td>0.0</td>\n",
       "      <td>2.0</td>\n",
       "      <td>0.0</td>\n",
       "      <td>1</td>\n",
       "    </tr>\n",
       "    <tr>\n",
       "      <th>32</th>\n",
       "      <td>1</td>\n",
       "      <td>1</td>\n",
       "      <td>1.0</td>\n",
       "      <td>3.0</td>\n",
       "      <td>0.0</td>\n",
       "      <td>1.0</td>\n",
       "      <td>1.0</td>\n",
       "      <td>0.0</td>\n",
       "      <td>0.000000</td>\n",
       "      <td>0.0</td>\n",
       "      <td>2.0</td>\n",
       "      <td>14.0</td>\n",
       "      <td>1</td>\n",
       "    </tr>\n",
       "    <tr>\n",
       "      <th>33</th>\n",
       "      <td>1</td>\n",
       "      <td>1</td>\n",
       "      <td>1.0</td>\n",
       "      <td>3.0</td>\n",
       "      <td>0.0</td>\n",
       "      <td>1.0</td>\n",
       "      <td>1.0</td>\n",
       "      <td>0.0</td>\n",
       "      <td>7.567568</td>\n",
       "      <td>0.0</td>\n",
       "      <td>1.0</td>\n",
       "      <td>0.0</td>\n",
       "      <td>1</td>\n",
       "    </tr>\n",
       "    <tr>\n",
       "      <th>34</th>\n",
       "      <td>1</td>\n",
       "      <td>1</td>\n",
       "      <td>1.0</td>\n",
       "      <td>3.0</td>\n",
       "      <td>0.0</td>\n",
       "      <td>1.0</td>\n",
       "      <td>1.0</td>\n",
       "      <td>0.0</td>\n",
       "      <td>7.567568</td>\n",
       "      <td>0.0</td>\n",
       "      <td>1.0</td>\n",
       "      <td>13.0</td>\n",
       "      <td>1</td>\n",
       "    </tr>\n",
       "    <tr>\n",
       "      <th>35</th>\n",
       "      <td>1</td>\n",
       "      <td>1</td>\n",
       "      <td>1.0</td>\n",
       "      <td>3.0</td>\n",
       "      <td>0.0</td>\n",
       "      <td>1.0</td>\n",
       "      <td>1.0</td>\n",
       "      <td>10.0</td>\n",
       "      <td>9.459459</td>\n",
       "      <td>0.0</td>\n",
       "      <td>1.0</td>\n",
       "      <td>0.0</td>\n",
       "      <td>1</td>\n",
       "    </tr>\n",
       "    <tr>\n",
       "      <th>36</th>\n",
       "      <td>1</td>\n",
       "      <td>1</td>\n",
       "      <td>1.0</td>\n",
       "      <td>3.0</td>\n",
       "      <td>0.0</td>\n",
       "      <td>1.0</td>\n",
       "      <td>1.0</td>\n",
       "      <td>10.0</td>\n",
       "      <td>10.000000</td>\n",
       "      <td>2.0</td>\n",
       "      <td>3.0</td>\n",
       "      <td>6.0</td>\n",
       "      <td>2</td>\n",
       "    </tr>\n",
       "    <tr>\n",
       "      <th>37</th>\n",
       "      <td>1</td>\n",
       "      <td>1</td>\n",
       "      <td>1.0</td>\n",
       "      <td>3.0</td>\n",
       "      <td>0.0</td>\n",
       "      <td>1.0</td>\n",
       "      <td>2.0</td>\n",
       "      <td>10.0</td>\n",
       "      <td>10.000000</td>\n",
       "      <td>0.0</td>\n",
       "      <td>3.0</td>\n",
       "      <td>13.0</td>\n",
       "      <td>2</td>\n",
       "    </tr>\n",
       "    <tr>\n",
       "      <th>38</th>\n",
       "      <td>1</td>\n",
       "      <td>1</td>\n",
       "      <td>1.0</td>\n",
       "      <td>3.0</td>\n",
       "      <td>0.0</td>\n",
       "      <td>1.0</td>\n",
       "      <td>2.0</td>\n",
       "      <td>10.0</td>\n",
       "      <td>9.459459</td>\n",
       "      <td>0.0</td>\n",
       "      <td>1.0</td>\n",
       "      <td>0.0</td>\n",
       "      <td>2</td>\n",
       "    </tr>\n",
       "    <tr>\n",
       "      <th>39</th>\n",
       "      <td>1</td>\n",
       "      <td>1</td>\n",
       "      <td>1.0</td>\n",
       "      <td>3.0</td>\n",
       "      <td>0.0</td>\n",
       "      <td>1.0</td>\n",
       "      <td>3.0</td>\n",
       "      <td>10.0</td>\n",
       "      <td>10.000000</td>\n",
       "      <td>3.0</td>\n",
       "      <td>1.0</td>\n",
       "      <td>0.0</td>\n",
       "      <td>1</td>\n",
       "    </tr>\n",
       "    <tr>\n",
       "      <th>40</th>\n",
       "      <td>1</td>\n",
       "      <td>1</td>\n",
       "      <td>1.0</td>\n",
       "      <td>3.0</td>\n",
       "      <td>0.0</td>\n",
       "      <td>2.0</td>\n",
       "      <td>1.0</td>\n",
       "      <td>0.0</td>\n",
       "      <td>9.459459</td>\n",
       "      <td>0.0</td>\n",
       "      <td>2.0</td>\n",
       "      <td>13.0</td>\n",
       "      <td>2</td>\n",
       "    </tr>\n",
       "    <tr>\n",
       "      <th>41</th>\n",
       "      <td>1</td>\n",
       "      <td>1</td>\n",
       "      <td>1.0</td>\n",
       "      <td>3.0</td>\n",
       "      <td>0.0</td>\n",
       "      <td>2.0</td>\n",
       "      <td>3.0</td>\n",
       "      <td>0.0</td>\n",
       "      <td>0.000000</td>\n",
       "      <td>0.0</td>\n",
       "      <td>3.0</td>\n",
       "      <td>13.0</td>\n",
       "      <td>2</td>\n",
       "    </tr>\n",
       "    <tr>\n",
       "      <th>42</th>\n",
       "      <td>1</td>\n",
       "      <td>1</td>\n",
       "      <td>1.0</td>\n",
       "      <td>3.0</td>\n",
       "      <td>0.0</td>\n",
       "      <td>2.0</td>\n",
       "      <td>3.0</td>\n",
       "      <td>10.0</td>\n",
       "      <td>6.081081</td>\n",
       "      <td>0.0</td>\n",
       "      <td>2.0</td>\n",
       "      <td>0.0</td>\n",
       "      <td>1</td>\n",
       "    </tr>\n",
       "    <tr>\n",
       "      <th>43</th>\n",
       "      <td>1</td>\n",
       "      <td>1</td>\n",
       "      <td>1.0</td>\n",
       "      <td>3.0</td>\n",
       "      <td>0.0</td>\n",
       "      <td>2.0</td>\n",
       "      <td>3.0</td>\n",
       "      <td>10.0</td>\n",
       "      <td>6.081081</td>\n",
       "      <td>0.0</td>\n",
       "      <td>2.0</td>\n",
       "      <td>1.0</td>\n",
       "      <td>2</td>\n",
       "    </tr>\n",
       "    <tr>\n",
       "      <th>44</th>\n",
       "      <td>1</td>\n",
       "      <td>1</td>\n",
       "      <td>1.0</td>\n",
       "      <td>3.0</td>\n",
       "      <td>0.0</td>\n",
       "      <td>0.0</td>\n",
       "      <td>1.0</td>\n",
       "      <td>0.0</td>\n",
       "      <td>9.459459</td>\n",
       "      <td>0.0</td>\n",
       "      <td>1.0</td>\n",
       "      <td>0.0</td>\n",
       "      <td>2</td>\n",
       "    </tr>\n",
       "    <tr>\n",
       "      <th>45</th>\n",
       "      <td>1</td>\n",
       "      <td>1</td>\n",
       "      <td>1.0</td>\n",
       "      <td>3.0</td>\n",
       "      <td>0.0</td>\n",
       "      <td>0.0</td>\n",
       "      <td>1.0</td>\n",
       "      <td>10.0</td>\n",
       "      <td>10.000000</td>\n",
       "      <td>3.0</td>\n",
       "      <td>2.0</td>\n",
       "      <td>0.0</td>\n",
       "      <td>2</td>\n",
       "    </tr>\n",
       "    <tr>\n",
       "      <th>46</th>\n",
       "      <td>1</td>\n",
       "      <td>1</td>\n",
       "      <td>1.0</td>\n",
       "      <td>3.0</td>\n",
       "      <td>0.0</td>\n",
       "      <td>0.0</td>\n",
       "      <td>1.0</td>\n",
       "      <td>10.0</td>\n",
       "      <td>10.000000</td>\n",
       "      <td>0.0</td>\n",
       "      <td>2.0</td>\n",
       "      <td>1.0</td>\n",
       "      <td>2</td>\n",
       "    </tr>\n",
       "  </tbody>\n",
       "</table>\n",
       "</div>"
      ],
      "text/plain": [
       "    agg  int  catr  circ  vosp  prof  plan  lartpc    larrout  infra  situ  \\\n",
       "0     1    1   1.0   0.0   0.0   0.0   1.0     0.0   0.000000    0.0   1.0   \n",
       "1     1    1   1.0   0.0   0.0   1.0   1.0    10.0   9.459459    2.0   1.0   \n",
       "2     1    1   1.0   0.0   0.0   1.0   1.0     0.0   9.459459    0.0   1.0   \n",
       "3     1    1   1.0   0.0   0.0   1.0   1.0    10.0   9.459459    0.0   2.0   \n",
       "4     1    1   1.0   0.0   0.0   1.0   1.0    10.0  10.000000    0.0   1.0   \n",
       "5     1    1   1.0   0.0   0.0   1.0   1.0    10.0  10.000000    0.0   1.0   \n",
       "6     1    1   1.0   0.0   0.0   1.0   1.0    10.0  10.000000    0.0   1.0   \n",
       "7     1    1   1.0   1.0   0.0   0.0   0.0    10.0   8.108108    0.0   0.0   \n",
       "8     1    1   1.0   1.0   0.0   1.0   1.0     0.0   0.000000    7.0   1.0   \n",
       "9     1    1   1.0   1.0   0.0   1.0   0.0    10.0   9.459459    0.0   3.0   \n",
       "10    1    1   1.0   1.0   0.0   1.0   1.0    10.0   8.108108    0.0   1.0   \n",
       "11    1    1   1.0   1.0   0.0   1.0   1.0    10.0   9.459459    0.0   3.0   \n",
       "12    1    1   1.0   1.0   0.0   1.0   1.0    10.0  10.000000    0.0   1.0   \n",
       "13    1    1   1.0   1.0   0.0   1.0   1.0    10.0   9.459459    0.0   3.0   \n",
       "14    1    1   1.0   1.0   3.0   1.0   1.0    10.0   9.459459    0.0   3.0   \n",
       "15    1    1   1.0   1.0   3.0   1.0   1.0    10.0  10.000000    0.0   3.0   \n",
       "16    1    1   1.0   1.0   3.0   4.0   1.0    10.0  10.000000    0.0   1.0   \n",
       "17    1    1   1.0   1.0   0.0   0.0   1.0     0.0  10.000000    7.0   1.0   \n",
       "18    1    1   1.0   2.0   0.0   2.0   3.0     0.0   8.108108    3.0   1.0   \n",
       "19    1    1   1.0   3.0   0.0   0.0   1.0     0.0   0.000000    0.0   1.0   \n",
       "20    1    1   1.0   3.0   0.0   0.0   1.0    10.0  10.000000    0.0   1.0   \n",
       "21    1    1   1.0   3.0   0.0   1.0   1.0     0.0   0.000000    0.0   1.0   \n",
       "22    1    1   1.0   3.0   0.0   1.0   1.0     0.0   0.000000    0.0   1.0   \n",
       "23    1    1   1.0   3.0   0.0   1.0   1.0     0.0   0.000000    0.0   3.0   \n",
       "24    1    1   1.0   3.0   0.0   1.0   1.0     0.0   0.000000    0.0   3.0   \n",
       "25    1    1   1.0   3.0   0.0   1.0   1.0    10.0   4.729730    0.0   1.0   \n",
       "26    1    1   1.0   3.0   0.0   1.0   2.0     0.0   9.459459    0.0   1.0   \n",
       "27    1    1   1.0   3.0   0.0   1.0   2.0     0.0   9.459459    0.0   1.0   \n",
       "28    1    1   1.0   3.0   0.0   1.0   3.0     0.0   0.000000    3.0   1.0   \n",
       "29    1    1   1.0   3.0   0.0   0.0   1.0    10.0  10.000000    3.0   1.0   \n",
       "30    1    1   1.0   3.0   0.0   0.0   3.0     0.0   9.459459    0.0   1.0   \n",
       "31    1    1   1.0   3.0   0.0   1.0   1.0     0.0   0.000000    0.0   2.0   \n",
       "32    1    1   1.0   3.0   0.0   1.0   1.0     0.0   0.000000    0.0   2.0   \n",
       "33    1    1   1.0   3.0   0.0   1.0   1.0     0.0   7.567568    0.0   1.0   \n",
       "34    1    1   1.0   3.0   0.0   1.0   1.0     0.0   7.567568    0.0   1.0   \n",
       "35    1    1   1.0   3.0   0.0   1.0   1.0    10.0   9.459459    0.0   1.0   \n",
       "36    1    1   1.0   3.0   0.0   1.0   1.0    10.0  10.000000    2.0   3.0   \n",
       "37    1    1   1.0   3.0   0.0   1.0   2.0    10.0  10.000000    0.0   3.0   \n",
       "38    1    1   1.0   3.0   0.0   1.0   2.0    10.0   9.459459    0.0   1.0   \n",
       "39    1    1   1.0   3.0   0.0   1.0   3.0    10.0  10.000000    3.0   1.0   \n",
       "40    1    1   1.0   3.0   0.0   2.0   1.0     0.0   9.459459    0.0   2.0   \n",
       "41    1    1   1.0   3.0   0.0   2.0   3.0     0.0   0.000000    0.0   3.0   \n",
       "42    1    1   1.0   3.0   0.0   2.0   3.0    10.0   6.081081    0.0   2.0   \n",
       "43    1    1   1.0   3.0   0.0   2.0   3.0    10.0   6.081081    0.0   2.0   \n",
       "44    1    1   1.0   3.0   0.0   0.0   1.0     0.0   9.459459    0.0   1.0   \n",
       "45    1    1   1.0   3.0   0.0   0.0   1.0    10.0  10.000000    3.0   2.0   \n",
       "46    1    1   1.0   3.0   0.0   0.0   1.0    10.0  10.000000    0.0   2.0   \n",
       "\n",
       "     obs  risk_gravity  \n",
       "0    7.0             1  \n",
       "1    0.0             2  \n",
       "2    0.0             1  \n",
       "3   16.0             1  \n",
       "4    0.0             2  \n",
       "5    0.0             2  \n",
       "6    3.0             2  \n",
       "7   16.0             1  \n",
       "8    0.0             1  \n",
       "9   13.0             1  \n",
       "10   0.0             1  \n",
       "11  16.0             1  \n",
       "12   0.0             2  \n",
       "13   3.0             1  \n",
       "14  13.0             1  \n",
       "15   0.0             1  \n",
       "16   0.0             2  \n",
       "17   0.0             1  \n",
       "18  13.0             1  \n",
       "19   0.0             2  \n",
       "20   0.0             2  \n",
       "21   0.0             2  \n",
       "22   1.0             2  \n",
       "23   0.0             2  \n",
       "24  13.0             1  \n",
       "25   0.0             1  \n",
       "26   0.0             1  \n",
       "27  13.0             2  \n",
       "28  16.0             1  \n",
       "29   0.0             2  \n",
       "30   3.0             2  \n",
       "31   0.0             1  \n",
       "32  14.0             1  \n",
       "33   0.0             1  \n",
       "34  13.0             1  \n",
       "35   0.0             1  \n",
       "36   6.0             2  \n",
       "37  13.0             2  \n",
       "38   0.0             2  \n",
       "39   0.0             1  \n",
       "40  13.0             2  \n",
       "41  13.0             2  \n",
       "42   0.0             1  \n",
       "43   1.0             2  \n",
       "44   0.0             2  \n",
       "45   0.0             2  \n",
       "46   1.0             2  "
      ]
     },
     "execution_count": 17,
     "metadata": {},
     "output_type": "execute_result"
    }
   ],
   "source": [
    "validation.head(47)"
   ]
  },
  {
   "cell_type": "code",
   "execution_count": 18,
   "metadata": {},
   "outputs": [
    {
     "name": "stdout",
     "output_type": "stream",
     "text": [
      "description for the new road is :\n",
      " agg        1.000000\n",
      "int        1.000000\n",
      "catr       1.000000\n",
      "circ       3.000000\n",
      "vosp       0.000000\n",
      "prof       1.000000\n",
      "plan       1.000000\n",
      "lartpc     0.000000\n",
      "larrout    9.459459\n",
      "infra      0.000000\n",
      "situ       1.000000\n",
      "obs        0.000000\n",
      "Name: 47, dtype: float64\n",
      "prediction for new instance is : [2] with a probability of : [ 1.]\n",
      "Road very dangerous\n"
     ]
    }
   ],
   "source": [
    "#validation for the first road : \n",
    "prediction_new_instance(validation.iloc[47,:-1])"
   ]
  },
  {
   "cell_type": "markdown",
   "metadata": {},
   "source": [
    "<mark>donc pas d'aménagement pour cette route</mark>"
   ]
  },
  {
   "cell_type": "code",
   "execution_count": 37,
   "metadata": {},
   "outputs": [
    {
     "name": "stdout",
     "output_type": "stream",
     "text": [
      "description for the new road is :\n",
      " agg        1.000000\n",
      "int        1.000000\n",
      "catr       1.000000\n",
      "circ       3.000000\n",
      "vosp       0.000000\n",
      "prof       1.000000\n",
      "plan       1.000000\n",
      "lartpc     0.000000\n",
      "larrout    9.459459\n",
      "infra      0.000000\n",
      "situ       1.000000\n",
      "obs        0.000000\n",
      "Name: 47, dtype: float64\n",
      "prediction for new instance is : [2] with a probability of : [ 1.]\n",
      "Road very dangerous\n"
     ]
    }
   ],
   "source": [
    "#validation for a second road : \n",
    "prediction_new_instance(validation.iloc[47,:-1])"
   ]
  },
  {
   "cell_type": "markdown",
   "metadata": {},
   "source": [
    "<mark> cette route est très dangereuse, donc on doit trouver un aménagement</mark>"
   ]
  },
  {
   "cell_type": "markdown",
   "metadata": {},
   "source": [
    "Commençons par un aménagement sans contrainte : "
   ]
  },
  {
   "cell_type": "markdown",
   "metadata": {},
   "source": [
    "###### trouvons les plus proches voisin à cette route :"
   ]
  },
  {
   "cell_type": "code",
   "execution_count": 19,
   "metadata": {
    "collapsed": true
   },
   "outputs": [],
   "source": [
    "voisins= knn.kneighbors(validation.iloc[47,:-1].reshape(1, -1),n_neighbors=265,return_distance=False)"
   ]
  },
  {
   "cell_type": "markdown",
   "metadata": {
    "collapsed": true
   },
   "source": [
    "on va chercher dans ces indices le voisin le plus proche sans dangereusité :  "
   ]
  },
  {
   "cell_type": "code",
   "execution_count": 20,
   "metadata": {},
   "outputs": [
    {
     "name": "stdout",
     "output_type": "stream",
     "text": [
      "la route originale est : \n",
      " agg        1.000000\n",
      "int        1.000000\n",
      "catr       1.000000\n",
      "circ       3.000000\n",
      "vosp       0.000000\n",
      "prof       1.000000\n",
      "plan       1.000000\n",
      "lartpc     0.000000\n",
      "larrout    9.459459\n",
      "infra      0.000000\n",
      "situ       1.000000\n",
      "obs        0.000000\n",
      "Name: 47, dtype: float64\n",
      "L'améngament proposé est le suivant : \n",
      " agg              2.0\n",
      "int              1.0\n",
      "catr             2.0\n",
      "circ             1.0\n",
      "vosp             0.0\n",
      "prof             1.0\n",
      "plan             1.0\n",
      "lartpc           0.0\n",
      "larrout         10.0\n",
      "infra            0.0\n",
      "situ             1.0\n",
      "obs             14.0\n",
      "risk_gravity     1.0\n",
      "Name: 103812, dtype: float64\n"
     ]
    }
   ],
   "source": [
    "not_founded=True\n",
    "j=0\n",
    "i=voisins[0][j] # get index of the first neighbor for the instance used for validation ( here j=0)\n",
    "while not_founded==True :\n",
    "    risk_road=df_france.loc[i,'risk_gravity']  # get classification of the neighbor\n",
    "    if risk_road==1:\n",
    "        not_founded=False\n",
    "    j+=1\n",
    "print('la route originale est : \\n',validation.iloc[47,:-1] )\n",
    "print(\"L'améngament proposé est le suivant : \\n\", df_france.loc[voisins[0][j-1],col_train])"
   ]
  },
  {
   "cell_type": "markdown",
   "metadata": {},
   "source": [
    "On voit très que l'aménagement proposé a n'a pas de risque de dangerosité. Mais cet aménagement est très coûteux: changer la catégorie de la route, voir même changer l'agglomération .. bref it is so expensive !"
   ]
  },
  {
   "cell_type": "markdown",
   "metadata": {},
   "source": [
    "Donc on doit faire un aménagement sous contrainte, càd on ajoute des conditions à respecter. Par exemple \"je veux pas changer la catégorie de la route \""
   ]
  },
  {
   "cell_type": "code",
   "execution_count": 84,
   "metadata": {},
   "outputs": [],
   "source": [
    "def amengament(instance):\n",
    "    '''\n",
    "    cette fonction propose un améngement pour une route très dangereuse.\n",
    "    Elle permet de chercher dans la base les plus proches voisin dont le risk de gravité est nulle.\n",
    "    '''\n",
    "    print('la route originale est : \\n',instance )\n",
    "    res=pd.DataFrame()\n",
    "    for j in range(265) :\n",
    "        i=voisins[0][j] # get index of the first neighbor for the instance used for validation ( here j=0)\n",
    "        risk_road=df_france.loc[i,'risk_gravity']  # get classification of the neighbor\n",
    "        if risk_road==1:\n",
    "            my_dict=df_france.loc[i,col_train].to_dict()\n",
    "            del my_dict['risk_gravity']\n",
    "            df=pd.DataFrame(my_dict,index=[0])\n",
    "            res=pd.concat([res,df])\n",
    "    #retransome larrout :\n",
    "    #df_bretagne.loc[:,'larrout']=\n",
    "    #10*(df_bretagne.larrout-df_bretagne.larrout.min())/(df_bretagne.larrout.max()-df_bretagne.larrout.min())\n",
    "    res['larrout']=(1/10)*res['larrout']*((df_bretagne.larrout.max()-df_bretagne.larrout.min()))+df_bretagne.larrout.min()\n",
    "    # create index : \n",
    "    res=res.reset_index()\n",
    "    res=res.iloc[:,1:]\n",
    "    return res\n",
    "\n",
    "        "
   ]
  },
  {
   "cell_type": "code",
   "execution_count": 88,
   "metadata": {},
   "outputs": [
    {
     "name": "stdout",
     "output_type": "stream",
     "text": [
      "la route originale est : \n",
      " agg        1.000000\n",
      "int        1.000000\n",
      "catr       1.000000\n",
      "circ       3.000000\n",
      "vosp       0.000000\n",
      "prof       1.000000\n",
      "plan       1.000000\n",
      "lartpc     0.000000\n",
      "larrout    9.459459\n",
      "infra      0.000000\n",
      "situ       1.000000\n",
      "obs        0.000000\n",
      "Name: 47, dtype: float64\n",
      "les aménagements possibles sont les suivantes :\n",
      "\n"
     ]
    },
    {
     "data": {
      "text/html": [
       "<div>\n",
       "<style>\n",
       "    .dataframe thead tr:only-child th {\n",
       "        text-align: right;\n",
       "    }\n",
       "\n",
       "    .dataframe thead th {\n",
       "        text-align: left;\n",
       "    }\n",
       "\n",
       "    .dataframe tbody tr th {\n",
       "        vertical-align: top;\n",
       "    }\n",
       "</style>\n",
       "<table border=\"1\" class=\"dataframe\">\n",
       "  <thead>\n",
       "    <tr style=\"text-align: right;\">\n",
       "      <th></th>\n",
       "      <th>agg</th>\n",
       "      <th>catr</th>\n",
       "      <th>circ</th>\n",
       "      <th>infra</th>\n",
       "      <th>int</th>\n",
       "      <th>larrout</th>\n",
       "      <th>lartpc</th>\n",
       "      <th>obs</th>\n",
       "      <th>plan</th>\n",
       "      <th>prof</th>\n",
       "      <th>situ</th>\n",
       "      <th>vosp</th>\n",
       "    </tr>\n",
       "  </thead>\n",
       "  <tbody>\n",
       "    <tr>\n",
       "      <th>20</th>\n",
       "      <td>1.0</td>\n",
       "      <td>1.0</td>\n",
       "      <td>3.0</td>\n",
       "      <td>1.0</td>\n",
       "      <td>1.0</td>\n",
       "      <td>0.000000</td>\n",
       "      <td>0.0</td>\n",
       "      <td>3.0</td>\n",
       "      <td>1.0</td>\n",
       "      <td>1.0</td>\n",
       "      <td>1.0</td>\n",
       "      <td>0.0</td>\n",
       "    </tr>\n",
       "    <tr>\n",
       "      <th>22</th>\n",
       "      <td>1.0</td>\n",
       "      <td>1.0</td>\n",
       "      <td>1.0</td>\n",
       "      <td>1.0</td>\n",
       "      <td>1.0</td>\n",
       "      <td>10.000000</td>\n",
       "      <td>10.0</td>\n",
       "      <td>0.0</td>\n",
       "      <td>0.0</td>\n",
       "      <td>1.0</td>\n",
       "      <td>1.0</td>\n",
       "      <td>0.0</td>\n",
       "    </tr>\n",
       "    <tr>\n",
       "      <th>25</th>\n",
       "      <td>1.0</td>\n",
       "      <td>1.0</td>\n",
       "      <td>3.0</td>\n",
       "      <td>1.0</td>\n",
       "      <td>1.0</td>\n",
       "      <td>9.459459</td>\n",
       "      <td>5.0</td>\n",
       "      <td>0.0</td>\n",
       "      <td>1.0</td>\n",
       "      <td>1.0</td>\n",
       "      <td>1.0</td>\n",
       "      <td>0.0</td>\n",
       "    </tr>\n",
       "    <tr>\n",
       "      <th>36</th>\n",
       "      <td>1.0</td>\n",
       "      <td>1.0</td>\n",
       "      <td>3.0</td>\n",
       "      <td>0.0</td>\n",
       "      <td>1.0</td>\n",
       "      <td>8.648649</td>\n",
       "      <td>10.0</td>\n",
       "      <td>0.0</td>\n",
       "      <td>1.0</td>\n",
       "      <td>1.0</td>\n",
       "      <td>1.0</td>\n",
       "      <td>0.0</td>\n",
       "    </tr>\n",
       "    <tr>\n",
       "      <th>43</th>\n",
       "      <td>1.0</td>\n",
       "      <td>1.0</td>\n",
       "      <td>1.0</td>\n",
       "      <td>1.0</td>\n",
       "      <td>1.0</td>\n",
       "      <td>10.000000</td>\n",
       "      <td>10.0</td>\n",
       "      <td>6.0</td>\n",
       "      <td>1.0</td>\n",
       "      <td>1.0</td>\n",
       "      <td>1.0</td>\n",
       "      <td>0.0</td>\n",
       "    </tr>\n",
       "    <tr>\n",
       "      <th>44</th>\n",
       "      <td>1.0</td>\n",
       "      <td>1.0</td>\n",
       "      <td>3.0</td>\n",
       "      <td>0.0</td>\n",
       "      <td>1.0</td>\n",
       "      <td>10.000000</td>\n",
       "      <td>10.0</td>\n",
       "      <td>0.0</td>\n",
       "      <td>1.0</td>\n",
       "      <td>1.0</td>\n",
       "      <td>0.0</td>\n",
       "      <td>0.0</td>\n",
       "    </tr>\n",
       "    <tr>\n",
       "      <th>51</th>\n",
       "      <td>1.0</td>\n",
       "      <td>1.0</td>\n",
       "      <td>1.0</td>\n",
       "      <td>0.0</td>\n",
       "      <td>1.0</td>\n",
       "      <td>0.000000</td>\n",
       "      <td>0.0</td>\n",
       "      <td>13.0</td>\n",
       "      <td>1.0</td>\n",
       "      <td>0.0</td>\n",
       "      <td>1.0</td>\n",
       "      <td>0.0</td>\n",
       "    </tr>\n",
       "    <tr>\n",
       "      <th>56</th>\n",
       "      <td>1.0</td>\n",
       "      <td>1.0</td>\n",
       "      <td>1.0</td>\n",
       "      <td>0.0</td>\n",
       "      <td>1.0</td>\n",
       "      <td>10.000000</td>\n",
       "      <td>10.0</td>\n",
       "      <td>0.0</td>\n",
       "      <td>1.0</td>\n",
       "      <td>1.0</td>\n",
       "      <td>1.0</td>\n",
       "      <td>0.0</td>\n",
       "    </tr>\n",
       "    <tr>\n",
       "      <th>64</th>\n",
       "      <td>1.0</td>\n",
       "      <td>1.0</td>\n",
       "      <td>1.0</td>\n",
       "      <td>1.0</td>\n",
       "      <td>1.0</td>\n",
       "      <td>10.000000</td>\n",
       "      <td>0.0</td>\n",
       "      <td>6.0</td>\n",
       "      <td>2.0</td>\n",
       "      <td>1.0</td>\n",
       "      <td>1.0</td>\n",
       "      <td>0.0</td>\n",
       "    </tr>\n",
       "    <tr>\n",
       "      <th>82</th>\n",
       "      <td>1.0</td>\n",
       "      <td>1.0</td>\n",
       "      <td>3.0</td>\n",
       "      <td>0.0</td>\n",
       "      <td>1.0</td>\n",
       "      <td>10.000000</td>\n",
       "      <td>10.0</td>\n",
       "      <td>13.0</td>\n",
       "      <td>2.0</td>\n",
       "      <td>0.0</td>\n",
       "      <td>1.0</td>\n",
       "      <td>0.0</td>\n",
       "    </tr>\n",
       "    <tr>\n",
       "      <th>94</th>\n",
       "      <td>1.0</td>\n",
       "      <td>1.0</td>\n",
       "      <td>1.0</td>\n",
       "      <td>0.0</td>\n",
       "      <td>1.0</td>\n",
       "      <td>10.000000</td>\n",
       "      <td>10.0</td>\n",
       "      <td>2.0</td>\n",
       "      <td>1.0</td>\n",
       "      <td>1.0</td>\n",
       "      <td>3.0</td>\n",
       "      <td>0.0</td>\n",
       "    </tr>\n",
       "    <tr>\n",
       "      <th>99</th>\n",
       "      <td>1.0</td>\n",
       "      <td>1.0</td>\n",
       "      <td>3.0</td>\n",
       "      <td>0.0</td>\n",
       "      <td>1.0</td>\n",
       "      <td>10.000000</td>\n",
       "      <td>0.0</td>\n",
       "      <td>4.0</td>\n",
       "      <td>2.0</td>\n",
       "      <td>3.0</td>\n",
       "      <td>1.0</td>\n",
       "      <td>0.0</td>\n",
       "    </tr>\n",
       "    <tr>\n",
       "      <th>106</th>\n",
       "      <td>1.0</td>\n",
       "      <td>1.0</td>\n",
       "      <td>1.0</td>\n",
       "      <td>0.0</td>\n",
       "      <td>1.0</td>\n",
       "      <td>10.000000</td>\n",
       "      <td>0.0</td>\n",
       "      <td>5.0</td>\n",
       "      <td>1.0</td>\n",
       "      <td>1.0</td>\n",
       "      <td>1.0</td>\n",
       "      <td>0.0</td>\n",
       "    </tr>\n",
       "    <tr>\n",
       "      <th>108</th>\n",
       "      <td>1.0</td>\n",
       "      <td>1.0</td>\n",
       "      <td>3.0</td>\n",
       "      <td>0.0</td>\n",
       "      <td>1.0</td>\n",
       "      <td>10.000000</td>\n",
       "      <td>10.0</td>\n",
       "      <td>0.0</td>\n",
       "      <td>1.0</td>\n",
       "      <td>2.0</td>\n",
       "      <td>1.0</td>\n",
       "      <td>0.0</td>\n",
       "    </tr>\n",
       "    <tr>\n",
       "      <th>117</th>\n",
       "      <td>1.0</td>\n",
       "      <td>1.0</td>\n",
       "      <td>3.0</td>\n",
       "      <td>0.0</td>\n",
       "      <td>1.0</td>\n",
       "      <td>10.000000</td>\n",
       "      <td>10.0</td>\n",
       "      <td>14.0</td>\n",
       "      <td>1.0</td>\n",
       "      <td>1.0</td>\n",
       "      <td>1.0</td>\n",
       "      <td>0.0</td>\n",
       "    </tr>\n",
       "    <tr>\n",
       "      <th>125</th>\n",
       "      <td>1.0</td>\n",
       "      <td>1.0</td>\n",
       "      <td>3.0</td>\n",
       "      <td>0.0</td>\n",
       "      <td>1.0</td>\n",
       "      <td>10.000000</td>\n",
       "      <td>10.0</td>\n",
       "      <td>13.0</td>\n",
       "      <td>1.0</td>\n",
       "      <td>1.0</td>\n",
       "      <td>3.0</td>\n",
       "      <td>0.0</td>\n",
       "    </tr>\n",
       "    <tr>\n",
       "      <th>127</th>\n",
       "      <td>1.0</td>\n",
       "      <td>1.0</td>\n",
       "      <td>3.0</td>\n",
       "      <td>0.0</td>\n",
       "      <td>1.0</td>\n",
       "      <td>10.000000</td>\n",
       "      <td>0.0</td>\n",
       "      <td>0.0</td>\n",
       "      <td>3.0</td>\n",
       "      <td>1.0</td>\n",
       "      <td>1.0</td>\n",
       "      <td>0.0</td>\n",
       "    </tr>\n",
       "    <tr>\n",
       "      <th>136</th>\n",
       "      <td>1.0</td>\n",
       "      <td>1.0</td>\n",
       "      <td>1.0</td>\n",
       "      <td>0.0</td>\n",
       "      <td>1.0</td>\n",
       "      <td>10.000000</td>\n",
       "      <td>5.0</td>\n",
       "      <td>0.0</td>\n",
       "      <td>1.0</td>\n",
       "      <td>1.0</td>\n",
       "      <td>1.0</td>\n",
       "      <td>0.0</td>\n",
       "    </tr>\n",
       "  </tbody>\n",
       "</table>\n",
       "</div>"
      ],
      "text/plain": [
       "     agg  catr  circ  infra  int    larrout  lartpc   obs  plan  prof  situ  \\\n",
       "20   1.0   1.0   3.0    1.0  1.0   0.000000     0.0   3.0   1.0   1.0   1.0   \n",
       "22   1.0   1.0   1.0    1.0  1.0  10.000000    10.0   0.0   0.0   1.0   1.0   \n",
       "25   1.0   1.0   3.0    1.0  1.0   9.459459     5.0   0.0   1.0   1.0   1.0   \n",
       "36   1.0   1.0   3.0    0.0  1.0   8.648649    10.0   0.0   1.0   1.0   1.0   \n",
       "43   1.0   1.0   1.0    1.0  1.0  10.000000    10.0   6.0   1.0   1.0   1.0   \n",
       "44   1.0   1.0   3.0    0.0  1.0  10.000000    10.0   0.0   1.0   1.0   0.0   \n",
       "51   1.0   1.0   1.0    0.0  1.0   0.000000     0.0  13.0   1.0   0.0   1.0   \n",
       "56   1.0   1.0   1.0    0.0  1.0  10.000000    10.0   0.0   1.0   1.0   1.0   \n",
       "64   1.0   1.0   1.0    1.0  1.0  10.000000     0.0   6.0   2.0   1.0   1.0   \n",
       "82   1.0   1.0   3.0    0.0  1.0  10.000000    10.0  13.0   2.0   0.0   1.0   \n",
       "94   1.0   1.0   1.0    0.0  1.0  10.000000    10.0   2.0   1.0   1.0   3.0   \n",
       "99   1.0   1.0   3.0    0.0  1.0  10.000000     0.0   4.0   2.0   3.0   1.0   \n",
       "106  1.0   1.0   1.0    0.0  1.0  10.000000     0.0   5.0   1.0   1.0   1.0   \n",
       "108  1.0   1.0   3.0    0.0  1.0  10.000000    10.0   0.0   1.0   2.0   1.0   \n",
       "117  1.0   1.0   3.0    0.0  1.0  10.000000    10.0  14.0   1.0   1.0   1.0   \n",
       "125  1.0   1.0   3.0    0.0  1.0  10.000000    10.0  13.0   1.0   1.0   3.0   \n",
       "127  1.0   1.0   3.0    0.0  1.0  10.000000     0.0   0.0   3.0   1.0   1.0   \n",
       "136  1.0   1.0   1.0    0.0  1.0  10.000000     5.0   0.0   1.0   1.0   1.0   \n",
       "\n",
       "     vosp  \n",
       "20    0.0  \n",
       "22    0.0  \n",
       "25    0.0  \n",
       "36    0.0  \n",
       "43    0.0  \n",
       "44    0.0  \n",
       "51    0.0  \n",
       "56    0.0  \n",
       "64    0.0  \n",
       "82    0.0  \n",
       "94    0.0  \n",
       "99    0.0  \n",
       "106   0.0  \n",
       "108   0.0  \n",
       "117   0.0  \n",
       "125   0.0  \n",
       "127   0.0  \n",
       "136   0.0  "
      ]
     },
     "execution_count": 88,
     "metadata": {},
     "output_type": "execute_result"
    }
   ],
   "source": [
    "amenagement_instance=amengament(validation.iloc[47,:-1])\n",
    "#Supposons que les autorités ne veulent pas changer : \n",
    "#               le type de la route et agglomération.\n",
    "    \n",
    "\n",
    "# il faut récuperer leurs valeurs  :\n",
    "agg_value=validation.iloc[47,:-1].to_dict()['agg']\n",
    "catr_value=validation.iloc[47,:-1].to_dict()['catr']\n",
    "amenagement_instance=amenagement_instance.loc[((amenagement_instance['agg']==agg_value)&(amenagement_instance['catr']==catr_value)),:]\n",
    "print('les aménagements possibles sont les suivantes :\\n')\n",
    "amenagement_instance"
   ]
  },
  {
   "cell_type": "code",
   "execution_count": null,
   "metadata": {
    "collapsed": true
   },
   "outputs": [],
   "source": []
  }
 ],
 "metadata": {
  "kernelspec": {
   "display_name": "Python 3",
   "language": "python",
   "name": "python3"
  },
  "language_info": {
   "codemirror_mode": {
    "name": "ipython",
    "version": 3
   },
   "file_extension": ".py",
   "mimetype": "text/x-python",
   "name": "python",
   "nbconvert_exporter": "python",
   "pygments_lexer": "ipython3",
   "version": "3.6.3"
  }
 },
 "nbformat": 4,
 "nbformat_minor": 2
}
