{
 "cells": [
  {
   "cell_type": "code",
   "execution_count": 51,
   "metadata": {
    "collapsed": true
   },
   "outputs": [],
   "source": [
    "#required libraries : \n",
    "import numpy as np  # array structure\n",
    "import seaborn as sns # visualization\n",
    "import matplotlib.pyplot as plt # plot\n",
    "import glob, os  # dealing with OS and Files, reading files etc \n",
    "import time\n",
    "from sklearn.metrics import classification_report, confusion_matrix\n",
    "from sklearn.model_selection import train_test_split\n",
    "import xgboost\n",
    "from xgboost import XGBClassifier\n",
    "from sklearn.metrics import accuracy_score, explained_variance_score\n",
    "from xgboost import plot_importance\n",
    "import glob, os  # dealing with OS and Files, reading files etc \n",
    "from IPython.display import HTML, display\n",
    "import tabulate\n",
    "import pandas as pd  # dataframe structure\n",
    "import pickle # saving model, data, etc : serialization\n",
    "from sklearn.metrics import mean_squared_error\n",
    "from math import sqrt\n",
    "import datetime\n",
    "%matplotlib inline"
   ]
  },
  {
   "cell_type": "markdown",
   "metadata": {},
   "source": [
    "# Risque de fréquence d'accidents et le risk de gravité associé "
   ]
  },
  {
   "cell_type": "markdown",
   "metadata": {},
   "source": [
    "### Problématique : "
   ]
  },
  {
   "cell_type": "markdown",
   "metadata": {},
   "source": [
    "Dans ce notebook nous allons nous intéresser à étudier seulement l'impact de la configuration ou la description d'un lieu d'accident sur la fréquence et la gravité des accidents. \n",
    "\n",
    "Donc les objectifs sont :\n",
    "    1. de pouvoir élaborer un risque de fréquence d'accidents  en fonction d'une configuration donnée du lieu d'accident\n",
    "    2. de pouvoir élaborer un risque de gravité d'accidents en fonction d'une configuration donnée du lieu d'accident\n",
    "    \n",
    "L'ONSR peut déployer cette solution dans le but de prédire les risques associés à un nouvel aménagement ou trouver les configurations avec plus d'accidents et les aménager."
   ]
  },
  {
   "cell_type": "markdown",
   "metadata": {},
   "source": [
    "### Formalisation en Data Mining : "
   ]
  },
  {
   "cell_type": "markdown",
   "metadata": {},
   "source": [
    "#### Contraintes :"
   ]
  },
  {
   "cell_type": "markdown",
   "metadata": {},
   "source": [
    "Avant de commencer la traduction de la problématique en problème fouille de données, nous devons d'abord définir la variable cible. Pour cela nous allons créer lors de la phase de préparation des données deux variables :\n",
    "    1. Une variable qui va considérer le nombre d'accidents par configuration de route, puis discrétiser cette variable en deux niveaux\n",
    "    2. Une variable qui va considérer la  gravité des personnes impliqueés par configuration de route, puis discrétiser cette variable en deux niveaux"
   ]
  },
  {
   "cell_type": "markdown",
   "metadata": {},
   "source": [
    "#### Formalisation:"
   ]
  },
  {
   "cell_type": "markdown",
   "metadata": {},
   "source": [
    "Objectif 1 : Un modèle de classification -en utilisant les données à disposition- afin de calculer le risque associé à une configuration d'une route donnée.\n",
    "\n",
    "Objectif 2 : Un modèle de classification -en utilisant les données à disposition- afin de calculer le risque de gravité d'une route donnée."
   ]
  },
  {
   "cell_type": "markdown",
   "metadata": {},
   "source": [
    "# Méthode de travail : "
   ]
  },
  {
   "cell_type": "markdown",
   "metadata": {},
   "source": [
    "La méthode qui sera utilisé tout au long du projet est la méthode la plus populaire CRISP-DM dont le cycle de vie est présenté ci-dessus : "
   ]
  },
  {
   "cell_type": "markdown",
   "metadata": {},
   "source": [
    "![](crisp.PNG)"
   ]
  },
  {
   "cell_type": "markdown",
   "metadata": {},
   "source": [
    "Vu que nos objectifs nécessaitent les mêmes données, la même préparation et le même nettoyage nous allons suivre la méthode CRISP-DM pour les deux objectifs parallèlement. Avant de se lancer dans la compréhension du marché, nous allons élaborer d'abord notre plan de projet : "
   ]
  },
  {
   "cell_type": "code",
   "execution_count": 30,
   "metadata": {},
   "outputs": [
    {
     "data": {
      "text/html": [
       "<table>\n",
       "<tbody>\n",
       "<tr><td>Phase                    </td><td>Temps     </td><td>Ressources                                </td><td>Risques                                                           </td></tr>\n",
       "<tr><td>Compréhension du problème</td><td>1 semaine </td><td>tout le groupe                            </td><td>Changement économique                                             </td></tr>\n",
       "<tr><td>Compréhension des données</td><td>1 semaines</td><td>tout le groupe                            </td><td>Problèmes de données, problèmes technologiques                    </td></tr>\n",
       "<tr><td>Préparation des données  </td><td>3 semaines</td><td>tout le groupe                            </td><td>Problèmes de données, problèmes technologiques                    </td></tr>\n",
       "<tr><td>Modélisation             </td><td>1 semaines</td><td>tout le groupe                            </td><td>Problèmes technologiques, incapacité à trouver un modèle adéquat  </td></tr>\n",
       "<tr><td>Evaluation               </td><td>1 semaine </td><td>Encadrants, Hugo DARCHIS et Edouard LE COZ</td><td>incapacité à mettre en oeuvre les résultats                       </td></tr>\n",
       "<tr><td>Déploiement              </td><td>1 semaine </td><td>Riahi LOURIZ                              </td><td>Changement économique, incapacité à mettre en oeuvre les résultats</td></tr>\n",
       "</tbody>\n",
       "</table>"
      ],
      "text/plain": [
       "<IPython.core.display.HTML object>"
      ]
     },
     "metadata": {},
     "output_type": "display_data"
    }
   ],
   "source": [
    "table=[[\"Phase\",\t\"Temps\",\"Ressources\",\"Risques\"],\n",
    "       [\"Compréhension du problème\", \"1 semaine\",\"tout le groupe\",\"Changement économique\"],\n",
    "[\"Compréhension des données\",\"1 semaines\",\"tout le groupe\", \"Problèmes de données, problèmes technologiques\"],\n",
    "       [\"Préparation des données\",\"3 semaines\",\"tout le groupe\",\"Problèmes de données, problèmes technologiques\"],\n",
    "[\"Modélisation\" ,\"1 semaines\", \"tout le groupe\",\"Problèmes technologiques, incapacité à trouver un modèle adéquat\"],\n",
    "[\"Evaluation\", \"1 semaine\", \"Encadrants, Hugo DARCHIS et Edouard LE COZ\", \"incapacité à mettre en oeuvre les résultats\"],\n",
    "[\"Déploiement\",\"1 semaine\",\" Riahi LOURIZ\",\"Changement économique, incapacité à mettre en oeuvre les résultats\"]]\n",
    "display(HTML(tabulate.tabulate(table, tablefmt='html')))"
   ]
  },
  {
   "cell_type": "markdown",
   "metadata": {},
   "source": [
    "### Compréhension du marché "
   ]
  },
  {
   "cell_type": "markdown",
   "metadata": {},
   "source": [
    "reste à faire...."
   ]
  },
  {
   "cell_type": "markdown",
   "metadata": {},
   "source": [
    "### Compréhension des données \n"
   ]
  },
  {
   "cell_type": "markdown",
   "metadata": {},
   "source": [
    "Cette implique l'étude des données à disposition sur les accidents corporels en France. Cette étape a un poids important dans la méthode CRISP-DM car elle permet d'éviter les problèmes inattendues au cours de la phase de la préparation des données. Pour bien amener cette étape, nous allons suivre les étapes suivantes : "
   ]
  },
  {
   "cell_type": "markdown",
   "metadata": {},
   "source": [
    "##### A : Collecte des données initiales: "
   ]
  },
  {
   "cell_type": "markdown",
   "metadata": {},
   "source": [
    "###### Sources des données :"
   ]
  },
  {
   "cell_type": "markdown",
   "metadata": {},
   "source": [
    "Les données utilisées afin de répondre à nos problématiques ont été collectées depuis la plateforme ouvertes des données publiques françaises (Datagov). Ces données sont saisies et rassemblées dans une fiche intitulée bulletin d’analyse des accidents corporels. L’ensemble de ces fiches forme le fichier national des accidents corporels de la circulation dit Fichier BAAC administré par l’Observatoire national interministériel de la sécurité routière (ONISR).\n",
    "Les données sont fournies pour chaque année ( de 2005 à 2016) sous forme de\n",
    "quatre tables :"
   ]
  },
  {
   "cell_type": "markdown",
   "metadata": {},
   "source": [
    "1. La table <b>CARACTERISTIQUES</b> qui décrit les circonstances générales de\n",
    "l’accident\n",
    "2. La table <b>LIEUX</b> qui décrit le lieu principal de l’accident même si celui-ci s’est déroulé à une Intersection\n",
    "3. La table <b>VEHICULES</b> impliqués\n",
    "4. La table <b>USAGERS</b> impliqués"
   ]
  },
  {
   "cell_type": "markdown",
   "metadata": {},
   "source": [
    "Pour la définition des attributs de chaque table voir document PDF."
   ]
  },
  {
   "cell_type": "markdown",
   "metadata": {},
   "source": [
    "###### Attributs prometteurs : "
   ]
  },
  {
   "cell_type": "markdown",
   "metadata": {},
   "source": [
    "En se basant sur l'objectif fixé au début du notebook, nous allons lister les variables les plus intérresantes pour mener le reste de l'étude. Vu qu'on est intéressé sur l'impact de la configuration ou la description d'une route sur la fréquence et la gravité des accidents, alors nous allons choisir les variables suivantes (pour la siginification des variables veuillez référer au document PDF): "
   ]
  },
  {
   "cell_type": "code",
   "execution_count": 3,
   "metadata": {
    "collapsed": true
   },
   "outputs": [],
   "source": [
    "col_used=['lum', 'agg', 'int', 'catr', 'circ', 'nbv', 'vosp','prof', 'plan', 'lartpc','larrout', 'infra','situ', 'obs','obsm']"
   ]
  },
  {
   "cell_type": "markdown",
   "metadata": {},
   "source": [
    "###### Fusion des données :"
   ]
  },
  {
   "cell_type": "markdown",
   "metadata": {},
   "source": [
    "Les quatres tables  pour la période (2005-2016) doivent être rassemblés sur quatres tables : \n",
    "1. La table <b>CARACTERISTIQUES</b> sur toute la période 2005-2016\n",
    "2. La table <b>LIEUX</b>  sur toute la période 2005-2016\n",
    "3. La table <b>VEHICULES</b>  sur toute la période 2005-2016\n",
    "4. La table <b>USAGERS</b>  sur toute la période 2005-2016"
   ]
  },
  {
   "cell_type": "code",
   "execution_count": 18,
   "metadata": {
    "collapsed": true
   },
   "outputs": [],
   "source": [
    "path =r'dataset/caracteristiques' # path containing all csv files about caracteristiques (  use your own path)\n",
    "allFiles = glob.glob(path + \"/*.csv\")  # a list containing files names (all csv files)\n",
    "list_ = []\n",
    "for file_ in allFiles:\n",
    "    if '2009' in file_ :\n",
    "        df = pd.read_table(file_,encoding='latin-1') # read table file (file_) for year 2009\n",
    "        list_.append(df)  # append the the dataframe df to the lust list_\n",
    "    else : \n",
    "        df = pd.read_csv(file_,encoding='latin-1') # read csv file (file_)\n",
    "        list_.append(df)  # append the the dataframe df to the lust list_     \n",
    "        \n",
    "caracteristiques = pd.concat(list_)  # concat all dataframes existing in list_"
   ]
  },
  {
   "cell_type": "code",
   "execution_count": 19,
   "metadata": {
    "collapsed": true
   },
   "outputs": [],
   "source": [
    "path =r'dataset/usagers' \n",
    "allFiles = glob.glob(path + \"/*.csv\")\n",
    "frame = pd.DataFrame()\n",
    "list_ = []\n",
    "for file_ in allFiles:\n",
    "    df = pd.read_csv(file_,encoding='latin-1')\n",
    "    list_.append(df)\n",
    "usagers = pd.concat(list_)"
   ]
  },
  {
   "cell_type": "code",
   "execution_count": 20,
   "metadata": {
    "collapsed": true
   },
   "outputs": [],
   "source": [
    "path =r'dataset/lieux' # use your path\n",
    "allFiles = glob.glob(path + \"/*.csv\")\n",
    "frame = pd.DataFrame()\n",
    "list_ = []\n",
    "for file_ in allFiles:\n",
    "    df = pd.read_csv(file_,encoding='latin-1')\n",
    "    list_.append(df)\n",
    "lieux = pd.concat(list_)"
   ]
  },
  {
   "cell_type": "code",
   "execution_count": 21,
   "metadata": {
    "collapsed": true
   },
   "outputs": [],
   "source": [
    "path =r'dataset/vehicules' # use your path\n",
    "allFiles = glob.glob(path + \"/*.csv\")\n",
    "frame = pd.DataFrame()\n",
    "list_ = []\n",
    "for file_ in allFiles:\n",
    "    df = pd.read_csv(file_,encoding='latin-1')\n",
    "    list_.append(df)\n",
    "vehicules = pd.concat(list_)"
   ]
  },
  {
   "cell_type": "markdown",
   "metadata": {},
   "source": [
    "###### Taille de données et contrainte pour les problématiques: "
   ]
  },
  {
   "cell_type": "markdown",
   "metadata": {},
   "source": [
    "La base de données contient un historique à partir de 2005 jusqu'au 2016, par conséquent on a suffisamment des données pour traiter nos problématiques"
   ]
  },
  {
   "cell_type": "markdown",
   "metadata": {},
   "source": [
    "##### B. Description des données"
   ]
  },
  {
   "cell_type": "markdown",
   "metadata": {},
   "source": [
    "Il exist plusieurs méthodes pour décrire les données, mais la plupart des descriptions sont axées sur la quantité et la qualité des données : le volume de données disponibles et l'état de ces données."
   ]
  },
  {
   "cell_type": "markdown",
   "metadata": {},
   "source": [
    "###### Quantité de données:"
   ]
  },
  {
   "cell_type": "code",
   "execution_count": 27,
   "metadata": {},
   "outputs": [
    {
     "name": "stdout",
     "output_type": "stream",
     "text": [
      "Info abour caracteristiques : \n",
      "<class 'pandas.core.frame.DataFrame'>\n",
      "Int64Index: 839985 entries, 0 to 59431\n",
      "Data columns (total 16 columns):\n",
      "Num_Acc    839985 non-null int64\n",
      "an         839985 non-null int64\n",
      "mois       839985 non-null int64\n",
      "jour       839985 non-null int64\n",
      "hrmn       839985 non-null int64\n",
      "lum        839985 non-null int64\n",
      "agg        839985 non-null int64\n",
      "int        839985 non-null int64\n",
      "atm        839930 non-null float64\n",
      "col        839974 non-null float64\n",
      "com        839983 non-null float64\n",
      "adr        699443 non-null object\n",
      "gps        366226 non-null object\n",
      "lat        362471 non-null float64\n",
      "long       362467 non-null object\n",
      "dep        839985 non-null int64\n",
      "dtypes: float64(4), int64(9), object(3)\n",
      "memory usage: 108.9+ MB\n",
      "----------------------------------------------------------\n",
      "----------------------------------------------------------\n",
      "Info abour lieux :\n",
      "<class 'pandas.core.frame.DataFrame'>\n",
      "Int64Index: 839985 entries, 0 to 59431\n",
      "Data columns (total 18 columns):\n",
      "Num_Acc    839985 non-null int64\n",
      "catr       839984 non-null float64\n",
      "voie       782753 non-null object\n",
      "v1         332816 non-null float64\n",
      "v2         33953 non-null object\n",
      "circ       839187 non-null float64\n",
      "nbv        838195 non-null float64\n",
      "pr         414770 non-null float64\n",
      "pr1        413463 non-null float64\n",
      "vosp       838345 non-null float64\n",
      "prof       838924 non-null float64\n",
      "plan       838909 non-null float64\n",
      "lartpc     830440 non-null float64\n",
      "larrout    831706 non-null float64\n",
      "surf       838968 non-null float64\n",
      "infra      838707 non-null float64\n",
      "situ       838983 non-null float64\n",
      "env1       838709 non-null float64\n",
      "dtypes: float64(15), int64(1), object(2)\n",
      "memory usage: 121.8+ MB\n",
      "----------------------------------------------------------\n",
      "----------------------------------------------------------\n",
      "Info abour vehicules :\n",
      "<class 'pandas.core.frame.DataFrame'>\n",
      "Int64Index: 1433389 entries, 0 to 101923\n",
      "Data columns (total 9 columns):\n",
      "Num_Acc    1433389 non-null int64\n",
      "senc       1433317 non-null float64\n",
      "catv       1433389 non-null int64\n",
      "occutc     1433389 non-null int64\n",
      "obs        1432627 non-null float64\n",
      "obsm       1432788 non-null float64\n",
      "choc       1433160 non-null float64\n",
      "manv       1433083 non-null float64\n",
      "num_veh    1433389 non-null object\n",
      "dtypes: float64(5), int64(3), object(1)\n",
      "memory usage: 109.4+ MB\n",
      "----------------------------------------------------------\n",
      "----------------------------------------------------------\n",
      "Info abour usagers :\n",
      "<class 'pandas.core.frame.DataFrame'>\n",
      "Int64Index: 1876005 entries, 0 to 133421\n",
      "Data columns (total 12 columns):\n",
      "Num_Acc    int64\n",
      "place      float64\n",
      "catu       int64\n",
      "grav       int64\n",
      "sexe       int64\n",
      "trajet     float64\n",
      "secu       float64\n",
      "locp       float64\n",
      "actp       float64\n",
      "etatp      float64\n",
      "an_nais    float64\n",
      "num_veh    object\n",
      "dtypes: float64(7), int64(4), object(1)\n",
      "memory usage: 186.1+ MB\n"
     ]
    }
   ],
   "source": [
    "# memory size for each table : \n",
    "print(\"Info abour caracteristiques : \")\n",
    "caracteristiques.info()\n",
    "print(\"----------------------------------------------------------\")\n",
    "print(\"----------------------------------------------------------\")\n",
    "print(\"Info abour lieux :\") \n",
    "lieux.info()\n",
    "print(\"----------------------------------------------------------\")\n",
    "print(\"----------------------------------------------------------\")\n",
    "print(\"Info abour vehicules :\")\n",
    "vehicules.info()\n",
    "print(\"----------------------------------------------------------\")\n",
    "print(\"----------------------------------------------------------\")\n",
    "print(\"Info abour usagers :\") \n",
    "usagers.info()\n"
   ]
  },
  {
   "cell_type": "code",
   "execution_count": 29,
   "metadata": {},
   "outputs": [
    {
     "name": "stdout",
     "output_type": "stream",
     "text": [
      "-----------Shape of our dataframes ---------------\n",
      "The shape of caracteristiques is : (839985, 16)\n",
      "The shape of lieux is : (839985, 18)\n",
      "The shape of vehicules is : (1433389, 9)\n",
      "The shape of usagers is : (1876005, 12)\n",
      "Count Missing Data (note that 0 means also a nan value but should be converted to nan later during cleaning stage)\n",
      "Total missing data in  caracteristiques is : 1569401\n",
      "Total missing data in  lieux is : 2250933\n",
      "Total missing data in  vehicules is : 1970\n",
      "Total missing data in  usagers is : 151687\n"
     ]
    }
   ],
   "source": [
    "print(\"-----------Shape of our dataframes ---------------\")\n",
    "print(\"The shape of caracteristiques is :\", caracteristiques.shape)\n",
    "print(\"The shape of lieux is :\", lieux.shape)\n",
    "print(\"The shape of vehicules is :\", vehicules.shape)\n",
    "print(\"The shape of usagers is :\", usagers.shape)\n",
    "print(\"Total Missing Data (note that 0 means also a nan value but should be converted to nan later during cleaning stage)\")\n",
    "print(\"Total missing data in  caracteristiques is :\", caracteristiques.isnull().sum().sum())\n",
    "print(\"Total missing data in  lieux is :\", lieux.isnull().sum().sum())\n",
    "print(\"Total missing data in  vehicules is :\", vehicules.isnull().sum().sum())\n",
    "print(\"Total missing data in  usagers is :\", usagers.isnull().sum().sum())"
   ]
  },
  {
   "cell_type": "markdown",
   "metadata": {},
   "source": [
    "###### Types de valeur : "
   ]
  },
  {
   "cell_type": "markdown",
   "metadata": {},
   "source": [
    "D'après la partie ci-dessus, nous remarquons très bien variables se présente sous un seul type, à savoir : numérique.\n",
    "\n",
    "Certes ce type n'est pas le seul présenté dans notre jeu de données car on a beaucoup de variables catégorielles  codées numériquement avec des entiers.\n",
    "\n"
   ]
  },
  {
   "cell_type": "markdown",
   "metadata": {},
   "source": [
    "###### Méthode de codage :"
   ]
  },
  {
   "cell_type": "markdown",
   "metadata": {},
   "source": [
    "la partie ci-dessus nous permet déjà de penser aux types de codage qui sera utilisé par la suite lors de la modélisation, soit on garde ce codage ou on va utiliser le <b>Hot encoding</b>"
   ]
  },
  {
   "cell_type": "markdown",
   "metadata": {},
   "source": [
    "##### C. Vérification de la qualité des données : "
   ]
  },
  {
   "cell_type": "markdown",
   "metadata": {},
   "source": [
    "Les données sont rarement présentées bien nettoyées. En fait, les données généralement contiennent des valeurs manquantes, des points aberrants, des erreurs de saisie etc. Le document définissant la base de données mentionne avec toute clarté qu'il aie des valeurs manquantes : \"La plupart des variables contenues dans les quatre fichiers précédemment énumérés peuvent contenir\n",
    "des cellules vides ou un zéro ou un point. Il s’agit, dans ces trois cas, d’une cellule non renseignée par\n",
    "les forces de l'ordre ou sans objet\""
   ]
  },
  {
   "cell_type": "markdown",
   "metadata": {},
   "source": [
    "Nous n'allons pas nettoyer les données à ce stade, mais cela sera une partie dans la préparation des données."
   ]
  },
  {
   "cell_type": "markdown",
   "metadata": {},
   "source": [
    "##### D. Exploration des données : "
   ]
  },
  {
   "cell_type": "markdown",
   "metadata": {},
   "source": [
    "Utiliser tableau pour visualiser les données ou simplement faire des table croisé ...."
   ]
  },
  {
   "cell_type": "markdown",
   "metadata": {},
   "source": [
    "### Préparation des données\n"
   ]
  },
  {
   "cell_type": "markdown",
   "metadata": {},
   "source": [
    "D'après l'effort qui a été consacré aux étapes précédentes, nous allons lister les principales tâches à faire lors de la préparation des données : "
   ]
  },
  {
   "cell_type": "markdown",
   "metadata": {},
   "source": [
    "- Fusion des quatres tables \n",
    "- Aggrégation des lignes selon les colonnes choisie pour la définition de la configuration d'une route.\n",
    "- Traitement des valeurs manquantes\n",
    "Les colonnes aggrégées sont : \n",
    "    1. Num_Acc (opération d'aggrégation est <b> count </b>) \n",
    "    2. grav (opération d'aggrégation est <b> value_counts</b>)\n",
    "    \n",
    "- Traitement des outliers\n",
    "- Feature engineering :  création de deux variables cibles qui vont mesurer le risk de fréquence d'accident et le score de gravité pour chaque configuration du lieu d'accident.\n",
    "- Fractionnement du jeu de données en train/test data"
   ]
  },
  {
   "cell_type": "markdown",
   "metadata": {},
   "source": [
    "###### Fusion des quatres tables : "
   ]
  },
  {
   "cell_type": "code",
   "execution_count": 31,
   "metadata": {
    "collapsed": true
   },
   "outputs": [],
   "source": [
    "# on merge caracteristiques et lieux puis on merge avec vehicules : \n",
    "carac_lieux_veh_merged=pd.merge(pd.merge(caracteristiques,lieux,on='Num_Acc'), vehicules,on='Num_Acc' )\n",
    "#on merge finalement avec usagers :\n",
    "data_merged=pd.merge(carac_lieux_veh_merged,usagers,on=['Num_Acc','num_veh'])"
   ]
  },
  {
   "cell_type": "code",
   "execution_count": 39,
   "metadata": {},
   "outputs": [
    {
     "data": {
      "text/html": [
       "<div>\n",
       "<style>\n",
       "    .dataframe thead tr:only-child th {\n",
       "        text-align: right;\n",
       "    }\n",
       "\n",
       "    .dataframe thead th {\n",
       "        text-align: left;\n",
       "    }\n",
       "\n",
       "    .dataframe tbody tr th {\n",
       "        vertical-align: top;\n",
       "    }\n",
       "</style>\n",
       "<table border=\"1\" class=\"dataframe\">\n",
       "  <thead>\n",
       "    <tr style=\"text-align: right;\">\n",
       "      <th></th>\n",
       "      <th>Num_Acc</th>\n",
       "      <th>an</th>\n",
       "      <th>mois</th>\n",
       "      <th>jour</th>\n",
       "      <th>hrmn</th>\n",
       "      <th>lum</th>\n",
       "      <th>agg</th>\n",
       "      <th>int</th>\n",
       "      <th>atm</th>\n",
       "      <th>col</th>\n",
       "      <th>...</th>\n",
       "      <th>place</th>\n",
       "      <th>catu</th>\n",
       "      <th>grav</th>\n",
       "      <th>sexe</th>\n",
       "      <th>trajet</th>\n",
       "      <th>secu</th>\n",
       "      <th>locp</th>\n",
       "      <th>actp</th>\n",
       "      <th>etatp</th>\n",
       "      <th>an_nais</th>\n",
       "    </tr>\n",
       "  </thead>\n",
       "  <tbody>\n",
       "    <tr>\n",
       "      <th>0</th>\n",
       "      <td>200500000001</td>\n",
       "      <td>5</td>\n",
       "      <td>1</td>\n",
       "      <td>12</td>\n",
       "      <td>1900</td>\n",
       "      <td>3</td>\n",
       "      <td>2</td>\n",
       "      <td>1</td>\n",
       "      <td>1.0</td>\n",
       "      <td>3.0</td>\n",
       "      <td>...</td>\n",
       "      <td>1.0</td>\n",
       "      <td>1</td>\n",
       "      <td>4</td>\n",
       "      <td>1</td>\n",
       "      <td>1.0</td>\n",
       "      <td>11.0</td>\n",
       "      <td>0.0</td>\n",
       "      <td>0.0</td>\n",
       "      <td>0.0</td>\n",
       "      <td>1976.0</td>\n",
       "    </tr>\n",
       "    <tr>\n",
       "      <th>1</th>\n",
       "      <td>200500000001</td>\n",
       "      <td>5</td>\n",
       "      <td>1</td>\n",
       "      <td>12</td>\n",
       "      <td>1900</td>\n",
       "      <td>3</td>\n",
       "      <td>2</td>\n",
       "      <td>1</td>\n",
       "      <td>1.0</td>\n",
       "      <td>3.0</td>\n",
       "      <td>...</td>\n",
       "      <td>1.0</td>\n",
       "      <td>1</td>\n",
       "      <td>3</td>\n",
       "      <td>2</td>\n",
       "      <td>3.0</td>\n",
       "      <td>11.0</td>\n",
       "      <td>0.0</td>\n",
       "      <td>0.0</td>\n",
       "      <td>0.0</td>\n",
       "      <td>1968.0</td>\n",
       "    </tr>\n",
       "    <tr>\n",
       "      <th>2</th>\n",
       "      <td>200500000001</td>\n",
       "      <td>5</td>\n",
       "      <td>1</td>\n",
       "      <td>12</td>\n",
       "      <td>1900</td>\n",
       "      <td>3</td>\n",
       "      <td>2</td>\n",
       "      <td>1</td>\n",
       "      <td>1.0</td>\n",
       "      <td>3.0</td>\n",
       "      <td>...</td>\n",
       "      <td>2.0</td>\n",
       "      <td>2</td>\n",
       "      <td>1</td>\n",
       "      <td>1</td>\n",
       "      <td>0.0</td>\n",
       "      <td>11.0</td>\n",
       "      <td>0.0</td>\n",
       "      <td>0.0</td>\n",
       "      <td>0.0</td>\n",
       "      <td>1964.0</td>\n",
       "    </tr>\n",
       "  </tbody>\n",
       "</table>\n",
       "<p>3 rows × 51 columns</p>\n",
       "</div>"
      ],
      "text/plain": [
       "        Num_Acc  an  mois  jour  hrmn  lum  agg  int  atm  col   ...    place  \\\n",
       "0  200500000001   5     1    12  1900    3    2    1  1.0  3.0   ...      1.0   \n",
       "1  200500000001   5     1    12  1900    3    2    1  1.0  3.0   ...      1.0   \n",
       "2  200500000001   5     1    12  1900    3    2    1  1.0  3.0   ...      2.0   \n",
       "\n",
       "  catu grav  sexe trajet  secu  locp actp  etatp an_nais  \n",
       "0    1    4     1    1.0  11.0   0.0  0.0    0.0  1976.0  \n",
       "1    1    3     2    3.0  11.0   0.0  0.0    0.0  1968.0  \n",
       "2    2    1     1    0.0  11.0   0.0  0.0    0.0  1964.0  \n",
       "\n",
       "[3 rows x 51 columns]"
      ]
     },
     "execution_count": 39,
     "metadata": {},
     "output_type": "execute_result"
    }
   ],
   "source": [
    "# show first and last 3 rows : \n",
    "data_merged.head(3)"
   ]
  },
  {
   "cell_type": "code",
   "execution_count": 38,
   "metadata": {},
   "outputs": [
    {
     "data": {
      "text/html": [
       "<div>\n",
       "<style>\n",
       "    .dataframe thead tr:only-child th {\n",
       "        text-align: right;\n",
       "    }\n",
       "\n",
       "    .dataframe thead th {\n",
       "        text-align: left;\n",
       "    }\n",
       "\n",
       "    .dataframe tbody tr th {\n",
       "        vertical-align: top;\n",
       "    }\n",
       "</style>\n",
       "<table border=\"1\" class=\"dataframe\">\n",
       "  <thead>\n",
       "    <tr style=\"text-align: right;\">\n",
       "      <th></th>\n",
       "      <th>Num_Acc</th>\n",
       "      <th>an</th>\n",
       "      <th>mois</th>\n",
       "      <th>jour</th>\n",
       "      <th>hrmn</th>\n",
       "      <th>lum</th>\n",
       "      <th>agg</th>\n",
       "      <th>int</th>\n",
       "      <th>atm</th>\n",
       "      <th>col</th>\n",
       "      <th>...</th>\n",
       "      <th>place</th>\n",
       "      <th>catu</th>\n",
       "      <th>grav</th>\n",
       "      <th>sexe</th>\n",
       "      <th>trajet</th>\n",
       "      <th>secu</th>\n",
       "      <th>locp</th>\n",
       "      <th>actp</th>\n",
       "      <th>etatp</th>\n",
       "      <th>an_nais</th>\n",
       "    </tr>\n",
       "  </thead>\n",
       "  <tbody>\n",
       "    <tr>\n",
       "      <th>1875980</th>\n",
       "      <td>201600059432</td>\n",
       "      <td>16</td>\n",
       "      <td>12</td>\n",
       "      <td>24</td>\n",
       "      <td>635</td>\n",
       "      <td>1</td>\n",
       "      <td>2</td>\n",
       "      <td>6</td>\n",
       "      <td>1.0</td>\n",
       "      <td>3.0</td>\n",
       "      <td>...</td>\n",
       "      <td>1.0</td>\n",
       "      <td>1</td>\n",
       "      <td>4</td>\n",
       "      <td>1</td>\n",
       "      <td>3.0</td>\n",
       "      <td>21.0</td>\n",
       "      <td>0.0</td>\n",
       "      <td>0.0</td>\n",
       "      <td>0.0</td>\n",
       "      <td>1967.0</td>\n",
       "    </tr>\n",
       "    <tr>\n",
       "      <th>1875981</th>\n",
       "      <td>201600059432</td>\n",
       "      <td>16</td>\n",
       "      <td>12</td>\n",
       "      <td>24</td>\n",
       "      <td>635</td>\n",
       "      <td>1</td>\n",
       "      <td>2</td>\n",
       "      <td>6</td>\n",
       "      <td>1.0</td>\n",
       "      <td>3.0</td>\n",
       "      <td>...</td>\n",
       "      <td>2.0</td>\n",
       "      <td>2</td>\n",
       "      <td>4</td>\n",
       "      <td>1</td>\n",
       "      <td>0.0</td>\n",
       "      <td>21.0</td>\n",
       "      <td>0.0</td>\n",
       "      <td>0.0</td>\n",
       "      <td>0.0</td>\n",
       "      <td>1967.0</td>\n",
       "    </tr>\n",
       "    <tr>\n",
       "      <th>1875982</th>\n",
       "      <td>201600059432</td>\n",
       "      <td>16</td>\n",
       "      <td>12</td>\n",
       "      <td>24</td>\n",
       "      <td>635</td>\n",
       "      <td>1</td>\n",
       "      <td>2</td>\n",
       "      <td>6</td>\n",
       "      <td>1.0</td>\n",
       "      <td>3.0</td>\n",
       "      <td>...</td>\n",
       "      <td>1.0</td>\n",
       "      <td>1</td>\n",
       "      <td>1</td>\n",
       "      <td>1</td>\n",
       "      <td>0.0</td>\n",
       "      <td>11.0</td>\n",
       "      <td>0.0</td>\n",
       "      <td>0.0</td>\n",
       "      <td>0.0</td>\n",
       "      <td>1981.0</td>\n",
       "    </tr>\n",
       "  </tbody>\n",
       "</table>\n",
       "<p>3 rows × 51 columns</p>\n",
       "</div>"
      ],
      "text/plain": [
       "              Num_Acc  an  mois  jour  hrmn  lum  agg  int  atm  col   ...    \\\n",
       "1875980  201600059432  16    12    24   635    1    2    6  1.0  3.0   ...     \n",
       "1875981  201600059432  16    12    24   635    1    2    6  1.0  3.0   ...     \n",
       "1875982  201600059432  16    12    24   635    1    2    6  1.0  3.0   ...     \n",
       "\n",
       "         place catu grav  sexe trajet  secu  locp actp  etatp an_nais  \n",
       "1875980    1.0    1    4     1    3.0  21.0   0.0  0.0    0.0  1967.0  \n",
       "1875981    2.0    2    4     1    0.0  21.0   0.0  0.0    0.0  1967.0  \n",
       "1875982    1.0    1    1     1    0.0  11.0   0.0  0.0    0.0  1981.0  \n",
       "\n",
       "[3 rows x 51 columns]"
      ]
     },
     "execution_count": 38,
     "metadata": {},
     "output_type": "execute_result"
    }
   ],
   "source": [
    "data_merged.tail(3)"
   ]
  },
  {
   "cell_type": "code",
   "execution_count": 41,
   "metadata": {
    "collapsed": true
   },
   "outputs": [],
   "source": [
    "#save data_merged to csv file : \n",
    "data_merged.to_csv('score-analysis/data_merged.csv', index=False)"
   ]
  },
  {
   "cell_type": "code",
   "execution_count": 2,
   "metadata": {
    "collapsed": true
   },
   "outputs": [],
   "source": [
    "data_merged=pd.read_csv('score-analysis/data_merged.csv',encoding='latin-1')"
   ]
  },
  {
   "cell_type": "markdown",
   "metadata": {},
   "source": [
    "###### Traitement des valeurs manquantes : "
   ]
  },
  {
   "cell_type": "markdown",
   "metadata": {},
   "source": [
    "Nous n'allons imputer que les variables qui nous intéresse qui sont définie dans la liste <b>col_used</b>"
   ]
  },
  {
   "cell_type": "code",
   "execution_count": 4,
   "metadata": {},
   "outputs": [
    {
     "name": "stdout",
     "output_type": "stream",
     "text": [
      "['lum', 'agg', 'int', 'catr', 'circ', 'nbv', 'vosp', 'prof', 'plan', 'lartpc', 'larrout', 'infra', 'situ', 'obs', 'obsm']\n"
     ]
    }
   ],
   "source": [
    "#rappel : \n",
    "print(col_used)"
   ]
  },
  {
   "cell_type": "code",
   "execution_count": 45,
   "metadata": {},
   "outputs": [
    {
     "data": {
      "image/png": "[encoded data removed]",
      "text/plain": [
       "<matplotlib.figure.Figure at 0x2110655e400>"
      ]
     },
     "metadata": {},
     "output_type": "display_data"
    }
   ],
   "source": [
    "#visualisatio des valeurs manquantes : A noter on considére que nan\n",
    "msno.matrix(data_merged.loc[:,col_used])"
   ]
  },
  {
   "cell_type": "code",
   "execution_count": 5,
   "metadata": {},
   "outputs": [
    {
     "data": {
      "text/plain": [
       "lum            0\n",
       "agg            0\n",
       "int            0\n",
       "catr           2\n",
       "circ        1781\n",
       "nbv         4063\n",
       "vosp        3769\n",
       "prof        2399\n",
       "plan        2443\n",
       "lartpc     21272\n",
       "larrout    18297\n",
       "infra       2899\n",
       "situ        2278\n",
       "obs          790\n",
       "obsm         677\n",
       "dtype: int64"
      ]
     },
     "execution_count": 5,
     "metadata": {},
     "output_type": "execute_result"
    }
   ],
   "source": [
    "#détail du nombre de valeurs manquantes par colonnes\n",
    "data_merged.loc[:,col_used].isnull().sum()"
   ]
  },
  {
   "cell_type": "markdown",
   "metadata": {},
   "source": [
    "Traiter les valeurs maquantes revient à savoir les mécanismes dérier (MAR, MCAR, MNAR)"
   ]
  },
  {
   "cell_type": "markdown",
   "metadata": {},
   "source": [
    "Une carte de chaleur de corrélation (<b>heatmap correlation</b> simple est montrée ci-dessous. Cette carte décrit le degré de relation de nullité entre les différentes caractéristiques. La plage de cette corrélation de nullité va de -1 à 1 (-1 ≤ R ≤ 1). Les variables sans valeur manquante sont exclues du heatmap. Si la corrélation de nullité est très proche de zéro (-0,05 <R <0,05) (par exemple: catr vs catr), aucune valeur ne sera affichée. En outre, une corrélation de nullité positive parfaite (R = 1) indique que la première variable et la deuxième variable ont toutes les deux des valeurs manquantes correspondantes (MAR) alors qu'une corrélation de nullité négative parfaite (R = -1) signifie que l'une des variables est manquante alors que  la seconde ne l'est pas (MNAR)."
   ]
  },
  {
   "cell_type": "code",
   "execution_count": 6,
   "metadata": {},
   "outputs": [
    {
     "data": {
      "image/png": "[encoded data removed]",
      "text/plain": [
       "<matplotlib.figure.Figure at 0x20004a0f940>"
      ]
     },
     "metadata": {},
     "output_type": "display_data"
    }
   ],
   "source": [
    "msno.heatmap(data_merged.loc[:,col_used])\n"
   ]
  },
  {
   "cell_type": "markdown",
   "metadata": {},
   "source": [
    "Le heatmap nous permet de conclure quant à la méthode d'imputation qui doit être utilisée. Cette méthode ne doit pas être stationnaire (imputation par le mode (variables catégorielles) ou la moyenne (variables numériques) car on n'est pas face à un phénomène MCAR, et donc une supression des lignes correspondant aux valeurs manquantes baisera les résultats."
   ]
  },
  {
   "cell_type": "markdown",
   "metadata": {},
   "source": [
    "Cependant les données présentent des variables de différents types et les méthodes qui sont utilisées pour l'imputation des valeurs manquantes gérent mieux que les valeurs numériques comme <b>fancyimpute</b> et <b>MICE</b> (Multiple Imputation by Chained Equations)"
   ]
  },
  {
   "cell_type": "markdown",
   "metadata": {},
   "source": [
    "Par conséquent nous allons opter pour un algorithme qui traitent les valeurs manquantes d'une façon interne. On va choisir <b>xgboost</b> qui traitent les valeurs manquantes d'une telle façon à minimiser la fonction de coût qui lui est propore."
   ]
  },
  {
   "cell_type": "markdown",
   "metadata": {},
   "source": [
    "Ceci nous finit pas cette partie, car dans le jeu de données il n'a pas que des nan qui impliquent une valeur manquantes mais aussi des 0 ou enore des cases vides."
   ]
  },
  {
   "cell_type": "markdown",
   "metadata": {},
   "source": [
    "<mark>lum</mark> : "
   ]
  },
  {
   "cell_type": "code",
   "execution_count": 73,
   "metadata": {},
   "outputs": [
    {
     "name": "stdout",
     "output_type": "stream",
     "text": [
      "[3 1 5 4 2]\n"
     ]
    }
   ],
   "source": [
    "print(data_merged.lum.unique())\n",
    "# ok"
   ]
  },
  {
   "cell_type": "markdown",
   "metadata": {},
   "source": [
    "<mark>agg</mark> : "
   ]
  },
  {
   "cell_type": "code",
   "execution_count": 74,
   "metadata": {},
   "outputs": [
    {
     "name": "stdout",
     "output_type": "stream",
     "text": [
      "[2 1]\n"
     ]
    }
   ],
   "source": [
    "print((data_merged['agg'].unique()))\n",
    "#ok"
   ]
  },
  {
   "cell_type": "markdown",
   "metadata": {},
   "source": [
    "<mark>intersection</mark> :"
   ]
  },
  {
   "cell_type": "code",
   "execution_count": 75,
   "metadata": {},
   "outputs": [
    {
     "name": "stdout",
     "output_type": "stream",
     "text": [
      "[1 2 9 0 6 8 3 4 7 5]\n"
     ]
    }
   ],
   "source": [
    "print((data_merged.int.unique()))\n",
    "#replace 0  with nan"
   ]
  },
  {
   "cell_type": "code",
   "execution_count": 76,
   "metadata": {
    "collapsed": true
   },
   "outputs": [],
   "source": [
    "data_merged.loc[:,'int']=data_merged.loc[:,'int'].replace(0,np.nan)"
   ]
  },
  {
   "cell_type": "markdown",
   "metadata": {},
   "source": [
    "<mark>catr</mark> :"
   ]
  },
  {
   "cell_type": "code",
   "execution_count": 77,
   "metadata": {},
   "outputs": [
    {
     "name": "stdout",
     "output_type": "stream",
     "text": [
      "[  3.   2.   4.   6.   9.   5.   1.  nan]\n"
     ]
    }
   ],
   "source": [
    "print(data_merged['catr'].unique())\n",
    "#ok"
   ]
  },
  {
   "cell_type": "markdown",
   "metadata": {
    "collapsed": true
   },
   "source": [
    "<mark>circ</mark> :"
   ]
  },
  {
   "cell_type": "code",
   "execution_count": 78,
   "metadata": {},
   "outputs": [
    {
     "name": "stdout",
     "output_type": "stream",
     "text": [
      "[  2.   0.   3.   4.   1.  nan]\n"
     ]
    }
   ],
   "source": [
    "print((data_merged.circ.unique()))\n",
    "#replace 0  with nan"
   ]
  },
  {
   "cell_type": "code",
   "execution_count": 79,
   "metadata": {
    "collapsed": true
   },
   "outputs": [],
   "source": [
    "data_merged.loc[:,'circ']=data_merged.loc[:,'circ'].replace(0,np.nan)"
   ]
  },
  {
   "cell_type": "markdown",
   "metadata": {
    "collapsed": true
   },
   "source": [
    "<mark>nbv</mark> :"
   ]
  },
  {
   "cell_type": "code",
   "execution_count": 80,
   "metadata": {},
   "outputs": [
    {
     "name": "stdout",
     "output_type": "stream",
     "text": [
      "[  2.   0.   1.   3.   4.   6.  25.   5.  20.   7.   8.  30.  10.  40.  50.\n",
      "  12.   9.  27.  62.  60.  16.  26.  11.  21.  24.  29.  54.  39.  14.  84.\n",
      "  13.  18.  90.  15.  36.  65.  22.  42.  17.  99.  31.  53.  76.  70.  86.\n",
      "  91.  28.  45.  52.  33.  41.  44.  23.  nan]\n"
     ]
    }
   ],
   "source": [
    "print((data_merged.nbv.unique()))\n",
    "#replace 0 with nan"
   ]
  },
  {
   "cell_type": "code",
   "execution_count": 81,
   "metadata": {
    "collapsed": true
   },
   "outputs": [],
   "source": [
    "data_merged.loc[:,'nbv']=data_merged.loc[:,'nbv'].replace(0,np.nan)"
   ]
  },
  {
   "cell_type": "markdown",
   "metadata": {},
   "source": [
    "<mark>vosp</mark> :"
   ]
  },
  {
   "cell_type": "code",
   "execution_count": 82,
   "metadata": {},
   "outputs": [
    {
     "name": "stdout",
     "output_type": "stream",
     "text": [
      "[  0.   1.   3.   2.  nan]\n"
     ]
    }
   ],
   "source": [
    "print((data_merged.vosp.unique()))\n",
    "#replace 0 with nan"
   ]
  },
  {
   "cell_type": "code",
   "execution_count": 83,
   "metadata": {
    "collapsed": true
   },
   "outputs": [],
   "source": [
    "data_merged.loc[:,'vosp']=data_merged.loc[:,'vosp'].replace(0,np.nan)"
   ]
  },
  {
   "cell_type": "markdown",
   "metadata": {},
   "source": [
    "<mark>prof</mark> :"
   ]
  },
  {
   "cell_type": "code",
   "execution_count": 84,
   "metadata": {},
   "outputs": [
    {
     "name": "stdout",
     "output_type": "stream",
     "text": [
      "[  1.   0.   2.   3.   4.  nan]\n"
     ]
    }
   ],
   "source": [
    "print((data_merged.prof.unique()))\n",
    "#replace 0 with nan"
   ]
  },
  {
   "cell_type": "code",
   "execution_count": 85,
   "metadata": {
    "collapsed": true
   },
   "outputs": [],
   "source": [
    "data_merged.loc[:,'prof']=data_merged.loc[:,'prof'].replace(0,np.nan)"
   ]
  },
  {
   "cell_type": "markdown",
   "metadata": {},
   "source": [
    "<mark>plan</mark> :"
   ]
  },
  {
   "cell_type": "code",
   "execution_count": 86,
   "metadata": {},
   "outputs": [
    {
     "name": "stdout",
     "output_type": "stream",
     "text": [
      "[  1.   3.   2.   0.   4.  nan]\n"
     ]
    }
   ],
   "source": [
    "print((data_merged.plan.unique()))\n",
    "#replace 0 with nan"
   ]
  },
  {
   "cell_type": "code",
   "execution_count": 87,
   "metadata": {
    "collapsed": true
   },
   "outputs": [],
   "source": [
    "data_merged.loc[:,'plan']=data_merged.loc[:,'plan'].replace(0,np.nan)"
   ]
  },
  {
   "cell_type": "markdown",
   "metadata": {},
   "source": [
    "<mark>lartpc</mark> :"
   ]
  },
  {
   "cell_type": "code",
   "execution_count": 88,
   "metadata": {},
   "outputs": [
    {
     "name": "stdout",
     "output_type": "stream",
     "text": [
      "count    1.854711e+06\n",
      "mean     5.508118e+00\n",
      "std      2.195643e+01\n",
      "min      0.000000e+00\n",
      "25%      0.000000e+00\n",
      "50%      0.000000e+00\n",
      "75%      0.000000e+00\n",
      "max      9.600000e+02\n",
      "Name: lartpc, dtype: float64\n"
     ]
    }
   ],
   "source": [
    "print((data_merged.lartpc.describe()))\n",
    "#replace 0 with nan"
   ]
  },
  {
   "cell_type": "code",
   "execution_count": 89,
   "metadata": {
    "collapsed": true
   },
   "outputs": [],
   "source": [
    "data_merged.loc[:,'lartpc']=data_merged.loc[:,'lartpc'].replace(0,np.nan)"
   ]
  },
  {
   "cell_type": "markdown",
   "metadata": {},
   "source": [
    "<mark>larrout</mark> :"
   ]
  },
  {
   "cell_type": "code",
   "execution_count": 90,
   "metadata": {},
   "outputs": [
    {
     "name": "stdout",
     "output_type": "stream",
     "text": [
      "count    1.857686e+06\n",
      "mean     6.022077e+01\n",
      "std      6.349119e+01\n",
      "min     -8.100000e+01\n",
      "25%      0.000000e+00\n",
      "50%      6.000000e+01\n",
      "75%      8.000000e+01\n",
      "max      9.990000e+02\n",
      "Name: larrout, dtype: float64\n",
      "True\n",
      "[-81.0]\n"
     ]
    }
   ],
   "source": [
    "print((data_merged.larrout.describe()))\n",
    "print(0 in data_merged.larrout.unique() )# check if 0 in the list of unique values\n",
    "print([ele for ele in data_merged.larrout.unique() if ele<0]) # show negative values ==> there is negative value -81 "
   ]
  },
  {
   "cell_type": "code",
   "execution_count": 91,
   "metadata": {
    "collapsed": true
   },
   "outputs": [],
   "source": [
    "data_merged.loc[:,'larrout']=data_merged.loc[:,'larrout'].replace(0,np.nan)\n",
    "data_merged.loc[:,'larrout']=data_merged.loc[:,'larrout'].replace(-81,81)"
   ]
  },
  {
   "cell_type": "markdown",
   "metadata": {},
   "source": [
    "<mark>infra</mark> :"
   ]
  },
  {
   "cell_type": "code",
   "execution_count": 92,
   "metadata": {},
   "outputs": [
    {
     "name": "stdout",
     "output_type": "stream",
     "text": [
      "[  0.   5.   4.   2.   3.   6.   1.   7.  nan]\n"
     ]
    }
   ],
   "source": [
    "print((data_merged.infra.unique()))\n",
    "#replace 0 with nan"
   ]
  },
  {
   "cell_type": "code",
   "execution_count": 93,
   "metadata": {
    "collapsed": true
   },
   "outputs": [],
   "source": [
    "data_merged.loc[:,'infra']=data_merged.loc[:,'infra'].replace(0,np.nan)\n"
   ]
  },
  {
   "cell_type": "markdown",
   "metadata": {},
   "source": [
    "<mark>situ</mark> :"
   ]
  },
  {
   "cell_type": "code",
   "execution_count": 94,
   "metadata": {},
   "outputs": [
    {
     "name": "stdout",
     "output_type": "stream",
     "text": [
      "[  1.   5.   3.   4.   0.   2.  nan]\n"
     ]
    }
   ],
   "source": [
    "print((data_merged.situ.unique()))\n",
    "#replace 0 with nan"
   ]
  },
  {
   "cell_type": "code",
   "execution_count": 95,
   "metadata": {
    "collapsed": true
   },
   "outputs": [],
   "source": [
    "data_merged.loc[:,'situ']=data_merged.loc[:,'situ'].replace(0,np.nan)\n"
   ]
  },
  {
   "cell_type": "markdown",
   "metadata": {},
   "source": [
    "<mark>obs</mark> :"
   ]
  },
  {
   "cell_type": "code",
   "execution_count": 96,
   "metadata": {},
   "outputs": [
    {
     "name": "stdout",
     "output_type": "stream",
     "text": [
      "[  0.   6.   8.   2.   1.  13.   3.  16.  11.  14.   7.   4.   5.  12.  15.\n",
      "  10.   9.  nan]\n"
     ]
    }
   ],
   "source": [
    "print((data_merged.obs.unique()))\n",
    "#replace 0 with nan"
   ]
  },
  {
   "cell_type": "code",
   "execution_count": 97,
   "metadata": {
    "collapsed": true
   },
   "outputs": [],
   "source": [
    "data_merged.loc[:,'obs']=data_merged.loc[:,'obs'].replace(0,np.nan)\n"
   ]
  },
  {
   "cell_type": "markdown",
   "metadata": {},
   "source": [
    "<mark>obsm</mark> :"
   ]
  },
  {
   "cell_type": "code",
   "execution_count": 98,
   "metadata": {},
   "outputs": [
    {
     "name": "stdout",
     "output_type": "stream",
     "text": [
      "[  2.   0.   1.   9.   4.   5.   6.  nan]\n"
     ]
    }
   ],
   "source": [
    "print((data_merged.obsm.unique()))\n",
    "#replace 0 with nan"
   ]
  },
  {
   "cell_type": "code",
   "execution_count": 99,
   "metadata": {
    "collapsed": true
   },
   "outputs": [],
   "source": [
    "data_merged.loc[:,'obsm']=data_merged.loc[:,'obsm'].replace(0,np.nan)\n"
   ]
  },
  {
   "cell_type": "code",
   "execution_count": 44,
   "metadata": {
    "collapsed": true
   },
   "outputs": [],
   "source": [
    "#save data_merged that has just been prepared : \n",
    "data_merged.to_csv('score-analysis/data_merged_prepared.csv',index=False)"
   ]
  },
  {
   "cell_type": "code",
   "execution_count": 121,
   "metadata": {
    "collapsed": true
   },
   "outputs": [],
   "source": [
    "data_merged=pd.read_csv('score-analysis/data_merged_prepared.csv',encoding='latin-1')\n",
    "# ces données préparées ne permettent pas d'avoir assez de données afin de modéliser notre problématique\n",
    "# pour cela nous n'allons affectuer aucune imputation pour les raisons suivantes :\n",
    "## 1. xgboost gére les valeures manquantes (nan)\n",
    "## 2. 0 parfois veut dire une autre valeurs que nan ou dans le cas de sans objet elle peut être une autre modalité d'une variable\n",
    "## 3. avoir assez de données pour la modélisation"
   ]
  },
  {
   "cell_type": "code",
   "execution_count": 3,
   "metadata": {},
   "outputs": [
    {
     "data": {
      "text/plain": [
       "(1875983, 51)"
      ]
     },
     "execution_count": 3,
     "metadata": {},
     "output_type": "execute_result"
    }
   ],
   "source": [
    "data_merged.shape"
   ]
  },
  {
   "cell_type": "markdown",
   "metadata": {},
   "source": [
    "###### Aggrégation"
   ]
  },
  {
   "cell_type": "markdown",
   "metadata": {},
   "source": [
    "Cette partie a pour objectif d'agréger les données préparées selon les attributs prometteurs. La variable à agréger est \"grave\" et \"Num Acc\"."
   ]
  },
  {
   "cell_type": "code",
   "execution_count": 4,
   "metadata": {
    "collapsed": true
   },
   "outputs": [],
   "source": [
    "#group by operation followed by value_couts upon grav variable\n",
    "data_grouped=data_merged.groupby(['lum', 'agg', 'int', 'catr', 'circ', 'nbv', 'vosp','prof', 'plan', 'lartpc','larrout', 'infra','situ', 'obs','obsm']).grav.value_counts()"
   ]
  },
  {
   "cell_type": "code",
   "execution_count": 5,
   "metadata": {
    "collapsed": true
   },
   "outputs": [],
   "source": [
    "data_grouped = data_grouped.rename(columns={'grav': 'nb_grav'})"
   ]
  },
  {
   "cell_type": "code",
   "execution_count": 6,
   "metadata": {
    "collapsed": true
   },
   "outputs": [],
   "source": [
    "#create dataframe by reseting index : \n",
    "data_grouped=data_grouped.reset_index()"
   ]
  },
  {
   "cell_type": "code",
   "execution_count": 8,
   "metadata": {},
   "outputs": [
    {
     "data": {
      "text/plain": [
       "(728942, 17)"
      ]
     },
     "execution_count": 8,
     "metadata": {},
     "output_type": "execute_result"
    }
   ],
   "source": [
    "data_grouped.shape"
   ]
  },
  {
   "cell_type": "code",
   "execution_count": 11,
   "metadata": {
    "collapsed": true
   },
   "outputs": [],
   "source": [
    "#rename the last column that counts the number of person for the grav variable ( ex from table above :\n",
    "#                                                                                  for grav=4 we have 2 person)\n",
    "data_grouped=data_grouped.rename(columns={0:'nb_grav'})"
   ]
  },
  {
   "cell_type": "code",
   "execution_count": 12,
   "metadata": {},
   "outputs": [
    {
     "data": {
      "text/html": [
       "<div>\n",
       "<style>\n",
       "    .dataframe thead tr:only-child th {\n",
       "        text-align: right;\n",
       "    }\n",
       "\n",
       "    .dataframe thead th {\n",
       "        text-align: left;\n",
       "    }\n",
       "\n",
       "    .dataframe tbody tr th {\n",
       "        vertical-align: top;\n",
       "    }\n",
       "</style>\n",
       "<table border=\"1\" class=\"dataframe\">\n",
       "  <thead>\n",
       "    <tr style=\"text-align: right;\">\n",
       "      <th></th>\n",
       "      <th>lum</th>\n",
       "      <th>agg</th>\n",
       "      <th>int</th>\n",
       "      <th>catr</th>\n",
       "      <th>circ</th>\n",
       "      <th>nbv</th>\n",
       "      <th>vosp</th>\n",
       "      <th>prof</th>\n",
       "      <th>plan</th>\n",
       "      <th>lartpc</th>\n",
       "      <th>larrout</th>\n",
       "      <th>infra</th>\n",
       "      <th>situ</th>\n",
       "      <th>obs</th>\n",
       "      <th>obsm</th>\n",
       "      <th>grav</th>\n",
       "      <th>nb_grav</th>\n",
       "    </tr>\n",
       "  </thead>\n",
       "  <tbody>\n",
       "    <tr>\n",
       "      <th>0</th>\n",
       "      <td>1</td>\n",
       "      <td>1</td>\n",
       "      <td>0</td>\n",
       "      <td>1.0</td>\n",
       "      <td>1.0</td>\n",
       "      <td>1.0</td>\n",
       "      <td>0.0</td>\n",
       "      <td>1.0</td>\n",
       "      <td>1.0</td>\n",
       "      <td>15.0</td>\n",
       "      <td>35.0</td>\n",
       "      <td>3.0</td>\n",
       "      <td>1.0</td>\n",
       "      <td>0.0</td>\n",
       "      <td>0.0</td>\n",
       "      <td>4</td>\n",
       "      <td>1</td>\n",
       "    </tr>\n",
       "    <tr>\n",
       "      <th>1</th>\n",
       "      <td>1</td>\n",
       "      <td>1</td>\n",
       "      <td>0</td>\n",
       "      <td>1.0</td>\n",
       "      <td>1.0</td>\n",
       "      <td>2.0</td>\n",
       "      <td>0.0</td>\n",
       "      <td>2.0</td>\n",
       "      <td>3.0</td>\n",
       "      <td>0.0</td>\n",
       "      <td>350.0</td>\n",
       "      <td>0.0</td>\n",
       "      <td>1.0</td>\n",
       "      <td>3.0</td>\n",
       "      <td>0.0</td>\n",
       "      <td>1</td>\n",
       "      <td>3</td>\n",
       "    </tr>\n",
       "  </tbody>\n",
       "</table>\n",
       "</div>"
      ],
      "text/plain": [
       "   lum  agg  int  catr  circ  nbv  vosp  prof  plan  lartpc  larrout  infra  \\\n",
       "0    1    1    0   1.0   1.0  1.0   0.0   1.0   1.0    15.0     35.0    3.0   \n",
       "1    1    1    0   1.0   1.0  2.0   0.0   2.0   3.0     0.0    350.0    0.0   \n",
       "\n",
       "   situ  obs  obsm  grav  nb_grav  \n",
       "0   1.0  0.0   0.0     4        1  \n",
       "1   1.0  3.0   0.0     1        3  "
      ]
     },
     "execution_count": 12,
     "metadata": {},
     "output_type": "execute_result"
    }
   ],
   "source": [
    "data_grouped.head(2)"
   ]
  },
  {
   "cell_type": "markdown",
   "metadata": {},
   "source": [
    " <b><mark>Création de nouveau d'attributs :</mark></b> ces attributs vont nous permettre de calculer le score de gravité d'une configuration donnée du lieu d'accident."
   ]
  },
  {
   "cell_type": "code",
   "execution_count": 13,
   "metadata": {
    "collapsed": true
   },
   "outputs": [],
   "source": [
    "data_grouped['indemne']=0  # 1\n",
    "data_grouped['tue']=0  # 2 \n",
    "data_grouped['hospitalisé']=0  # 3\n",
    "data_grouped['blessé']=0  # 4 "
   ]
  },
  {
   "cell_type": "code",
   "execution_count": 14,
   "metadata": {},
   "outputs": [
    {
     "data": {
      "text/plain": [
       "(728942, 21)"
      ]
     },
     "execution_count": 14,
     "metadata": {},
     "output_type": "execute_result"
    }
   ],
   "source": [
    "data_grouped.shape"
   ]
  },
  {
   "cell_type": "code",
   "execution_count": 15,
   "metadata": {
    "collapsed": true
   },
   "outputs": [],
   "source": [
    "for i in range(data_grouped.shape[0]):\n",
    "    if data_grouped.loc[i,'grav']==1 :\n",
    "        data_grouped.loc[i,'indemne']=data_grouped.loc[i,'nb_grav']\n",
    "    elif data_grouped.loc[i,'grav']==2 :\n",
    "        data_grouped.loc[i,'tue']=data_grouped.loc[i,'nb_grav']\n",
    "    elif data_grouped.loc[i,'grav']==3 :\n",
    "        data_grouped.loc[i,'hospitalisé']=data_grouped.loc[i,'nb_grav']\n",
    "    else :\n",
    "        data_grouped.loc[i,'blessé']=data_grouped.loc[i,'nb_grav']\n",
    "        "
   ]
  },
  {
   "cell_type": "code",
   "execution_count": 16,
   "metadata": {
    "collapsed": true
   },
   "outputs": [],
   "source": [
    "#aggregate the last 5 columns to have one row per configuration\n",
    "df=data_grouped.groupby(['lum', 'agg', 'int', 'catr', 'circ', 'nbv', 'vosp','prof', 'plan', 'lartpc',\n",
    "                   'larrout', 'infra','situ', 'obs','obsm']).agg({'indemne':['sum'],'tue':['sum'],\n",
    "                                                                  'hospitalisé':['sum'],'blessé':['sum']})"
   ]
  },
  {
   "cell_type": "code",
   "execution_count": 17,
   "metadata": {
    "collapsed": true
   },
   "outputs": [],
   "source": [
    "# create data frame\n",
    "df=df.reset_index()"
   ]
  },
  {
   "cell_type": "code",
   "execution_count": 18,
   "metadata": {
    "collapsed": true
   },
   "outputs": [],
   "source": [
    "#rename columns\n",
    "col_names=['lum','agg','int','catr','circ', 'nbv', 'vosp', 'prof','plan','lartpc','larrout',\n",
    " 'infra','situ', 'obs','obsm','indemne','tue','hospitalisé','blessé']\n",
    "df.columns=col_names"
   ]
  },
  {
   "cell_type": "code",
   "execution_count": 20,
   "metadata": {},
   "outputs": [
    {
     "data": {
      "text/plain": [
       "(432716, 19)"
      ]
     },
     "execution_count": 20,
     "metadata": {},
     "output_type": "execute_result"
    }
   ],
   "source": [
    "df.shape"
   ]
  },
  {
   "cell_type": "code",
   "execution_count": 21,
   "metadata": {
    "collapsed": true
   },
   "outputs": [],
   "source": [
    "#aggregate data for Num_Acc\n",
    "res3=data_merged.groupby(['lum', 'agg', 'int', 'catr', 'circ', 'nbv', 'vosp','prof', 'plan', 'lartpc',\n",
    "                   'larrout', 'infra','situ', 'obs','obsm']).agg({'Num_Acc':['count']})"
   ]
  },
  {
   "cell_type": "code",
   "execution_count": 22,
   "metadata": {
    "collapsed": true
   },
   "outputs": [],
   "source": [
    "#create dataframe :\n",
    "res3=res3.reset_index()"
   ]
  },
  {
   "cell_type": "code",
   "execution_count": 23,
   "metadata": {
    "collapsed": true
   },
   "outputs": [],
   "source": [
    "#rename columns\n",
    "col_names2=['lum','agg','int','catr','circ', 'nbv', 'vosp', 'prof','plan','lartpc','larrout',\n",
    " 'infra','situ', 'obs','obsm','nb_acc']\n",
    "res3.columns=col_names2"
   ]
  },
  {
   "cell_type": "code",
   "execution_count": 24,
   "metadata": {
    "collapsed": true
   },
   "outputs": [],
   "source": [
    "#add nb_acc to df  to represent the seconde column that will allow us to compute risk of accident frequence\n",
    "df['nb_acc'] = res3['nb_acc']"
   ]
  },
  {
   "cell_type": "code",
   "execution_count": 41,
   "metadata": {
    "collapsed": true
   },
   "outputs": [],
   "source": [
    "#save data to csv file :\n",
    "df.to_csv('score-analysis/data_frequence_gravity_risk.csv',index=False)"
   ]
  },
  {
   "cell_type": "code",
   "execution_count": 42,
   "metadata": {
    "collapsed": true
   },
   "outputs": [],
   "source": [
    "df=pd.read_csv('score-analysis/data_frequence_gravity_risk.csv',encoding='latin-1')"
   ]
  },
  {
   "cell_type": "markdown",
   "metadata": {},
   "source": [
    "###### Traitement des outliers"
   ]
  },
  {
   "cell_type": "markdown",
   "metadata": {},
   "source": [
    "Maintenant que toutes nos données sont préparées, nous allons jeter un oeil à quelques statistiques récapitulatives des variables cibles et utiliser la règle des boites à moustaches pour vérifier l'existence de valeurs aberrantes extrêmes. La méthode DataFrame describe () produira un DataFrame contenant le count , la moyenne, l'écart-type, le min, le 25% percentile, le 50% percentile(ou la médiane), le 75% percentile et la valeur maximale. Cela peut être une information très utile pour évaluer la distribution des données de caractéristiques.\n",
    "\n",
    "Nous allons ajouter  une autre colonne de sortie, indiquant l'existence de valeurs aberrantes. La règle empirique pour identifier une valeur aberrante extrême est une valeur qui est inférieure à 3 intervalles interquartiles au-dessous du 25% percentile, ou à 3 intervalles interquartiles au-dessus du 75% percentile. La gamme interquartile est simplement la différence entre le 75% percentile et le 25% percentile."
   ]
  },
  {
   "cell_type": "code",
   "execution_count": 3,
   "metadata": {},
   "outputs": [
    {
     "data": {
      "text/html": [
       "<div>\n",
       "<style>\n",
       "    .dataframe thead tr:only-child th {\n",
       "        text-align: right;\n",
       "    }\n",
       "\n",
       "    .dataframe thead th {\n",
       "        text-align: left;\n",
       "    }\n",
       "\n",
       "    .dataframe tbody tr th {\n",
       "        vertical-align: top;\n",
       "    }\n",
       "</style>\n",
       "<table border=\"1\" class=\"dataframe\">\n",
       "  <thead>\n",
       "    <tr style=\"text-align: right;\">\n",
       "      <th></th>\n",
       "      <th>count</th>\n",
       "      <th>mean</th>\n",
       "      <th>std</th>\n",
       "      <th>min</th>\n",
       "      <th>25%</th>\n",
       "      <th>50%</th>\n",
       "      <th>75%</th>\n",
       "      <th>max</th>\n",
       "      <th>outliers</th>\n",
       "    </tr>\n",
       "  </thead>\n",
       "  <tbody>\n",
       "    <tr>\n",
       "      <th>nb_acc</th>\n",
       "      <td>432716.0</td>\n",
       "      <td>4.276895</td>\n",
       "      <td>47.737785</td>\n",
       "      <td>1.0</td>\n",
       "      <td>1.0</td>\n",
       "      <td>2.0</td>\n",
       "      <td>3.0</td>\n",
       "      <td>17395.0</td>\n",
       "      <td>True</td>\n",
       "    </tr>\n",
       "    <tr>\n",
       "      <th>blessé</th>\n",
       "      <td>432716.0</td>\n",
       "      <td>1.520868</td>\n",
       "      <td>19.279055</td>\n",
       "      <td>0.0</td>\n",
       "      <td>0.0</td>\n",
       "      <td>1.0</td>\n",
       "      <td>1.0</td>\n",
       "      <td>7309.0</td>\n",
       "      <td>True</td>\n",
       "    </tr>\n",
       "    <tr>\n",
       "      <th>hospitalisé</th>\n",
       "      <td>432716.0</td>\n",
       "      <td>0.896900</td>\n",
       "      <td>7.021248</td>\n",
       "      <td>0.0</td>\n",
       "      <td>0.0</td>\n",
       "      <td>0.0</td>\n",
       "      <td>1.0</td>\n",
       "      <td>1759.0</td>\n",
       "      <td>True</td>\n",
       "    </tr>\n",
       "    <tr>\n",
       "      <th>tue</th>\n",
       "      <td>432716.0</td>\n",
       "      <td>0.115697</td>\n",
       "      <td>0.859118</td>\n",
       "      <td>0.0</td>\n",
       "      <td>0.0</td>\n",
       "      <td>0.0</td>\n",
       "      <td>0.0</td>\n",
       "      <td>190.0</td>\n",
       "      <td>True</td>\n",
       "    </tr>\n",
       "    <tr>\n",
       "      <th>indemne</th>\n",
       "      <td>432716.0</td>\n",
       "      <td>1.743430</td>\n",
       "      <td>22.129695</td>\n",
       "      <td>0.0</td>\n",
       "      <td>0.0</td>\n",
       "      <td>1.0</td>\n",
       "      <td>1.0</td>\n",
       "      <td>8286.0</td>\n",
       "      <td>True</td>\n",
       "    </tr>\n",
       "  </tbody>\n",
       "</table>\n",
       "</div>"
      ],
      "text/plain": [
       "                count      mean        std  min  25%  50%  75%      max  \\\n",
       "nb_acc       432716.0  4.276895  47.737785  1.0  1.0  2.0  3.0  17395.0   \n",
       "blessé       432716.0  1.520868  19.279055  0.0  0.0  1.0  1.0   7309.0   \n",
       "hospitalisé  432716.0  0.896900   7.021248  0.0  0.0  0.0  1.0   1759.0   \n",
       "tue          432716.0  0.115697   0.859118  0.0  0.0  0.0  0.0    190.0   \n",
       "indemne      432716.0  1.743430  22.129695  0.0  0.0  1.0  1.0   8286.0   \n",
       "\n",
       "             outliers  \n",
       "nb_acc           True  \n",
       "blessé           True  \n",
       "hospitalisé      True  \n",
       "tue              True  \n",
       "indemne          True  "
      ]
     },
     "execution_count": 3,
     "metadata": {},
     "output_type": "execute_result"
    }
   ],
   "source": [
    "# Call describe on df and transpose it due to the large number of columns\n",
    "spread = df.loc[:,['nb_acc','blessé','hospitalisé','tue','indemne']].describe().T\n",
    "# precalculate interquartile range for ease of use in next calculation\n",
    "IQR = spread['75%'] - spread['25%']\n",
    "\n",
    "# create an outliers column which is either 3 IQRs below the first quartile or\n",
    "# 3 IQRs above the third quartile\n",
    "spread['outliers'] = (spread['min']<(spread['25%']-(3*IQR)))|(spread['max'] > (spread['75%']+3*IQR))\n",
    "\n",
    "# just display the features containing extreme outliers\n",
    "spread.ix[spread.outliers,]  "
   ]
  },
  {
   "cell_type": "markdown",
   "metadata": {},
   "source": [
    "toutes les variables cibles contiennent des valeurs aberrantes."
   ]
  },
  {
   "cell_type": "markdown",
   "metadata": {},
   "source": [
    "###### Feature engineering"
   ]
  },
  {
   "cell_type": "markdown",
   "metadata": {},
   "source": [
    "Nous allons maintenant créer deux variables cibles : \n",
    "    1. score d'accident: une score qui prend en considération la variable nb_acc (nombre d'accidents par configuration de route)\n",
    "    2. score de gravité : un score qui prend en considération les 4 variables 'indemne','tue','hospitalisé' et 'blessé'.\n",
    "    \n",
    "Un score élevé signifie que la configuration de la route est très dangereuse."
   ]
  },
  {
   "cell_type": "markdown",
   "metadata": {},
   "source": [
    "On voit très bien la difficulté de créer ces score. L'objectif est de trouver pour chaque score une fonction f(.) qui va fournir ce score."
   ]
  },
  {
   "cell_type": "markdown",
   "metadata": {},
   "source": [
    "<mark>Proposition</mark> "
   ]
  },
  {
   "cell_type": "code",
   "execution_count": 43,
   "metadata": {
    "collapsed": true
   },
   "outputs": [],
   "source": [
    "# score d'accident : \n",
    "df['sc_acc'] =(df.nb_acc-df.nb_acc.min())/(df.nb_acc.max()-df.nb_acc.min())\n",
    "# score de gravité : \n",
    "df['sc_grav'] =( df['indemne'] + (df['blessé'] * np.exp(1)) +\n",
    "                                   (df['hospitalisé'] * np.exp(2)) + (df['tue'] * np.exp(3)))\n",
    "#normalize sc_grav\n",
    "df['sc_grav_norm']=(df.sc_grav)/(df.sc_grav.max())"
   ]
  },
  {
   "cell_type": "code",
   "execution_count": 44,
   "metadata": {
    "collapsed": true
   },
   "outputs": [],
   "source": [
    "# create two levels for sc_grav_norm\n",
    "df['risk_gravity']=1\n",
    "df.loc[((df['sc_grav_norm']<df.sc_grav_norm.describe()['50%'])),'risk_gravity']=1\n",
    "df.loc[((df['sc_grav_norm']>df.sc_grav_norm.describe()['50%'])),'risk_gravity']=2\n"
   ]
  },
  {
   "cell_type": "code",
   "execution_count": 46,
   "metadata": {
    "collapsed": true
   },
   "outputs": [],
   "source": [
    "#create two levels for risk_frequency : \n",
    "df['risk_frequence']=1\n",
    "df.loc[((df['sc_acc']<df.sc_acc.describe()['50%'])),'risk_frequence']=1\n",
    "df.loc[((df['sc_acc']>df.sc_acc.describe()['50%'])),'risk_frequence']=2"
   ]
  },
  {
   "cell_type": "code",
   "execution_count": 78,
   "metadata": {},
   "outputs": [],
   "source": [
    "df.to_csv('pre_training_data.csv', index=False)"
   ]
  },
  {
   "cell_type": "markdown",
   "metadata": {},
   "source": [
    "## Modélisation\n"
   ]
  },
  {
   "cell_type": "markdown",
   "metadata": {},
   "source": [
    "### KNN : KNeighborsClassifier"
   ]
  },
  {
   "cell_type": "markdown",
   "metadata": {},
   "source": [
    "L'algorithme KNN est un classificateur robuste et polyvalent qui est souvent utilisé comme référence pour des classificateurs plus complexes tels que les réseaux neuronaux artificiels (ANN) et les SVM. Malgré sa simplicité, KNN peut surpasser les classificateurs plus puissants et est utilisé dans une variété d'applications telles que la prévision économique, la compression de données et la génétique."
   ]
  },
  {
   "cell_type": "markdown",
   "metadata": {},
   "source": [
    "#### Formalisation de l'algorithme:"
   ]
  },
  {
   "cell_type": "markdown",
   "metadata": {},
   "source": [
    "Commençons par établir des définitions et des notations. Nous utiliserons x pour désigner une variable indépendente (feature predictor, attribut) et y pour désigner la cible (label, class) que nous essayons de prédire."
   ]
  },
  {
   "cell_type": "markdown",
   "metadata": {},
   "source": [
    "KNN tombe dans la famille d'algorithmes d'apprentissage supervisé. De manière informelle, cela signifie que nous recevons un ensemble de données étiqueté contenant des observations d'entraînement (x, y) et que nous souhaitons capturer la relation entre x et y. Plus formellement, notre but est d'apprendre une fonction h: X → Y qui, étant donné une observation invisible x, h(x) peut prédire avec confiance la sortie y correspondante."
   ]
  },
  {
   "cell_type": "markdown",
   "metadata": {},
   "source": [
    "Le classificateur KNN est également un algorithme d'apprentissage non paramétrique et basé sur l'instance (instance based)"
   ]
  },
  {
   "cell_type": "markdown",
   "metadata": {},
   "source": [
    "<b>Non-paramétrique</b> :  signifie qu'il ne fait aucune supposition explicite sur la forme fonctionnelle de h, évitant les dangers de ne pas bien modéliser la distribution sous-jacente des données. Par exemple, supposons que nos données soient hautement non gaussiennes mais le modèle d'apprentissage que nous choisissons suppose une forme gaussienne. Dans ce cas, notre algorithme ferait des prédictions extrêmement pauvres."
   ]
  },
  {
   "cell_type": "markdown",
   "metadata": {},
   "source": [
    "<b>L'apprentissage par instance</b> : signifie que notre algorithme n'apprend pas explicitement un modèle. Au lieu de cela, il choisit de mémoriser les instances d'entraînement qui sont ensuite utilisées comme «connaissances» pour la phase de prédiction. Concrètement, cela signifie que seulement quand une requête à notre base de données est faite (c'est-à-dire quand nous lui demandons de prédire une étiquette donnée une entrée), l'algorithme utilisera-t-il les instances de formation pour trouver une réponse."
   ]
  },
  {
   "cell_type": "markdown",
   "metadata": {},
   "source": [
    "##### KNN mathématiquement: "
   ]
  },
  {
   "cell_type": "markdown",
   "metadata": {},
   "source": [
    "voir lien ( à faire dans le rapport)"
   ]
  },
  {
   "cell_type": "code",
   "execution_count": null,
   "metadata": {
    "collapsed": true
   },
   "outputs": [],
   "source": []
  },
  {
   "cell_type": "code",
   "execution_count": 108,
   "metadata": {
    "collapsed": true
   },
   "outputs": [],
   "source": [
    "df=pd.read_csv('pre_training_data.csv',encoding='latin-1')"
   ]
  },
  {
   "cell_type": "code",
   "execution_count": 109,
   "metadata": {},
   "outputs": [
    {
     "data": {
      "text/html": [
       "<div>\n",
       "<style>\n",
       "    .dataframe thead tr:only-child th {\n",
       "        text-align: right;\n",
       "    }\n",
       "\n",
       "    .dataframe thead th {\n",
       "        text-align: left;\n",
       "    }\n",
       "\n",
       "    .dataframe tbody tr th {\n",
       "        vertical-align: top;\n",
       "    }\n",
       "</style>\n",
       "<table border=\"1\" class=\"dataframe\">\n",
       "  <thead>\n",
       "    <tr style=\"text-align: right;\">\n",
       "      <th></th>\n",
       "      <th>lum</th>\n",
       "      <th>agg</th>\n",
       "      <th>int</th>\n",
       "      <th>catr</th>\n",
       "      <th>circ</th>\n",
       "      <th>nbv</th>\n",
       "      <th>vosp</th>\n",
       "      <th>prof</th>\n",
       "      <th>plan</th>\n",
       "      <th>lartpc</th>\n",
       "      <th>...</th>\n",
       "      <th>indemne</th>\n",
       "      <th>tue</th>\n",
       "      <th>hospitalisé</th>\n",
       "      <th>blessé</th>\n",
       "      <th>nb_acc</th>\n",
       "      <th>sc_acc</th>\n",
       "      <th>sc_grav</th>\n",
       "      <th>sc_grav_norm</th>\n",
       "      <th>risk_gravity</th>\n",
       "      <th>risk_frequence</th>\n",
       "    </tr>\n",
       "  </thead>\n",
       "  <tbody>\n",
       "    <tr>\n",
       "      <th>0</th>\n",
       "      <td>1</td>\n",
       "      <td>1</td>\n",
       "      <td>0</td>\n",
       "      <td>1.0</td>\n",
       "      <td>1.0</td>\n",
       "      <td>1.0</td>\n",
       "      <td>0.0</td>\n",
       "      <td>1.0</td>\n",
       "      <td>1.0</td>\n",
       "      <td>15.0</td>\n",
       "      <td>...</td>\n",
       "      <td>0</td>\n",
       "      <td>0</td>\n",
       "      <td>0</td>\n",
       "      <td>1</td>\n",
       "      <td>1</td>\n",
       "      <td>0.000000</td>\n",
       "      <td>2.718282</td>\n",
       "      <td>0.000065</td>\n",
       "      <td>1</td>\n",
       "      <td>1</td>\n",
       "    </tr>\n",
       "    <tr>\n",
       "      <th>1</th>\n",
       "      <td>1</td>\n",
       "      <td>1</td>\n",
       "      <td>0</td>\n",
       "      <td>1.0</td>\n",
       "      <td>1.0</td>\n",
       "      <td>2.0</td>\n",
       "      <td>0.0</td>\n",
       "      <td>2.0</td>\n",
       "      <td>3.0</td>\n",
       "      <td>0.0</td>\n",
       "      <td>...</td>\n",
       "      <td>3</td>\n",
       "      <td>0</td>\n",
       "      <td>1</td>\n",
       "      <td>0</td>\n",
       "      <td>4</td>\n",
       "      <td>0.000172</td>\n",
       "      <td>10.389056</td>\n",
       "      <td>0.000248</td>\n",
       "      <td>2</td>\n",
       "      <td>2</td>\n",
       "    </tr>\n",
       "    <tr>\n",
       "      <th>2</th>\n",
       "      <td>1</td>\n",
       "      <td>1</td>\n",
       "      <td>0</td>\n",
       "      <td>1.0</td>\n",
       "      <td>1.0</td>\n",
       "      <td>3.0</td>\n",
       "      <td>0.0</td>\n",
       "      <td>1.0</td>\n",
       "      <td>1.0</td>\n",
       "      <td>2.0</td>\n",
       "      <td>...</td>\n",
       "      <td>0</td>\n",
       "      <td>2</td>\n",
       "      <td>0</td>\n",
       "      <td>0</td>\n",
       "      <td>2</td>\n",
       "      <td>0.000057</td>\n",
       "      <td>40.171074</td>\n",
       "      <td>0.000957</td>\n",
       "      <td>2</td>\n",
       "      <td>1</td>\n",
       "    </tr>\n",
       "    <tr>\n",
       "      <th>3</th>\n",
       "      <td>1</td>\n",
       "      <td>1</td>\n",
       "      <td>0</td>\n",
       "      <td>3.0</td>\n",
       "      <td>1.0</td>\n",
       "      <td>2.0</td>\n",
       "      <td>0.0</td>\n",
       "      <td>1.0</td>\n",
       "      <td>0.0</td>\n",
       "      <td>30.0</td>\n",
       "      <td>...</td>\n",
       "      <td>0</td>\n",
       "      <td>0</td>\n",
       "      <td>4</td>\n",
       "      <td>0</td>\n",
       "      <td>4</td>\n",
       "      <td>0.000172</td>\n",
       "      <td>29.556224</td>\n",
       "      <td>0.000704</td>\n",
       "      <td>2</td>\n",
       "      <td>2</td>\n",
       "    </tr>\n",
       "    <tr>\n",
       "      <th>4</th>\n",
       "      <td>1</td>\n",
       "      <td>1</td>\n",
       "      <td>0</td>\n",
       "      <td>3.0</td>\n",
       "      <td>1.0</td>\n",
       "      <td>2.0</td>\n",
       "      <td>0.0</td>\n",
       "      <td>1.0</td>\n",
       "      <td>0.0</td>\n",
       "      <td>30.0</td>\n",
       "      <td>...</td>\n",
       "      <td>1</td>\n",
       "      <td>0</td>\n",
       "      <td>0</td>\n",
       "      <td>0</td>\n",
       "      <td>1</td>\n",
       "      <td>0.000000</td>\n",
       "      <td>1.000000</td>\n",
       "      <td>0.000024</td>\n",
       "      <td>1</td>\n",
       "      <td>1</td>\n",
       "    </tr>\n",
       "  </tbody>\n",
       "</table>\n",
       "<p>5 rows × 25 columns</p>\n",
       "</div>"
      ],
      "text/plain": [
       "   lum  agg  int  catr  circ  nbv  vosp  prof  plan  lartpc       ...        \\\n",
       "0    1    1    0   1.0   1.0  1.0   0.0   1.0   1.0    15.0       ...         \n",
       "1    1    1    0   1.0   1.0  2.0   0.0   2.0   3.0     0.0       ...         \n",
       "2    1    1    0   1.0   1.0  3.0   0.0   1.0   1.0     2.0       ...         \n",
       "3    1    1    0   3.0   1.0  2.0   0.0   1.0   0.0    30.0       ...         \n",
       "4    1    1    0   3.0   1.0  2.0   0.0   1.0   0.0    30.0       ...         \n",
       "\n",
       "   indemne  tue  hospitalisé  blessé  nb_acc    sc_acc    sc_grav  \\\n",
       "0        0    0            0       1       1  0.000000   2.718282   \n",
       "1        3    0            1       0       4  0.000172  10.389056   \n",
       "2        0    2            0       0       2  0.000057  40.171074   \n",
       "3        0    0            4       0       4  0.000172  29.556224   \n",
       "4        1    0            0       0       1  0.000000   1.000000   \n",
       "\n",
       "   sc_grav_norm  risk_gravity  risk_frequence  \n",
       "0      0.000065             1               1  \n",
       "1      0.000248             2               2  \n",
       "2      0.000957             2               1  \n",
       "3      0.000704             2               2  \n",
       "4      0.000024             1               1  \n",
       "\n",
       "[5 rows x 25 columns]"
      ]
     },
     "execution_count": 109,
     "metadata": {},
     "output_type": "execute_result"
    }
   ],
   "source": [
    "df.head()"
   ]
  },
  {
   "cell_type": "code",
   "execution_count": 112,
   "metadata": {
    "collapsed": true
   },
   "outputs": [],
   "source": [
    "df.loc[df['lartpc']>10,'lartpc']=10\n",
    "df.loc[df['larrout']>74,'larrout']=74"
   ]
  },
  {
   "cell_type": "code",
   "execution_count": 118,
   "metadata": {
    "collapsed": true
   },
   "outputs": [],
   "source": [
    "df.loc[df['nbv']>3,'nbv']=2"
   ]
  },
  {
   "cell_type": "code",
   "execution_count": 114,
   "metadata": {
    "collapsed": true
   },
   "outputs": [],
   "source": [
    "df.loc[:,'larrout']=df.loc[:,'larrout'].replace(-81,75)"
   ]
  },
  {
   "cell_type": "markdown",
   "metadata": {},
   "source": [
    "###### Equilibre des modalités dans la classe:"
   ]
  },
  {
   "cell_type": "code",
   "execution_count": 141,
   "metadata": {},
   "outputs": [
    {
     "data": {
      "text/plain": [
       "1    0.582546\n",
       "2    0.417454\n",
       "Name: risk_gravity, dtype: float64"
      ]
     },
     "execution_count": 141,
     "metadata": {},
     "output_type": "execute_result"
    }
   ],
   "source": [
    "df.risk_gravity.value_counts()/df.shape[0] #===> balanced data so accuracy as performance measure"
   ]
  },
  {
   "cell_type": "markdown",
   "metadata": {},
   "source": [
    "###### Valeur de départ pour K"
   ]
  },
  {
   "cell_type": "code",
   "execution_count": 144,
   "metadata": {},
   "outputs": [
    {
     "data": {
      "text/plain": [
       "328.90576157920981"
      ]
     },
     "execution_count": 144,
     "metadata": {},
     "output_type": "execute_result"
    }
   ],
   "source": [
    "# ne doit pas être paire\n",
    "np.sqrt(df.shape[0])/2\n",
    "#on choisit alors 329"
   ]
  },
  {
   "cell_type": "code",
   "execution_count": 145,
   "metadata": {},
   "outputs": [
    {
     "name": "stdout",
     "output_type": "stream",
     "text": [
      "Accuracy on train set : 64.77%\n",
      "Accuracy on test set : 64.52%\n",
      "Confusion matrix : \n",
      "  [[53786 22064]\n",
      " [23993 29972]]\n",
      "Classification report : \n",
      "               precision    recall  f1-score   support\n",
      "\n",
      "          1       0.69      0.71      0.70     75850\n",
      "          2       0.58      0.56      0.57     53965\n",
      "\n",
      "avg / total       0.64      0.65      0.64    129815\n",
      "\n"
     ]
    }
   ],
   "source": [
    "# loading library\n",
    "from sklearn.neighbors import KNeighborsClassifier\n",
    "col_used =[ 'agg', 'int', 'catr', 'circ', 'vosp', 'prof', 'plan',\n",
    "       'lartpc', 'larrout', 'infra', 'situ', 'obs', 'obsm', 'risk_gravity']\n",
    "data=df.loc[:,col_used]\n",
    "\n",
    "# split data into target and feature data :\n",
    "y=data.risk_gravity.values  # target column\n",
    "X=data.loc[:,data.columns!='risk_gravity']  # feature data\n",
    "\n",
    "#split data into train/test data :\n",
    "X_train,X_test,y_train,y_test=train_test_split(X,y,test_size=0.3,random_state=1)\n",
    "# instantiate learning model (k = 329)\n",
    "knn = KNeighborsClassifier(n_neighbors=329,n_jobs=-1, metric='euclidean')\n",
    "\n",
    "# fitting the model\n",
    "knn.fit(X_train, y_train)\n",
    "\n",
    "# predict the response\n",
    "pred = knn.predict(X_test)\n",
    "#evaluate on train set to assist overfitting : \n",
    "y_pred_train=knn.predict(X_train)\n",
    "accuracy_train = accuracy_score(y_train, y_pred_train)\n",
    "   \n",
    "#predict on test set :\n",
    "y_pred_test=knn.predict(X_test)\n",
    "cm=confusion_matrix(y_test,y_pred_test)\n",
    "accuracy_test = accuracy_score(y_test, y_pred_test)\n",
    "#print results : \n",
    "print(\"Accuracy on train set : %.2f%%\" % (accuracy_train * 100.0))\n",
    "print(\"Accuracy on test set : %.2f%%\" % (accuracy_test * 100.0))\n",
    "print(\"Confusion matrix : \\n \",cm)\n",
    "print('Classification report : \\n ',classification_report(y_test,y_pred_test))"
   ]
  },
  {
   "cell_type": "markdown",
   "metadata": {},
   "source": [
    "###### Paramétrage avec validation croisée"
   ]
  },
  {
   "cell_type": "markdown",
   "metadata": {},
   "source": [
    "Dans cette section, nous allons explorer une méthode qui peut être utilisée pour régler l'hyperparamètre K.\n",
    "\n",
    "Évidemment, le meilleur K est celui qui correspond au plus faible taux d'erreur de test, supposons donc que nous effectuons des mesures répétées de l'erreur de test pour différentes valeurs de K. Par inadvertance, nous utilisons l'ensemble de test comme ensemble d'apprentissage ! Cela signifie que nous sous-estimons le taux d'erreur réel puisque notre modèle a été contraint d'adapter le test de la meilleure façon possible. Notre modèle est alors incapable de généraliser à des observations plus récentes, un processus connu sous le nom de surapprentissage (overfitting). Par conséquent, toucher l'ensemble de test est hors de question et doit seulement être fait à la toute fin de notre pipeline."
   ]
  },
  {
   "cell_type": "markdown",
   "metadata": {},
   "source": [
    "Une approche alternative et plus intelligente consiste à estimer le taux d'erreurs de test en présentant un sous-ensemble de l'ensemble d'apprentissage à partir du processus d'ajustement. Ce sous-ensemble, appelé ensemble de validation, peut être utilisé pour sélectionner le niveau de flexibilité approprié de notre algorithme! Il existe différentes approches de validation qui sont utilisées dans la pratique, et nous explorerons l'une des plus populaires, la validation croisée par k-fold."
   ]
  },
  {
   "cell_type": "markdown",
   "metadata": {},
   "source": [
    "![](cross_validation.png)"
   ]
  },
  {
   "cell_type": "markdown",
   "metadata": {},
   "source": [
    "Comme on le voit sur l'image, la validation croisée k-fold (le k est totalement indépendant de K) consiste à diviser de façon aléatoire l'ensemble d'apprentissage en k groupes, ou plis, de taille approximativement égale. Le premier pli est traité comme un ensemble de validation, et la méthode est ajustée sur les plis k-1 restants. Le taux de mauvaise classification est ensuite calculé sur les observations dans le pli bloqué. Cette procédure est répétée k fois; chaque fois, un groupe d'observations différent est traité comme un ensemble de validation. Ce processus se traduit par k estimations de l'erreur de test qui sont ensuite moyennées."
   ]
  },
  {
   "cell_type": "code",
   "execution_count": 146,
   "metadata": {},
   "outputs": [],
   "source": [
    "from sklearn.model_selection import  cross_val_score\n",
    "# creating odd list of K for KNN\n",
    "k_values=[k for k in range(329,340,2)]\n",
    "# empty list that will hold cv scores\n",
    "cv_scores = []\n",
    "\n",
    "# perform 10-fold cross validation\n",
    "for k in k_values:\n",
    "    knn = KNeighborsClassifier(n_neighbors=k,n_jobs=-1, metric='euclidean')\n",
    "    scores = cross_val_score(knn, X_train, y_train, cv=10, scoring='accuracy')\n",
    "    cv_scores.append(scores.mean())"
   ]
  },
  {
   "cell_type": "code",
   "execution_count": 149,
   "metadata": {},
   "outputs": [
    {
     "name": "stdout",
     "output_type": "stream",
     "text": [
      "The optimal number of neighbors is 335\n"
     ]
    },
    {
     "data": {
      "image/png": "[encoded data removed]",
      "text/plain": [
       "<matplotlib.figure.Figure at 0x1cc65df4e80>"
      ]
     },
     "metadata": {},
     "output_type": "display_data"
    }
   ],
   "source": [
    "# changing to misclassification error\n",
    "MSE = [1 - x for x in cv_scores]\n",
    "\n",
    "# determining best k\n",
    "optimal_k = k_values[MSE.index(min(MSE))]\n",
    "print( \"The optimal number of neighbors is %d\" % optimal_k)\n",
    "\n",
    "# plot misclassification error vs k\n",
    "plt.plot(k_values, MSE)\n",
    "plt.xlabel('Number of Neighbors K')\n",
    "plt.ylabel('Misclassification Error')\n",
    "plt.show()"
   ]
  },
  {
   "cell_type": "code",
   "execution_count": 54,
   "metadata": {
    "collapsed": true
   },
   "outputs": [],
   "source": [
    "import pickle\n",
    "with open('knn.pkl', 'wb') as fid:\n",
    "    pickle.dump(knn, fid,2) "
   ]
  },
  {
   "cell_type": "markdown",
   "metadata": {},
   "source": [
    "### Evaluation"
   ]
  },
  {
   "cell_type": "markdown",
   "metadata": {
    "collapsed": true
   },
   "source": [
    "### Déploiment"
   ]
  },
  {
   "cell_type": "markdown",
   "metadata": {},
   "source": [
    "L'application qui sera mise en production va permettre à un utilisateur d'entrer une  configuration d'une route puis l'application va lui rendre :\n",
    "1. un score de gravité d'accident\n",
    "2. trouver les plus proches configuration dans la base de données \n",
    "3. afficher un historique de ces voisin \n",
    "4. proposer un aménagement possible avec la plus proche configuration et qui a un score très faible de gravité."
   ]
  },
  {
   "cell_type": "markdown",
   "metadata": {},
   "source": [
    "<mark>Application :</mark> \n",
    "- input : [ 'lum', 'agg', 'int', 'catr', 'circ', 'nbv', 'vosp', 'prof', 'plan',\n",
    " 'lartpc', 'larrout', 'infra', 'situ', 'obs', 'obsm']\n",
    " \n",
    " Les inputs doievent être compréhensible par l'utilisateur, donc c'est à nous de faire le traitement des valeurs saisies pour qu'elles cohérentes avec les données d'apprentissage et du test\n",
    " \n",
    "- output :  ['risk_gravity'] \n",
    "\n",
    " un score de risque de gravité avec la probabilité associée"
   ]
  },
  {
   "cell_type": "code",
   "execution_count": null,
   "metadata": {
    "collapsed": true
   },
   "outputs": [],
   "source": []
  }
 ],
 "metadata": {
  "kernelspec": {
   "display_name": "Python 3",
   "language": "python",
   "name": "python3"
  },
  "language_info": {
   "codemirror_mode": {
    "name": "ipython",
    "version": 3
   },
   "file_extension": ".py",
   "mimetype": "text/x-python",
   "name": "python",
   "nbconvert_exporter": "python",
   "pygments_lexer": "ipython3",
   "version": "3.6.3"
  }
 },
 "nbformat": 4,
 "nbformat_minor": 2
}
